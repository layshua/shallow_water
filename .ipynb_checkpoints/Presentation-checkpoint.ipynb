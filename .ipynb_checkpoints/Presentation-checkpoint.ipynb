{
 "cells": [
  {
   "cell_type": "markdown",
   "metadata": {
    "slideshow": {
     "slide_type": "slide"
    }
   },
   "source": [
    "# Solving the Shallow Water Equations using Finite Volumes and Lax-Friedrichs\n",
    "---\n",
    "Nathan Brei\n",
    "\n",
    "Technical University of Munich\n",
    "\n",
    "14 December 2017\n"
   ]
  },
  {
   "cell_type": "markdown",
   "metadata": {
    "slideshow": {
     "slide_type": "slide"
    }
   },
   "source": [
    "# Shallow Water Equations (1-D)\n",
    "Mass and momentum conservation on a fluid in a channel of unit width\n",
    "* Assume negligible vertical velocity\n",
    "* Assume constant horizontal velocity $u(x)$ across any cross section $x$\n",
    "* Assume pressure is determined by hydrostatic pressure $p=\\frac{1}{2}\\rho gh^2$\n",
    "\n",
    "$\\begin{bmatrix}h \\\\ hu \\end{bmatrix}_t + \\begin{bmatrix}hu \\\\ hu^2 + \\frac{1}{2}gh^2\\end{bmatrix}_x = 0 $\n",
    "\n",
    "Formulate as a general conservation law in differential form: $q_t(x,t) + f(q(x,t))_x = 0$\n",
    "\n",
    "$q := (h, hu) \\in Q$\n",
    "\n",
    "$f : (q_1, q_2) \\mapsto \\begin{bmatrix} q_2\\\\ q_2^2/q_1 + \\frac{1}{2}gq_1^2\\end{bmatrix}$\n"
   ]
  },
  {
   "cell_type": "markdown",
   "metadata": {
    "slideshow": {
     "slide_type": "slide"
    }
   },
   "source": [
    "# Shallow Water Equations (1-D)\n",
    "\n",
    "$q := (h, hu) \\in Q$\n",
    "\n",
    "$f : (q_1, q_2) \\mapsto \\begin{bmatrix} q_2\\\\ q_2^2/q_1 + \\frac{1}{2}gq_1^2\\end{bmatrix}$\n"
   ]
  },
  {
   "cell_type": "code",
   "execution_count": 2,
   "metadata": {
    "collapsed": false,
    "slideshow": {
     "slide_type": "-"
    }
   },
   "outputs": [
    {
     "data": {
      "text/plain": [
       "f (generic function with 1 method)"
      ]
     },
     "execution_count": 2,
     "metadata": {},
     "output_type": "execute_result"
    }
   ],
   "source": [
    "const Float = Float64\n",
    "const G = 9.81f0\n",
    "\n",
    "mutable struct Q\n",
    "    h :: Float\n",
    "    hu :: Float\n",
    "end\n",
    "\n",
    "function f(q :: Q)\n",
    "    Q(q.hu, q.hu^2/q.h + 0.5*G*q.h^2)\n",
    "end"
   ]
  },
  {
   "cell_type": "markdown",
   "metadata": {
    "slideshow": {
     "slide_type": "subslide"
    }
   },
   "source": [
    "## Types and Methods in Julia\n",
    "\n",
    "* Types are composed of primitives, structures, unions, tuples, abstract types\n",
    "* Types are parametric\n",
    "* Type annotations are optional\n",
    "* Inheritance is restricted to abstract types\n",
    "* Type system offers no encapsulation, but does support invariants and immutability\n",
    "* Methods resolved via multiple dispatch (using all arguments rather than the first)\n",
    "\n",
    "## Defining a vector space over Q"
   ]
  },
  {
   "cell_type": "code",
   "execution_count": 217,
   "metadata": {
    "collapsed": false
   },
   "outputs": [
    {
     "data": {
      "text/plain": [
       "* (generic function with 215 methods)"
      ]
     },
     "execution_count": 217,
     "metadata": {},
     "output_type": "execute_result"
    }
   ],
   "source": [
    "import Base.+\n",
    "import Base.-\n",
    "import Base.*\n",
    "\n",
    "function +(lhs::Q, rhs::Q)\n",
    "    Q(lhs.h + rhs.h, lhs.hu + rhs.hu)\n",
    "end\n",
    "\n",
    "function -(lhs::Q, rhs::Q)\n",
    "    Q(lhs.h - rhs.h, lhs.hu - rhs.hu)\n",
    "end\n",
    "\n",
    "function *(a::Real, q::Q)\n",
    "    Q(a*q.h, a*q.hu)\n",
    "end"
   ]
  },
  {
   "cell_type": "markdown",
   "metadata": {
    "slideshow": {
     "slide_type": "slide"
    }
   },
   "source": [
    "## CFL Condition\n",
    "* Necessary condition for numerical stability\n",
    "* Information propagates through the spatial domain at finite speeds\n",
    "* Need {true domain of dependence} $\\subset$ {numerical domain of dependence}\n",
    "\n",
    "$ \\nu := \\lvert\\frac{\\bar{u}\\Delta t}{\\Delta x} \\rvert = \\frac{\\Delta t}{\\Delta x} \\lvert \\lambda_{max} \\rvert  \\leq 1 $\n",
    "\n",
    "* Physical wave speeds determined by eigenvalues of flux Jacobian\n",
    "\n",
    "$f'(q) = \\begin{bmatrix}0 & 1 \\\\ -u^2 + gh & 2u \\end{bmatrix}$\n",
    "\n",
    "$\\lambda_{max} = \\max\\ \\lvert u \\pm \\sqrt{gh} \\rvert$\n",
    "\n"
   ]
  },
  {
   "cell_type": "code",
   "execution_count": 218,
   "metadata": {
    "collapsed": false,
    "slideshow": {
     "slide_type": "fragment"
    }
   },
   "outputs": [
    {
     "data": {
      "text/plain": [
       "cfl_dt (generic function with 2 methods)"
      ]
     },
     "execution_count": 218,
     "metadata": {},
     "output_type": "execute_result"
    }
   ],
   "source": [
    "function wavespeed(q :: Q)\n",
    "    u = q.hu / q.h\n",
    "    c = sqrt(G * q.h)\n",
    "    max(abs(u-c), abs(u+c))\n",
    "end\n",
    "\n",
    "function cfl_dt(qs::Array{Q,1}, dx::Float, correction=1.0::Float)\n",
    "    lambda = map(wavespeed,qs) |> maximum\n",
    "    dx / lambda * correction\n",
    "end"
   ]
  },
  {
   "cell_type": "markdown",
   "metadata": {
    "slideshow": {
     "slide_type": "slide"
    }
   },
   "source": [
    "## Finite Volumes\n",
    "Let $C_i := (x_{i-1/2}, x_{i+1/2})$ represent a grid cell in our spatial domain.\n",
    "\n",
    "$$\\frac{d}{dt} \\int_{C_i} q(x,t) dx = f(q(x_{i-1/2},t)) - f(q(x_{1+1/2},t))$$"
   ]
  },
  {
   "cell_type": "markdown",
   "metadata": {
    "slideshow": {
     "slide_type": "fragment"
    }
   },
   "source": [
    "Integrate both sides with respect to time:\n",
    "\n",
    "$$\\int_{C_i} q(x,t_{n+1})dx - \\int_{C_i} q(x,t_n) dx = \\int_{t_n}^{t_{n+1}} f(q(x_{i-1/2},t))dt - \\int_{t_n}^{t_{n+1}} f(q(x_{i+1/2},t))dt $$\n",
    "\n",
    "Let $Q_{i}^{n} \\approx \\frac{1}{\\Delta x} \\int_{C_i} q(x,t_n) dx $ be the appx. average $q$ in cell $i$ at time $n$.\n",
    "\n",
    "Let $F_{i+1/2}^{n} \\approx \\frac{1}{\\Delta t} \\int_{t_n}^{t_{n+1}} f(q(x_{i+1/2},t))dt$ be the appx. average flux $f$ from cell $i$ into $i+1$."
   ]
  },
  {
   "cell_type": "markdown",
   "metadata": {
    "slideshow": {
     "slide_type": "fragment"
    }
   },
   "source": [
    "Rearranging, we get a general update scheme\n",
    "\n",
    "$Q_{i}^{n+1} = Q_{i}^{n} - \\frac{\\Delta t}{\\Delta x}(F_{i+1/2}^{n} - F_{i-1/2}^{n}) $"
   ]
  },
  {
   "cell_type": "markdown",
   "metadata": {
    "slideshow": {
     "slide_type": "slide"
    }
   },
   "source": [
    "# Update scheme as code\n",
    "\n",
    "$Q_{i}^{n+1} = Q_{i}^{n} - \\frac{\\Delta t}{\\Delta x}(F_{i+1/2}^{n} - F_{i-1/2}^{n}) $"
   ]
  },
  {
   "cell_type": "code",
   "execution_count": 219,
   "metadata": {
    "collapsed": false
   },
   "outputs": [
    {
     "data": {
      "text/plain": [
       "update_qs! (generic function with 1 method)"
      ]
     },
     "execution_count": 219,
     "metadata": {},
     "output_type": "execute_result"
    }
   ],
   "source": [
    "function update_qs!(qs::Array{Q,1}, Fl::Array{Q,1}, Fr::Array{Q,1}, \n",
    "                   ncells::Int, dx::Float, dt::Float)\n",
    "    \n",
    "    for x = 2:ncells+1\n",
    "        qs[x] -= dt/dx * (Fr[x] + Fl[x-1])\n",
    "    end\n",
    "end"
   ]
  },
  {
   "cell_type": "markdown",
   "metadata": {},
   "source": [
    "| Math              | Code        | Description |\n",
    "|----------------   |-------------|-------------|\n",
    "|  $Q_{i}^{n}$      | ```qs[x]``` | 1D array of Q containing solution states\n",
    "|  $F_{i+1/2}^{n}$  | ```Fr[x]``` | 1D array of Q containing flux flowing out on the right \n",
    "|  $F_{i-1/2}^{n}$  | ```Fl[x]``` | 1D array of Q containing flux flowing in on the left\n",
    "\n",
    "* Each buffer is of length ```ncells+2```, accounting for ghost cells at either end\n",
    "* Functions suffixed with a ! update one or more of their buffers in-place"
   ]
  },
  {
   "cell_type": "markdown",
   "metadata": {
    "slideshow": {
     "slide_type": "slide"
    }
   },
   "source": [
    "# Timestepping loop"
   ]
  },
  {
   "cell_type": "code",
   "execution_count": 41,
   "metadata": {
    "collapsed": false,
    "slideshow": {
     "slide_type": "-"
    }
   },
   "outputs": [
    {
     "data": {
      "text/plain": [
       "run_experiment (generic function with 1 method)"
      ]
     },
     "execution_count": 41,
     "metadata": {},
     "output_type": "execute_result"
    }
   ],
   "source": [
    "function run_experiment(stoptime, ncells::Int, choose_dt,\n",
    "                        solve_riemann!, apply_bcs!, apply_ics)\n",
    "\n",
    "    qs = apply_ics(ncells)\n",
    "    Fl = Array{Q,1}(ncells+2)\n",
    "    Fr = Array{Q,1}(ncells+2)\n",
    "\n",
    "    currenttime = 0\n",
    "    timesteps = 0\n",
    "    dx = Float(1000.0/ncells)\n",
    "    \n",
    "    while currenttime < stoptime\n",
    "        apply_bcs!(qs)\n",
    "        dt = choose_dt(qs, dx)\n",
    "        solve_riemann!(qs, Fl, Fr, ncells, dx, dt)\n",
    "        update_qs!(qs, Fl, Fr, ncells, dx, dt)\n",
    "        currenttime += dt\n",
    "        timesteps += 1\n",
    "    end\n",
    "    return (qs, currenttime, timesteps)\n",
    "end"
   ]
  },
  {
   "cell_type": "markdown",
   "metadata": {
    "slideshow": {
     "slide_type": "slide"
    }
   },
   "source": [
    "# Timestepping loop for animations\n",
    "* Global timesteps correspond to clean increments of physical time\n",
    "* An outer loop controls global timesteps by iterating over stoptime\n",
    "* Local timesteps correspond to increments of dt\n",
    "* Local timesteps go up to stop time exactly"
   ]
  },
  {
   "cell_type": "code",
   "execution_count": 113,
   "metadata": {
    "collapsed": false,
    "slideshow": {
     "slide_type": "-"
    }
   },
   "outputs": [
    {
     "data": {
      "text/plain": [
       "run_experiment! (generic function with 2 methods)"
      ]
     },
     "execution_count": 113,
     "metadata": {},
     "output_type": "execute_result"
    }
   ],
   "source": [
    "function run_experiment!(qs, Fl, Fr, \n",
    "                         currenttime::Real, stoptime::Real, \n",
    "                         ncells::Int, \n",
    "                         choose_dt, solve_fluxes!, apply_bcs!)\n",
    "\n",
    "    timesteps = 0\n",
    "    dx = Float(1000.0/ncells)\n",
    "    \n",
    "    while currenttime < stoptime\n",
    "        apply_bcs!(qs)\n",
    "        dt = choose_dt(qs, dx)\n",
    "        if currenttime + dt > stoptime\n",
    "            dt = stoptime - currenttime\n",
    "        end\n",
    "        solve_fluxes!(qs, Fl, Fr, ncells, dx, dt)\n",
    "        update_qs!(qs, Fl, Fr, ncells, dx, dt)\n",
    "        currenttime += dt\n",
    "        timesteps += 1\n",
    "    end\n",
    "    return (qs, currenttime, timesteps)\n",
    "end"
   ]
  },
  {
   "cell_type": "markdown",
   "metadata": {
    "slideshow": {
     "slide_type": "slide"
    }
   },
   "source": [
    "# Lax-Friedrichs Solver\n",
    "* Input:  Buffers for $q(x), F_l(x), F_r(x)$, cell and timestep sizes\n",
    "* Output: Updated inter-cell flux buffers"
   ]
  },
  {
   "cell_type": "code",
   "execution_count": 40,
   "metadata": {
    "collapsed": false,
    "slideshow": {
     "slide_type": "-"
    }
   },
   "outputs": [
    {
     "data": {
      "text/plain": [
       "lxf! (generic function with 1 method)"
      ]
     },
     "execution_count": 40,
     "metadata": {},
     "output_type": "execute_result"
    }
   ],
   "source": [
    "function lxf!(qs::Array{Q,1}, Fl::Array{Q,1}, Fr::Array{Q,1}, \n",
    "              ncells::Int, dx::Float, dt::Float)\n",
    "    \n",
    "    a = dx/dt\n",
    "    \n",
    "    for x = 2:ncells+2\n",
    "\n",
    "        ql = qs[x-1]\n",
    "        qr = qs[x]\n",
    "        fl = f(ql)\n",
    "        fr = f(qr)        \n",
    "\n",
    "        Fr[x-1] = 0.5*((fr - fl) - a*(qr - ql))\n",
    "        Fl[x-1] = 0.5*((fr - fl) + a*(qr - ql))\n",
    "    end\n",
    "end"
   ]
  },
  {
   "cell_type": "code",
   "execution_count": 188,
   "metadata": {
    "collapsed": false,
    "slideshow": {
     "slide_type": "skip"
    }
   },
   "outputs": [
    {
     "data": {
      "text/plain": [
       "plotxh! (generic function with 1 method)"
      ]
     },
     "execution_count": 188,
     "metadata": {},
     "output_type": "execute_result"
    }
   ],
   "source": [
    "# Set up plotting infrastructure\n",
    "using Plots\n",
    "pyplot()\n",
    "\n",
    "function plotxh(qs, title)\n",
    "    xs = linspace(0,1,length(qs))\n",
    "    hs = map(q->q.h, qs)\n",
    "    plot(xs, hs, title=title, xlabel=\"x [m]\", ylabel=\"height [m]\", ylim=(0.,2.5), legend=false)\n",
    "end\n",
    "\n",
    "function plotxhul(qs, title)\n",
    "    p0 = plot(map(q->q.h, qs), xlabel=\"x [m]\", ylabel=\"height [m]\", title=title)\n",
    "    p1 = plot(map(q->q.hu, qs), xlabel=\"x [m]\", ylabel=\"hu\")\n",
    "    p2 = plot(map(wavespeed, qs), xlabel=\"x [m]\", ylabel=\"\\$\\\\lambda_{max}\\$ [m/s]\")\n",
    "    plot(p0,p1,p2,layout=(3,1),legend=false)\n",
    "end\n",
    "\n",
    "function plotxhs(qss, labels, title)\n",
    "    p = plot(title=title, xlabel=\"x [m]\", ylabel=\"height [m]\", ylim=(0.,2.5))\n",
    "    for i=1:length(qss)\n",
    "        x = linspace(0,1,length(qss[i])-2)\n",
    "        plot!(x, map(q->q.h, qss[i]), label=labels[i])\n",
    "    end\n",
    "    p\n",
    "end\n",
    "\n",
    "function plotxh(title)\n",
    "    plot(title=title, xlabel=\"x [m]\", ylabel=\"height [m]\", ylim=(0.,2.5))\n",
    "end\n",
    "\n",
    "function plotxh!(p, qs, label)\n",
    "    xs = linspace(0,1,length(qs))\n",
    "    hs = map(q->q.h, qs)\n",
    "    plot!(p, xs, hs, label=label)\n",
    "end\n",
    "    \n"
   ]
  },
  {
   "cell_type": "markdown",
   "metadata": {
    "slideshow": {
     "slide_type": "slide"
    }
   },
   "source": [
    "# Gaussian Initial Condition"
   ]
  },
  {
   "cell_type": "code",
   "execution_count": 106,
   "metadata": {
    "collapsed": false,
    "slideshow": {
     "slide_type": "-"
    }
   },
   "outputs": [
    {
     "data": {
      "text/html": [
       "<img src=\"data:image/png;base64,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\" />"
      ]
     },
     "execution_count": 106,
     "metadata": {},
     "output_type": "execute_result"
    }
   ],
   "source": [
    "function gaussian_ics(ncells::Int)\n",
    "    qs = Array{Q,1}(ncells+2)\n",
    "    mid = ncells / 2.0 + 1\n",
    "    for x = 1:ncells+2\n",
    "        pos_rel = (mid-x) / (ncells/10.0)\n",
    "        qs[x] = Q(exp(-pos_rel^2) + 1, 0.0)\n",
    "    end\n",
    "    return qs\n",
    "end\n",
    "plotxh(gaussian_ics(100), \"Gaussian initial conditions\")"
   ]
  },
  {
   "cell_type": "markdown",
   "metadata": {
    "slideshow": {
     "slide_type": "slide"
    }
   },
   "source": [
    "# Breaking Dam Initial Conditions"
   ]
  },
  {
   "cell_type": "code",
   "execution_count": 107,
   "metadata": {
    "collapsed": false
   },
   "outputs": [
    {
     "data": {
      "text/html": [
       "<img src=\"data:image/png;base64,iVBORw0KGgoAAAANSUhEUgAAAlgAAAGQCAYAAAByNR6YAAAABHNCSVQICAgIfAhkiAAAAAlwSFlzAAAPYQAAD2EBqD+naQAAIABJREFUeJzt3Xt8FNX9//H3JhtyMwkECBIhCQQQkXAtGIVyFbGoEBFF/VW5WAEplvaBhbYqoFJEgXwLWkVtBakVW4UvAhYrckcBQW6VChIkJEAENSGBQAJJzu8PzH5ZdhMSMrubXV7Px4MH7MzZmc/mDMubM2dmbMYYIwAAAFgmyNcFAAAABBoCFuBBSUlJSkpKqlLbqVOnymazad26dR6tyQqZmZmy2WwaPny4r0u5rF69eslms9V4OzabTb169arWe6rT/xXxp+OiOtz1y4IFC2Sz2bRgwYIqb2fdunWy2WyaOnWqtQUCNUTAgl8o/wf90l+RkZFq166dnnnmGZ0+fdrXZeIqM3z4cNlsNmVmZvq6lIB2JeEW8DW7rwsAqiM5OVk///nPJUnGGH333XdauXKlpk6dqo8++kibNm1ScHCwj6u8MuPGjdP999+vhIQEX5cSUBYuXKgzZ87UeDtfffWVIiIiqvWe1atX13i/V5O7775bqampaty4cZXf07VrV3311Vdq0KCBBysDqo+ABb/SokULl1MBxcXFuvnmm7VlyxatX79effr08U1xNdSgQQP+kfAAqwJr69atq/2e5ORkS/Z9tYiJiVFMTEy13hMREXFFfQN4GqcI4fdCQ0PVu3dvSdL333/vtK58DszJkyc1btw4NW3aVHa73WmOx6lTpzRlyhTdeOONCg8PV926ddW/f39t2rTJZV9ffPGFxo0bp7Zt2yomJkbh4eFKSUnRjBkzdP78+SrXnJ6erqCgIPXt21enTp2S5H6uzcVznTIyMnT33XerXr16ioyM1K233qrdu3e73f769evVo0cPRUZGqn79+ho6dKiys7OrPR+ptLRUL7zwglq0aKGwsDC1aNFCzz//vMrKyty2X7t2rUaOHKnrr79e11xzja655hr95Cc/0euvv+62ffmpn6NHj+rBBx9UgwYNFBUVpTvuuEPffPONpAsjR2lpaYqNjVVUVJSGDBmi48ePV/kzXG6uz8cff6xbbrlFERERql+/voYNG6YffvihwlrLJSUl6a233pIkNWvWzHHa+tI2l87BOnbsmKZMmaLU1FTFxcUpNDRUSUlJGjt2rE6cOFHlz1WZEydOaMKECbr++usVHh6u2NhY3XTTTZo1a5ZL2+XLl6t3796O47l9+/ZKT09XSUmJU7srPRY3bdqknj17uhyL7lw6B6t8fpV04Zi+eHrApW3czcH68ssvdd999zl+zs2aNdOvf/1rt/1b3lenT5/W+PHjFR8fr9DQULVr107vv/++S/v8/HxNnjxZbdq00TXXXKPo6Gi1aNFCw4YN0+HDh91+PlxdGMGC3zt37pzjS7ZDhw4u64uLi9WnTx+dPn1aAwcOlN1uV6NGjSRJubm56tGjh/bu3atu3bppzJgxKigo0AcffKDevXvrvffeU1pammNbb7zxhpYvX64ePXpowIABOnPmjNatW6ff//732rZtmxYvXlxprcYYTZo0STNnztS9996rt99+W3Xq1LnsZ8zMzFRqaqpuvPFGjRw5UgcPHnTU+NVXXzk+jyR9/PHHuuOOOxQcHKyhQ4cqPj5ea9euVffu3VWvXr2q/lglSaNGjdKbb76pZs2a6Ze//KWKioqUnp6uzz77zG37F154QRkZGUpNTdXdd9+tkydP6qOPPtLo0aO1f/9+zZ492+U9eXl56t69u6699loNGzZMX3/9tVasWKF9+/bpgw8+0E9/+lN17txZI0eO1BdffKHFixcrNzdXa9asqdZncWfZsmX68MMPddddd+mWW27Rhg0btHDhQh08eNBtwL7Yr3/9ay1YsEC7d+/W+PHjVbduXUm67KT2DRs2aPbs2erbt69uuukmhYSEaOfOnXr11Vf173//Wzt27Kj2KM7F9u/fr969eysnJ0fdu3dXWlqaCgsLtXfvXk2fPl1PPPGEo216eromTJig2NhYPfjgg4qMjNSyZcs0YcIEbdy4UUuWLHEJp9U5FlevXq2f/exnCgoKchyLq1evVrdu3ap0LCYlJWnKlCl65plnlJiY6HRRhbu/6xfbtGmT+vfvr3PnzmnIkCFKSkrS5s2bNWfOHK1YsUJbtmxxGTE+f/68brvtNuXl5emee+7RmTNn9O677+q+++7TRx99pNtuu03Shb/H/fv319atW9WtWzfdfvvtCgoK0uHDh7Vs2TI99NBDSkxMvOznQ4AzgB84dOiQkWSSk5PNlClTzJQpU8zkyZPN2LFjTXJysgkLCzMzZ850eV9iYqKRZPr372/OnDnjsv7BBx80kswbb7zhtPz48eOmadOmpmHDhubs2bOO5YcPHzYlJSVObcvKyszIkSONJLNp0yaX/ScmJhpjjDl//rx5+OGHjSTzy1/+0pSWljq1nTJlipFk1q5d6/K5JZkZM2Y4tX/qqaeMJPP88887lpWUlJjExERjs9nMxo0bndqX77uqf+3Xrl1rJJn27dub06dPO5YfOXLENGjQwEgyw4YNc3rPN99847Kd8+fPm379+png4GBz+PBhp3Xl9fzmN79xWv7YY48ZSaZu3brmT3/6k2N5WVmZGTBggJFkvvjiiyp9jp49e7p85vnz5xtJxm63O/VZSUmJ6dWrl5FkNm/e7FJrz549nZYNGzbMSDKHDh1yu++L+7/c8ePHzalTp1zavvXWW0aSmTZtmtNyd8dFZX7yk58YSeb11193WZedne34c0ZGhrHb7SYuLs5kZWU5lhcVFZnu3bsbSWbhwoWO5dU9FktLS03z5s1djsWysjLH37uK+mX+/PlOy9397MuVH6dTpkxx2ndycrKRZD766COn9r/97W+NJDNy5Ein5eXfFYMGDTLFxcWO5Z988onjO6Tcnj17jCSTlpbmUk9RUZHb/sXVh4AFv3Dxl7u7X3feeafZuXOny/vKvzR3797tsu67774zwcHBpk+fPm73OXfuXCPJLF++/LL1ffHFF0aSmTp1qsv+ExMTTWFhoSMYPPPMM263UVnAatasmUsgK183ePBgx7J169YZSWbgwIEu28/KyjLBwcFVDlgjRowwkszixYtd1j333HNuA1ZFFi9ebCSZBQsWOC2XZK655hpTWFjotHzDhg2OQF1WVua0buHChUaSefPNN6u078oC1sMPP+zSvnzd3LlzXWq1ImBVpKyszERHR5tevXo5La9OwNq6dauRZHr06HHZts8++6yRZF544QWXdZ9++qmR5PR3o7rH4vr1640kc9ddd7lsPzMz0+2xaFXAKj9+fvazn7m0P3XqlImNjTVhYWFOQar8u8LdfxISExNNbGys43V5wHrggQfc1gQYYwynCOFX+vfvr48++sjx+ocfftCnn36q8ePHq1u3blqzZo1uuukmp/eEhYUpJSXFZVvbtm1TaWmpiouL3c7fOHDggCRp3759uvPOOyVdOB358ssv691339W+fft0+vRpmYsehnDs2DGX7Zw9e1Z9+/bV559/rnnz5mn06NHV/twdOnRQUJDzlMkmTZpIkk6ePOlYVj4Ppnv37i7baNq0qRISEnTo0KEq7bN8Wz/96U9d1rlbJl2YzzZr1iwtXbpUBw8eVGFhodN6dz+fli1bulydV34VWbt27VxOUZWvc7et6urcubPLMnc/V6stWbJEr732mnbs2KG8vDyVlpY61tXkc33++eeS5DiVVZmdO3dKktvbH9x8880KCwvTrl27XNZV91h0d6wkJiaqadOmHru9RWWfrXxe4Mcff6z9+/c7fTfUrVtXzZo1c3lPkyZNtHnzZsfrG264Qe3atdOiRYt05MgRpaWlqVevXm5/Nrh6EbDg1+rXr6+BAwcqIiJC/fr101NPPaVVq1Y5tYmLi3M7sTs3N1eS9Omnn+rTTz+tcB8Xh4QhQ4Zo+fLlatWqlYYOHaq4uDiFhITo5MmTmjNnjoqLi13ef+rUKe3cuVP169d3TMavrujoaJdldvuFv74X/+NcUFAg6cJndqdRo0ZVDlj5+fkKCgpye2XjxfNsyp07d069evXSjh071LFjRz300EOqX7++7Ha7MjMz9dZbb7n9+VT22SpbV52LCipS1Z+rlWbPnq0nnnhCDRs21G233aYmTZooPDxckvSnP/3J7c+oqvLz8yVJ11133WXblh8r7vrSZrOpUaNGOnr0qMu6qv7Mymup7Fj0VMCq7LNJ/xfSy9uVq2jum91ud7qww263a82aNZo6daoWL16sCRMmSJIaNmyocePG6cknn/Tb28XAOgQsBITyUatt27a5rKvoqrnyfygmTJjg9uqqS23btk3Lly9X//799eGHHzp9gW7ZskVz5sxx+764uDi99tprjv/lrl27Vtdff/1l93clyj9TRVejVefqu5iYGJWVlen7779Xw4YNL7udDz74QDt27NAjjzyiv/zlL07r3n33XccVd1ezkpISPffcc2rcuLF27drlFD6MMXrxxRdrtP3yifbugtGlyo+V48ePu0zINsbo+PHjbsNUVZWHFSuOxeq6+LO58+233zq1uxL169fXSy+9pLlz52rfvn1as2aNXnrpJU2ZMkUhISH6/e9/f8XbRmBgLBMBIS8vT5IqvH2AO126dJHNZnMa+q/MwYMHJclxhd7FNm7cWOl7+/fvr2XLlunkyZPq3bu39u/fX+U6q6N9+/aS5HZE7siRI8rKyqr2ttx9NnfLyn8+gwYNqlL7QFB+HFR1tOv7779Xfn6+br75ZpeRne3bt+vs2bM1qqdr166SLlxJejkdO3aUJLeP4Nm6dauKiooue6VeZSo7fg4fPlzhrRrcCQoKqtaIYmWfrbCwUNu3b1d4eLgl/9Gx2Wy64YYb9Mtf/tIxer5s2bIabxf+j4CFgJCeni5J6tGjR5Xfc+211+q+++7TZ599ppkzZzrNpSq3detWx13Ay/+Xf+nl+3v37tXzzz9/2f3169dPy5cv18mTJ9WrVy/t27evyrVWVffu3ZWQkKDly5e7BMenn366Wv9IPfTQQ5KkZ5991uk06dGjR92O1lX081m/fr3eeOONKu/Xn8TGxkpSlcNCXFycwsPDtWPHDqe7y+fl5enxxx+vcT1dunRRly5dtGHDBrc/84tHth588EHZ7Xalp6c7zfs6d+6cJk2aJEk1etZk9+7d1axZM61YscLpmDDG6A9/+EO1jsXY2FgdOXKkyu27deum5ORkrVy5Up988onTumnTpumHH37QAw88UKVbpLiTmZnp9vRm+YhZWFjYFW0XgYVThPArGRkZThPSc3Nz9emnn2rHjh2qV6+eXnjhhWpt75VXXtH+/fs1ceJE/e1vf9PNN9+sunXrKjs7W9u3b9eBAweUk5OjiIgIde3aVV27dtU///lP5eTkKDU1VVlZWVq2bJnuuOMOtzcjvFTfvn21YsUK3XXXXerdu7fWrFmjG264obo/hgoFBwdr3rx5GjhwoPr06aOhQ4eqcePGWr9+vY4ePar27dtrz549VdpW7969NWLECM2fP18pKSm6++67VVxcrH/84x9KTU3VihUrnNrfddddSkpK0osvvqgvv/xSbdu21f79+7VixQrdfffdVfr5+Js+ffpo1qxZGjVqlO655x5FRkYqMTHREU4vFRQUpLFjx2r27Nlq37697rrrLhUUFGjlypVKTExUfHx8jWv6+9//rl69emnUqFGOY7qoqEh79+7Vzp07HTfZTE5O1gsvvKAJEyaoXbt2uu+++xQZGanly5dr//79GjRokOOxVFciKChIr7/+ugYMGKBbb73VcR+sNWvWKCcnR+3atavysdinTx/985//VFpamjp27Kjg4GANHDhQ7dq1q3DfCxYsUP/+/TVgwADde++9SkxM1ObNm7Vu3TolJydrxowZV/zZdu3apcGDB6tr165q06aNrr32Wh09elRLly5VUFCQfvOb31zxthFAfHoNI1BFFd2mITQ01CQnJ5vHHnvM5R5LxlTtMvkzZ86YF1980XTu3NlERkaa8PBw06xZM5OWlmYWLlxozp8/72h74sQJM3LkSBMfH2/CwsJMSkqK+fOf/2y++eYbt7ctqGj/a9euNZGRkaZRo0Zm7969xpjKb9NQ0e0QVMHl62vWrDHdu3c34eHhJjY21tx7770mKyvLtG3b1sTExFT687hYSUmJef75503z5s1NnTp1TPPmzc306dNNRkZGhffBuueee0zDhg1NRESE6dKli3n33XfdXkpfWf2Vfe6KtlWRym7TcOntACrbfkW1vvjii6Zly5YmJCTEpY27/j937pz54x//aFq2bGlCQ0NNQkKCmTBhgjl16pTb9tW9D5Yxxnz77bdm/Pjxjn6LjY01N910k0lPT3dp+8EHH5iePXuaqKgoExoaalJSUszs2bOdjntjrvxY3LBhg+nRo4fTsXj48OFq9UtOTo657777TIMGDUxQUJBTm8qOhz179pghQ4aYBg0amJCQEJOYmGjGjx9vvvvuO5e2lX1XXFprdna2+d3vfmdSU1NNXFycqVOnjklISDCDBw92uX8arl42Y9ycFwEQcE6dOqVGjRopJSVFW7du9XU5ABDQmIMFBJjCwkLH8w3LlZaW6re//a3Onj3r9OgfAIBnMIIFBJhdu3ape/fu6t+/v5o3b65Tp05p48aN+u9//6sbb7xRW7duVWRkpK/LBICARsACAsx3332niRMnav369Tp+/LhKSkqUkJCgtLQ0Pfnkk457JQEAPMejAauoqEj333+//vvf/yo8PFxxcXF69dVX1aJFC6d2mZmZSk5OdnpkweLFi5WcnOyp0gAAADzG4wFrzZo1+tnPfiabzaaXX35Z77//vsvN3zIzM9WhQwePPvsLAADAWzw6yT0sLEwDBgxwPKokNTXVY8+eAgAAqC28eqPROXPmuH2MhnThyqfOnTvLGOOYK+LuYZnGGH3//feqU6eO0zPmQkNDFRoa6rHaAQAAqsprk9ynT5+u5cuXa/Xq1YqIiHBaV1xcrPz8fMXFxSk3N1dDhw5Vv379NHHiRJftFBQUuH3i+cSJEx2Pd4BvFRQU1OghqvA++sz/0Gf+hz7zP9Xps/JHZ5XzygjWrFmztGTJEn3yyScu4Uq6MPpU/uDT2NhYjRw5Uu+8847bgFUuOzvb6UMzglW7XHqgofajz/wPfeZ/6DP/c6V95vGAlZ6erkWLFumTTz6p8PLwEydOqF69egoJCVFxcbGWLFnieBp6RaKjo/mfAAAAqJU8Osn9yJEjmjBhgk6ePKnevXurQ4cOuummmyRJkydP1rx58yRJmzZtUseOHdW+fXt16tRJ1157rZ588klPlgYAAOAxfnej0fI5WPn5+Yxg1VK5ubkMg/sZ+sz/0Gf+hz7zPzXpM55FCAAAYDECFgAAgMUIWAAAABYjYAEAAFiMgAUAAGAxAhYAAIDFCFgAAAAWI2ABAABYjIAFAABgMQIWAACAxQhYAAAAFiNgAQAAWIyABQAAYDECFgAAgMUIWAAAABYjYAEAAFiMgAUAAGAxAhYAAIDFCFgAAAAWI2ABAABYjIAFAABgMQIWAACAxQhYAAAAFiNgAQAAWIyABQAAYDECFgAAgMUIWAAAABYjYAEAAFiMgAUAAGAxAhYAAIDFCFgAAAAWI2ABAABYjIAFAABgMQIWAACAxQhYAAAAFiNgAQAAWIyABQAAYDECFgAAgMUIWAAAABYjYAEAAFiMgAUAAGAxAhYAAIDFCFgAAAAWI2ABAABYjIAFAABgMQIWAACAxQhYAAAAFiNgAQAAWIyABQAAYDECFgAAgMUIWAAAABYjYAEAAFiMgAUAAGAxAhYAAIDFCFgAAAAWI2ABAABYjIAFAABgMQIWAACAxQhYAAAAFvNowCoqKlJaWppatWql9u3bq1+/fsrIyHDbdsWKFWrdurVatmypwYMHq6CgwJOlAQAAeIzHR7BGjRql/fv3a/fu3Ro0aJB+8YtfuLQ5ffq0HnnkES1dulQHDhxQfHy8nnvuOU+XBgAA4BEeDVhhYWEaMGCAbDabJCk1NVWZmZku7VauXKmOHTuqdevWkqSxY8dq0aJFniwNAADAY+ze3NmcOXM0aNAgl+VZWVlKTEx0vE5KSlJOTo5KSkpkt7svMf7tc7KFn3Ne+GOQg28Zc41stvO+LgPVEKh9FlNH2jXYrgZhfDcA8C6vBazp06crIyNDq1evtmR7he89JdlDHa979+6jvn37WLJt1MyZM2cVERHu6zJQDYHYZ8fOBumVA3X05bF8tatb5utyLJeXl+frElBN9Jn/qU6fxcbGOr32SsCaNWuWlixZok8++UQREREu6xMSErRq1SrH68zMTDVu3LjC0StJyv7bU4qOjna8Dg0NVWhoaIXt4T25uecVGxvl6zJQDYHYZ//NM3rlQIlCIqIVGxuYF0xf+oWO2o8+8z9X2mce/9ZJT0/XokWLtGrVKtWtW9dtm9tvv107duzQvn37JEmvvPKK7r///kq3Gx0d7fSLcAXgYpE//v/sTIlv6wBwdfLoCNaRI0c0YcIENW/eXL1795Z0YaRp69atmjx5suLj4zVmzBhFRUXpL3/5i9LS0lRSUqK2bdvqrbfe8mRpAAJcxI/fboUELAA+4NGA1aRJExlj3K579tlnnV4PHDhQAwcO9GQ5AK4iEYxgAfChwJyYAOCqF07AAuBDBCwAASnIZlN4sFRY4n4UHQA8iYAFIGBF2BnBAuAbBCwAASsyRCoMvPunAvADBCwAAYsRLAC+QsACELAIWAB8hYAFIGBF2m1McgfgEwQsAAGLESwAvkLAAhCwCFgAfIWABSBgRdp5VA4A3yBgAQhYEXYbI1gAfIKABSBgRdqlM0xyB+ADBCwAASuCU4QAfISABSBgMckdgK8QsAAErMgQAhYA3yBgAQhY5ZPcywzzsAB4FwELQMCKsF/4vajUt3UAuPoQsAAErMgfAxanCQF4GwELQMAqH8EqPO/bOgBcfQhYAAJWBCNYAHyEgAUgYEXabZIIWAC8j4AFIGA5ThFyN3cAXkbAAhCwOEUIwFcIWAACFlcRAvAVAhaAgPV/pwh9WweAqw8BC0DACg2WbJLOMAcLgJcRsAAELJvNxvMIAfgEAQtAQIuwc6NRAN5HwAIQ0CLt0hmeRQjAywhYAAJahJ1ThAC8j4AFIKBF2G0qPM8kdwDeRcACENAiGcEC4AMELAABjVOEAHyBgAUgoEXYudEoAO8jYAEIaJwiBOALBCwAAS3CblMhd3IH4GUELAABjTlYAHyBgAUgoPGoHAC+QMACENAigpnkDsD7CFgAAhqnCAH4AgELQECLDLGpuFQqLWOiOwDvIWABCGgR9gu/M4oFwJsIWAACGgELgC8QsAAEtEgCFgAfIGABCGjlI1hcSQjAmwhYAAJapN0mSTrD3dwBeBEBC0BAYw4WAF8gYAEIaJwiBOALBCwAAS0y5MLvjGAB8CYCFoCAxilCAL5AwAIQ0EKCbLLbpEImuQPwIgIWgIAXGcIIFgDvImABCHg88BmAtxGwAAS8CLtUeN7XVQC4mhCwAAS8SEawAHgZAQtAwIuw27iTOwCvImABCHgRdm40CsC77JK0Y8eOK3pzmzZtFBYWZmlBAGA1ThEC8Da7JP3kJz+RzWar8puMMbLZbNq2bZs6depUadtf/epXWrZsmQ4fPqydO3eqQ4cOLm0yMzOVnJyslJQUx7LFixcrOTm5yjUBQEUi7NL3Rb6uAsDVxF7+h5dffllt2rSp0ptKSkp02223VantkCFDNHHiRHXv3r3SdlFRUdq1a1eVtgkA1cEpQgDe5ghYnTt3VteuXav0ptLSUhlTtQmjPXr0uLLKAMAikXabzpSU+boMAFcRuySdPXtWoaGhVX5TcHBwtd9zOYWFhercubOMMUpLS9OTTz6p4ODgCtsXFBQ4vQ4NDbW0HgCBgxuNAvA2u6QrCiZWhpnGjRvr6NGjiouLU25uroYOHarZs2dr4sSJFb6nadOmTq8nTpyoSZMmWVYTrlxeXp6vS0A1BXqf2c7X0alzIcrNzfV1KZYJ9D4LRPSZ/6lOn8XGxjq9tlfQTgUFBTpy5IiKilxnhl5uYnt1hYaGKi4uzlHgyJEj9c4771QasLKzsxUdHe20DUawao9LDzTUfoHcZw2iS1VUVhZwnzHQPs/VgD7zP1faZy4B6+jRo3rkkUe0atUql8blVw+WlpZe0c4qcuLECdWrV08hISEqLi7WkiVL1LFjx0rfEx0d7RSwAKAinCIE4G0uAWvYsGH6+uuvNXfuXLVq1Up16tSp0Q5Gjx6tDz/8UN9++6369++vqKgoZWRkaPLkyYqPj9eYMWO0adMmTZ48WcHBwSopKVGfPn305JNP1mi/AFAu0m7T+TLpfJlRSFDVb0kDAFfKZi65HDAqKkpvv/22Bg0a5KuaKlVQUKCYmBjl5+czglVL5ebmMgzuZwK9z977pkz3rS7VyWF2xdQJjIAV6H0WiOgz/1OTPnN5VE6LFi10/jyPnQcQOCJ+HKsv5KsNgJe4BKxZs2Zp2rRp+vrrr31RDwBYLvLHgMU8LADe4jIHq2/fvrr11lvVpk0bxcfHq27duk7rbTabdu/e7bUCAaCmIghYALzMJWBNmjRJ6enp6ty5syWT3AHA1yLsF+ZdFZYYSYExBwtA7eYSsF5//XU9++yzeuqpp3xRDwBYjlOEALzNZQ5WnTp1dNNNN/miFgDwCE4RAvA2l4D16KOP6u233/ZFLQDgEY6rCAlYALzE5RRhdHS01q1bp1tuuUW33nqr20nuv/nNb7xWIADUFCNYALzNJWD97ne/k3ThWX9btmxxeQMBC4C/CQ6yKTRYOlNiLt8YACzgErDKysp8UQcAeFSEnRuNAvAelzlYABCIIu3SGWufUw8AFQqSpGPHjqmkpHqTE44dO6bSUr6tAPiHCDtzsAB4T5AkNW3aVDt27Kjym0pLS9W0aVNZnutDAAAW8ElEQVTu6A7Ab3CKEIA32SXJGKN169bpyJEjVXoT87QA+JtIu41J7gC8xjHJvfzqQQAIRJwiBOBNdkk6dOjQFb05Pj7e0mIAwFMi7dxoFID32CUpMTHR13UAgEdF2KWTZ3xdBYCrBbdpAHBV4BQhAG8iYAG4KkSG2FTIJHcAXkLAAnBVYAQLgDcRsABcFSKCCVgAvMclYC1cuFA//PCD28a5ublauHChx4sCAKtFhnAVIQDvcQlYI0aM0MGDB902PnTokEaMGOHxogDAauWnCI1hHhYAz3MJWJV9+eTl5SkqKsqjBQGAJ0TYbSoz0jkeRAHAC+yStHLlSq1cudKxcPbs2WrUqJFTw6KiIq1Zs0YdOnTwboUAYIHIH59bUXheCg32bS0AAp9dkr7++mstX75ckmSz2bRx40aFhoY6NaxTp47atm2r6dOne79KAKihiB8D1pkSKda3pQC4Ctglafz48Ro/frwkqVmzZlq6dKnat2/v08IAwEoXBywA8DT7pQuu9LmEAFCbRdptkriSEIB3uAQs6cJk9pUrV+rIkSMqKipyWmez2fT00097pTgAsMr/jWAZSTaf1gIg8LkErI8//lhDhgzR6dOnFR4erjp16jitJ2AB8EecIgTgTS4Ba8KECerSpYvefPNNJSYm+qImALBcZMiF3zlFCMAbXALWN998o/T0dMIVgIDCCBYAb3K50WinTp2UnZ3ti1oAwGPCfrz3FSNYALzBJWC9+uqrmjt3rv7973+rpIRvIgCBIchm+/FxOTwqB4Dn2SUpKipKNtv/XVVz7tw5DRgwQEFBQQoPD3d6g81mU35+vnerBAALlD+PEAA8zS5dmNh+ccACgEAUab/wqBwA8DS7JE2dOtXHZQCA5zGCBcBbXOZgAUCgirDbCFgAvMLlNg19+vSpsHFQUJBiYmLUsWNHjRgxQtddd51HiwMAK0XapUImuQPwApcRrJiYGGVkZGjjxo0qKChQWFiYCgoKtHHjRn399dfKy8vT7Nmz1aZNG+3YscMXNQPAFeEUIQBvcQlY9957r+rWrauMjAxt375d//rXv7R9+3YdOHBAMTExGjZsmL755hu1aNFCv//9731RMwBcEQIWAG9xCVjPPPOMpk6d6nIn96SkJE2ZMkXPPfec6tWrpyeeeEJbtmzxWqEAUFMXThH6ugoAVwOXgJWVlVXhLRtsNpuOHj0qSYqPj+dGpAD8CpPcAXiLS8Dq0qWLJk+e7PK4nMOHD2vKlCnq2rWrJCkzM5NJ7gD8CndyB+AtLlcRzps3T/369VNycrJSUlLUsGFDfffdd9qzZ48aNWqk9957T5J0/PhxjRo1yusFA8CVigzhFCEA73AJWG3atNHBgwf15ptvavv27crJyVH79u31i1/8QiNGjFBYWJgkaeLEiV4vFgBqgknuALzFJWBJUlhYmMaOHevtWgDAowhYALyFO7kDuGpE/jjJvcwwDwuAZ9klKTo6WmvXrlXnzp0VFRVV6YOfbTab8vPzvVYgAFgl4scx+6LS//szAHiCXZImTJigxo0bq/zPlQUsAPBX5aHqTAkBC4Bn2SVpypQpjgVTp071VS0A4FGRP4aqwvNSgzDf1gIgsFU6Bys7O1ufffaZCgsLvVUPAHjMxSNYAOBJbgPW66+/ruuuu06JiYn66U9/qv3790uS7r77bs2ZM8erBQKAVSJDLkx/IGAB8DSXgPWnP/1Jjz/+uB5++GF9/PHHMhddbdOrVy/HjUYBwN9EBF/4vZC7uQPwMJdpni+99JKefvppPfXUUyotLXVad/311ztGswDA33CKEIC3uIxgHT16VLfccovbxiEhITp9+rTHiwIAT4gMufA7AQuAp7kErMTERH3++eduG2/dulWtWrXyeFEA4AnlI1g8jxCAp7kErEcffVTTpk3TX//6VxUUFEiSzp8/rw8//FAzZ87U6NGjvV4kAFihTpAUZJPOMAcLgIe5zMF64oknlJWVpVGjRjnCVLdu3SRJY8eO5RmFAPyWzWZTJM8jBOAFbm/TMHfuXB04cEB//vOfNW3aNL388sv66quvNHfu3Grv4Fe/+pWSkpJks9m0a9euCtutWLFCrVu3VsuWLTV48GDH6BkAWCnCfuFGowDgSRXeaLR58+YaPXq0/vCHP2jMmDFq2bLlFe1gyJAh2rRpkxITEytsc/r0aT3yyCNaunSpDhw4oPj4eD333HNXtD8AqEyEXTpTevl2AFATbp/GVVpaqq1bt+rIkSMqKipyWf/www9XeQc9evS4bJuVK1eqY8eOat26taQLpyJvu+02zZw5s8r7AYCqiGQEC4AXuASsHTt2aPDgwcrOzna6yWg5m81WrYBVFVlZWU4jXElJScrJyVFJSYnsdvdPZL30FGJoaKhCQ0MtrQtA4ImuY9PcvWWau7fM16XUUJQkkqJ/oc/8T9X7zDwa4vTaJb089thjiomJ0VtvvaU2bdqoTp06lpRotaZNmzq9njhxoiZNmuSjanCxvLw8X5eAarqa+uz5tkHaeV2wr8uoscIzhYqMiPR1GagG+sz/VK/PLhOw9u7dq/fee089e/a0orYqSUhI0KpVqxyvMzMz1bhx4wpHr6QLD6KOjo52vGYEq3aJjY31dQmopqulz3rESpefuFD75eaeV2xslK/LQDXQZ/6nJn3mMsm9VatWXr+C7/bbb9eOHTu0b98+SdIrr7yi+++/v9L3REdHO/0iXAEAgNrCJWD9z//8j55//nlH2Kmp0aNHq0mTJjpy5Ij69++vFi1aSJImT56sefPmSZKioqL0l7/8RWlpaWrRooWOHDmip59+2pL9AwAAeJvNGGNSUlJks9kcC3NycpSXl6f4+HjVrVvX+Q02m3bv3u3tOh0KCgoUExOj/Px8p1OEqD1yc3OvmtNNgYI+8z/0mf+hz/xPTfrMLkmdO3d2ClgAAAC4cnZJWrBggY/LAAAACBwV3skdAAAAV4aABQAAYDECFgAAgMUIWAAAABYjYAEAAFiMgAUAAGAxAhYAAIDFCFgAAAAWI2ABAABYjIAFAABgMQIWAACAxQhYAAAAFiNgAQAAWIyABQAAYDECFgAAgMUIWAAAABYjYAEAAFiMgAUAAGAxAhYAAIDFCFgAAAAWI2ABAABYjIAFAABgMQIWAACAxQhYAAAAFiNgAQAAWIyABQAAYDECFgAAgMUIWAAAABYjYAEAAFiMgAUAAGAxAhYAAIDFCFgAAAAWI2ABAABYjIAFAABgMQIWAACAxQhYAAAAFiNgAQAAWIyABQAAYDECFgAAgMUIWAAAABYjYAEAAFiMgAUAAGAxAhYAAIDFCFgAAAAWI2ABAABYjIAFAABgMQIWAACAxQhYAAAAFiNgAQAAWIyABQAAYDECFgAAgMUIWAAAABYjYAEAAFiMgAUAAGAxAhYAAIDFCFgAAAAW83jAOnDggG655Ra1atVKXbp00d69e13aZGZmKjg4WB06dHD8OnjwoKdLAwAA8Ai7p3cwevRojRo1SsOHD9f777+v4cOHa9u2bS7toqKitGvXLk+XAwAA4HEeHcE6ceKEtm/frp///OeSpHvuuUfZ2dnKyMjw5G4BAAB8yqMBKzs7W40bN5bdfmGgzGazKSEhQVlZWS5tCwsL1blzZ3Xq1EnPPvusSktLK912QUGB06/i4mKPfAYAAIDq8vgpwqpo3Lixjh49qri4OOXm5mro0KGaPXu2Jk6cWOF7mjZt6vR64sSJmjRpkqdLRRXk5eX5ugRUE33mf+gz/0Of+Z/q9FlsbKzTa48GrKZNmyonJ0clJSWy2+0yxigrK0sJCQlO7UJDQxUXF+cocOTIkXrnnXcqDVjZ2dmKjo522kZoaKhnPgiq7dIDDbUffeZ/6DP/Q5/5nyvtM4+eIoyLi1OnTp309ttvS5IWL16sJk2aqEWLFk7tTpw4ofPnz0uSiouLtWTJEnXs2LHSbUdHRzv9IlwBAIDawuO3aXjttdf02muvqVWrVpoxY4bmz58vSZo8ebLmzZsnSdq0aZM6duyo9u3bq1OnTrr22mv15JNPero0AAAAj7AZY4yvi6iOgoICxcTEKD8/3+kUIWqP3NxchsH9DH3mf+gz/0Of+Z+a9Bl3cgcAALAYAQsAAMBiBCwAAACLEbAAAAAsRsACAACwGAELAADAYgQsAAAAixGwAAAALEbAAgAAsBgBCwAAwGIELAAAAIsRsAAAACxGwAIAALAYAQsAAMBiBCwAAACLEbAAAAAsRsACAACwGAELAADAYgQsAAAAixGwAAAALEbAAgAAsBgBCwAAwGIELAAAAIsRsAAAACxGwAIAALAYAQsAAMBiBCwAAACLEbAAAAAsRsACAACwGAELAADAYgQsAAAAixGwAAAALEbAAgAAsBgBCwAAwGIELAAAAIsRsAAAACxGwAIAALAYAQsAAMBiBCwAAACLEbAAAAAsRsACAACwGAELAADAYgQsAAAAixGwAAAALEbAAgAAsBgBCwAAwGIELAAAAIsRsAAAACxGwAIAALAYAQsAAMBiBCwAAACLEbAAAAAsRsACAACwGAELAADAYgQsAAAAixGwAAAALEbAAgAAsBgBCwAAwGIELFiquLhYL7zwgoqLi31dCqqIPvM/9Jn/oc/8T037zGaMMRbX5OTAgQMaNmyYvv/+e8XExGjBggW68cYbXdqtWLFCTzzxhEpLS5WSkqIFCxYoOjrapV1BQYFiYmKUn5/vdj18i/7xP/SZ/6HP/A995n9q2mceH8EaPXq0Ro0apa+//lqTJk3S8OHDXdqcPn1ajzzyiJYuXaoDBw4oPj5ezz33nKdLAwAA8AiPBqwTJ05o+/bt+vnPfy5Juueee5Sdna2MjAynditXrlTHjh3VunVrSdLYsWO1aNEiT5YGAADgMXZPbjw7O1uNGzeW3X5hNzabTQkJCcrKylKLFi0c7bKyspSYmOh4nZSUpJycHJWUlDjeW678jObRo0dVUFDgWB4aGqrQ0FBPfhxUQXmfXNw3qN3oM/9Dn/kf+sz/XEmfRUVFyWazSfJwwPKEU6dOSZLatGnj40pQmaZNm/q6BFQTfeZ/6DP/Q5/5n+r02cXztTwasJo2beo0EmWMUVZWlhISEpzaJSQkaNWqVY7XmZmZTiNfF4uPj9fBgwcVEhLiSIkSI1gAAMC3oqKiHH/2+FWEvXr10vDhwzV8+HC9//77mjFjhrZv3+7U5tSpU0pOTtaGDRvUunVrjRs3TmFhYZo1a5YnSwMAAPAIjwes/fv3a/jw4frhhx8UHR2t+fPnKyUlRZMnT1Z8fLzGjBkjSVq2bJkmTpyokpIStW3bVm+99ZZiYmI8WRoAAIBHeDxgAQAAXG24kzuuWFFRkdLS0tSqVSu1b99e/fr1c9yC48SJE7r99tvVsmVLtW3bVhs2bPBxtbjY/PnzZbPZtHTpUkn0V21XXFyscePGqWXLlkpJSXHc+oZ+q73+9a9/qVOnTurQoYPjrIxEn9Umv/rVr5SUlCSbzaZdu3Y5llfWR2fOnNEDDzygFi1aqFWrVnr//fcr3oEBrtDZs2fNhx9+aMrKyowxxrz00kumZ8+exhhjRowYYaZMmWKMMebzzz831113nTl37pyPKsXFDh06ZG6++WaTmppq/vd//9cYQ3/Vdr/+9a/NuHHjHH/XcnJyjDH0W21VVlZm6tWrZ3bv3m2MufB3LjQ01BQUFNBntcj69etNdna2SUxMNDt37nQsr6yPnnnmGTNs2DBjjDHffPONadiwofn+++/dbp+ABcts27bNJCYmGmOMiYyMdPwjYIwxXbp0MatWrfJRZShXWlpq+vbta7Zv32569uzpCFj0V+11+vRpExUVZfLz813W0W+1U1lZmYmNjTXr1683xhize/duEx8fb4qLi+mzWujSgFVZH7Vp08Zs3rzZse7ee+81b7zxhtvt+t19sFB7zZkzR4MGDdIPP/yg8+fP69prr3WsS0pKUlZWlg+rgySlp6erW7du6ty5s2MZ/VW7HTx4ULGxsZo+fbo++eQThYeHa+rUqerQoQP9VkvZbDb94x//0ODBgxUZGam8vDwtWbJEp06dos9quct9H7q7MXpF/UfAgiWmT5+ujIwMrV69WmfPnvV1OXDjyy+/1OLFi5nz4WdKSkp0+PBhtWnTRjNmzNDOnTvVr18/7d2719eloQIlJSWaNm2alixZoh49emjbtm0aOHCg0zwfBD4muaPGZs2apSVLlmjlypWKiIhQ/fr1Zbfb9e233zraZGZmutxgFt61ceNGZWZmqmXLlkpKStKWLVs0atQo/fOf/6S/arGEhAQFBQXp//2//ydJ6tixo5o1a6b//Oc/9FsttWvXLh07dkw9evSQJHXp0kVNmjTRnj176LNa7nL/fiUkJOjw4cNu112KgIUaSU9P16JFi7Rq1SrVrVvXsfzee+/VvHnzJEnbtm3T0aNH1bNnT1+VCUmPPfaYcnJylJmZqczMTKWmpur111/XY489Rn/VYg0aNFDfvn3173//W5J06NAhHTp0SDfccAP9VkuVP8Xkq6++kiRlZGTo4MGDuv766+kzP1BZH1287tChQ1q3bp3S0tLcb8hDc8ZwFcjOzjaSTPPmzU379u1N+/btTdeuXY0xxnz77bemX79+pkWLFqZNmzZmzZo1Pq4Wl7p4kjv9VbsdPHjQ9OrVy7Rt29a0a9fOvP/++8YY+q02e+eddxz91bZtW/P3v//dGEOf1SajRo0y1113nQkODjZxcXEmOTnZGFN5H50+fdrcd999pnnz5qZly5bmH//4R4Xb50ajAAAAFuMUIQAAgMUIWAAAABYjYAEAAFiMgAUAAGAxAhYAAIDFCFgAAAAWI2ABuCokJSXJZrPJZrPp7bfftmSbqampjm3OmjXLkm0CCAwELABXjSFDhmjz5s26/fbbLdneX//6V23evNmSbQEILDzsGcBVo1GjRkpNTbVsezfeeKNl2wIQWBjBAuA3CgoKlJiYqCFDhjgtHzNmjOrXr69jx45Ve5u9evXSnXfeqUWLFqlly5aKiIjQXXfdpby8PB0+fFj9+/fXNddcoxtvvFHr1q2z6JMACHQELAB+Izo6WvPnz9eSJUv0t7/9TZK0cuVKvfbaa3rllVcUHx9/RdvduXOn5syZo1mzZmnevHnauHGjHn30UQ0ZMkR33nmnlixZori4OA0ePFinT5+28iMBCFCcIgTgV/r06aPHH39cjz/+uFJSUvTII4/ogQce0NChQ694m/n5+dq9e7caNGggSdqzZ49mz56tV199VWPGjJEkxcfHKyUlRatXr9agQYMs+SwAAhcjWAD8zowZM9S4cWOlpqYqKChIf/7zn2u0vQ4dOjjClSS1atVKknTrrbe6LMvOzq7RvgBcHQhYAPxOeHi40tLSVFxcrAcffFD16tWr0fbq1q3r9LpOnTouy8uXFRUV1WhfAK4OBCwAfmfPnj1KT09Xx44d9dJLL+mrr77ydUkA4ISABcCvnDt3Tg899JC6du2qLVu2qG3btnr44YdVUlLi69IAwIGABcCvTJ48WQcPHtSCBQtUp04dLVy4UF9++aWmTZvm69IAwIGABcBvfPbZZ5o5c6Zmz56t5ORkSdINN9yg559/Xn/84x+1fft2H1cIABfYjDHG10UAgKclJSXpjjvu0Jw5cxQcHCybzVbjbZaWlsoYo5CQEM2cOVNPPPGEBZUCCASMYAG4arzyyisKCQnR3//+d0u2161bN4WEhFiyLQCBhREsAFeF//znPyouLpYkNW/eXLGxsTXe5r59+xx3dm/atKkaNWpU420CCAwELAAAAItxihAAAMBi/x9GM5YI/1wLigAAAABJRU5ErkJggg==\" />"
      ]
     },
     "execution_count": 107,
     "metadata": {},
     "output_type": "execute_result"
    }
   ],
   "source": [
    "function breakingdam_ics(ncells::Int)\n",
    "    [x < ncells/2+1 ? Q(2,0) : Q(1,0) for x in 1:ncells+2]\n",
    "end\n",
    "\n",
    "plotxh(breakingdam_ics(100), \"Breaking dam initial conditions\")"
   ]
  },
  {
   "cell_type": "markdown",
   "metadata": {
    "slideshow": {
     "slide_type": "slide"
    }
   },
   "source": [
    "# Boundary Conditions"
   ]
  },
  {
   "cell_type": "code",
   "execution_count": 176,
   "metadata": {
    "collapsed": false
   },
   "outputs": [
    {
     "data": {
      "text/plain": [
       "reflecting_bcs! (generic function with 1 method)"
      ]
     },
     "execution_count": 176,
     "metadata": {},
     "output_type": "execute_result"
    }
   ],
   "source": [
    "\n",
    "function outflow_bcs!(qs::Array{Q,1})\n",
    "    qs[1] = qs[2]\n",
    "    qs[end] = qs[end-1]\n",
    "end\n",
    "\n",
    "function periodic_bcs!(qs::Array{Q,1})\n",
    "    qs[1] = qs[end-1]\n",
    "    qs[end] = qs[2]\n",
    "end\n",
    "\n",
    "function reflecting_bcs!(qs::Array{Q,1})\n",
    "    qs[1].h = qs[2].h\n",
    "    qs[1].hu = -qs[2].hu\n",
    "    qs[end].h = qs[end-1].h\n",
    "    qs[end].hu = -qs[end-1].hu\n",
    "end"
   ]
  },
  {
   "cell_type": "markdown",
   "metadata": {
    "slideshow": {
     "slide_type": "slide"
    }
   },
   "source": [
    "# Timestep strategies\n",
    "\n",
    "* Idea: Strategies are simply functions\n",
    "* Timestep strategy always has the signature $ ([q], \\Delta x) \\mapsto \\Delta t $\n",
    "* Use _currying_ to pass configuration information\n",
    "* Use _closures_ to hold any state that may change at runtime "
   ]
  },
  {
   "cell_type": "code",
   "execution_count": 221,
   "metadata": {
    "collapsed": false
   },
   "outputs": [
    {
     "data": {
      "text/plain": [
       "make_lagging_dt (generic function with 1 method)"
      ]
     },
     "execution_count": 221,
     "metadata": {},
     "output_type": "execute_result"
    }
   ],
   "source": [
    "function make_const_dt(dt)\n",
    "    return (qs, dx) -> dt\n",
    "end\n",
    "\n",
    "function make_cfl_dt(correction::Float)\n",
    "    return (qs, dx) -> cfl_dt(qs, dx, correction)\n",
    "end\n",
    "\n",
    "function make_lagging_dt(dt0, correction)\n",
    "    dt = dt0\n",
    "    function lagging_dt(qs, dx)\n",
    "        result = dt\n",
    "        dt = cfl_dt(qs, dx, correction)\n",
    "        return result\n",
    "    end\n",
    "    return lagging_dt\n",
    "end"
   ]
  },
  {
   "cell_type": "markdown",
   "metadata": {
    "slideshow": {
     "slide_type": "slide"
    }
   },
   "source": [
    "# Lax-Friedrichs solutions"
   ]
  },
  {
   "cell_type": "code",
   "execution_count": 167,
   "metadata": {
    "collapsed": false,
    "slideshow": {
     "slide_type": "skip"
    }
   },
   "outputs": [
    {
     "data": {
      "text/plain": [
       "Plots.Animation(\"/var/folders/1k/q68xhskx4ks0dfs38lkh72y40000gn/T/tmpsC7k9u\", String[\"000001.png\", \"000002.png\", \"000003.png\", \"000004.png\", \"000005.png\", \"000006.png\", \"000007.png\", \"000008.png\", \"000009.png\", \"000010.png\"  …  \"000041.png\", \"000042.png\", \"000043.png\", \"000044.png\", \"000045.png\", \"000046.png\", \"000047.png\", \"000048.png\", \"000049.png\", \"000050.png\"])"
      ]
     },
     "execution_count": 167,
     "metadata": {},
     "output_type": "execute_result"
    }
   ],
   "source": [
    "ncells = 500\n",
    "t0 = 0\n",
    "qs = breakingdam_ics(ncells)\n",
    "Fl = Array{Q,1}(ncells+2)\n",
    "Fr = Array{Q,1}(ncells+2)\n",
    "a = @animate for t=0:4:200\n",
    "    qs,t0,ts = run_experiment!(qs, Fl, Fr, t0, t, ncells, make_cfl_dt(1.0), lxf!, outflow_bcs!)\n",
    "    plotxh(qs, \"Breaking Dam via Lax-Friedrichs, t=$t\")\n",
    "end\n",
    "figure23 = gif(a, \"animations/breakingdam_lxf_outflow.gif\", fps = 20);"
   ]
  },
  {
   "cell_type": "code",
   "execution_count": 169,
   "metadata": {
    "collapsed": false
   },
   "outputs": [
    {
     "data": {
      "text/html": [
       "<img src=\"animations/breakingdam_lxf.gif?0.6068279546603443>\" />"
      ],
      "text/plain": [
       "Plots.AnimatedGif(\"/Users/nathanwbrei/src/shallow_water/animations/breakingdam_lxf.gif\")"
      ]
     },
     "execution_count": 169,
     "metadata": {},
     "output_type": "execute_result"
    }
   ],
   "source": [
    "figure23"
   ]
  },
  {
   "cell_type": "markdown",
   "metadata": {},
   "source": [
    "* Breaking dam scenario with outflow boundary conditions, $t=200, ncells=500, correction=1.0$\n"
   ]
  },
  {
   "cell_type": "markdown",
   "metadata": {
    "slideshow": {
     "slide_type": "slide"
    }
   },
   "source": [
    "# Lax-Friedrichs solutions"
   ]
  },
  {
   "cell_type": "code",
   "execution_count": 198,
   "metadata": {
    "collapsed": false,
    "slideshow": {
     "slide_type": "skip"
    }
   },
   "outputs": [
    {
     "name": "stderr",
     "output_type": "stream",
     "text": [
      "\u001b[1m\u001b[36mINFO: \u001b[39m\u001b[22m\u001b[36mSaved animation to /Users/nathanwbrei/src/shallow_water/animations/breakingdam_lxf_reflecting.gif\n",
      "\u001b[39m"
     ]
    }
   ],
   "source": [
    "ncells = 500\n",
    "t0 = 0\n",
    "qs = breakingdam_ics(ncells)\n",
    "Fl = Array{Q,1}(ncells+2)\n",
    "Fr = Array{Q,1}(ncells+2)\n",
    "a = @animate for t=0.0:4.0:2000.0\n",
    "    qs,t0,ts = run_experiment!(qs, Fl, Fr, t0, t, ncells, make_cfl_dt(1.0), lxf!, reflecting_bcs!)\n",
    "    plotxh(qs, \"Lax-Friedrichs, breaking dam, reflecting boundaries, t=$t\")\n",
    "end\n",
    "figure24 = gif(a, \"animations/breakingdam_lxf_reflecting.gif\", fps = 20);"
   ]
  },
  {
   "cell_type": "code",
   "execution_count": 199,
   "metadata": {
    "collapsed": false
   },
   "outputs": [
    {
     "data": {
      "text/html": [
       "<img src=\"animations/breakingdam_lxf_reflecting.gif?0.8293374703371885>\" />"
      ],
      "text/plain": [
       "Plots.AnimatedGif(\"/Users/nathanwbrei/src/shallow_water/animations/breakingdam_lxf_reflecting.gif\")"
      ]
     },
     "execution_count": 199,
     "metadata": {},
     "output_type": "execute_result"
    }
   ],
   "source": [
    "figure24"
   ]
  },
  {
   "cell_type": "markdown",
   "metadata": {},
   "source": [
    "* Breaking dam scenario with reflecting boundary conditions, $t=0..2000, ncells=500, correction=1.0$\n"
   ]
  },
  {
   "cell_type": "markdown",
   "metadata": {
    "slideshow": {
     "slide_type": "slide"
    }
   },
   "source": [
    "# Lax-Friedrichs solutions"
   ]
  },
  {
   "cell_type": "code",
   "execution_count": 194,
   "metadata": {
    "collapsed": false,
    "slideshow": {
     "slide_type": "skip"
    }
   },
   "outputs": [
    {
     "data": {
      "text/plain": [
       "Plots.Animation(\"/var/folders/1k/q68xhskx4ks0dfs38lkh72y40000gn/T/tmpJuhzNT\", String[\"000001.png\", \"000002.png\", \"000003.png\", \"000004.png\", \"000005.png\", \"000006.png\", \"000007.png\", \"000008.png\", \"000009.png\", \"000010.png\"  …  \"000192.png\", \"000193.png\", \"000194.png\", \"000195.png\", \"000196.png\", \"000197.png\", \"000198.png\", \"000199.png\", \"000200.png\", \"000201.png\"])"
      ]
     },
     "execution_count": 194,
     "metadata": {},
     "output_type": "execute_result"
    }
   ],
   "source": [
    "ncells = 100\n",
    "t0 = 0\n",
    "qs = gaussian_ics(ncells)\n",
    "Fl = Array{Q,1}(ncells+2)\n",
    "Fr = Array{Q,1}(ncells+2)\n",
    "a = @animate for t=0:4:800\n",
    "    qs,t0,ts = run_experiment!(qs, Fl, Fr, t0, t, ncells, make_cfl_dt(1.0), lxf!, periodic_bcs!)\n",
    "    plotxh(qs, \"Lax-Friedrichs, gaussian, periodic boundaries, t=$t\")\n",
    "end\n",
    "anim22 = a"
   ]
  },
  {
   "cell_type": "code",
   "execution_count": 195,
   "metadata": {
    "collapsed": false,
    "slideshow": {
     "slide_type": "skip"
    }
   },
   "outputs": [
    {
     "name": "stderr",
     "output_type": "stream",
     "text": [
      "\u001b[1m\u001b[36mINFO: \u001b[39m\u001b[22m\u001b[36mSaved animation to /Users/nathanwbrei/src/shallow_water/animations/gauss_lxf.gif\n",
      "\u001b[39m"
     ]
    }
   ],
   "source": [
    "figure22 = gif(anim22, \"animations/gauss_lxf.gif\", fps = 20);"
   ]
  },
  {
   "cell_type": "code",
   "execution_count": 196,
   "metadata": {
    "collapsed": false,
    "slideshow": {
     "slide_type": "-"
    }
   },
   "outputs": [
    {
     "data": {
      "text/html": [
       "<img src=\"animations/gauss_lxf.gif?0.8756549720694768>\" />"
      ],
      "text/plain": [
       "Plots.AnimatedGif(\"/Users/nathanwbrei/src/shallow_water/animations/gauss_lxf.gif\")"
      ]
     },
     "execution_count": 196,
     "metadata": {},
     "output_type": "execute_result"
    }
   ],
   "source": [
    "figure22"
   ]
  },
  {
   "cell_type": "markdown",
   "metadata": {},
   "source": [
    "* Gaussian scenario with periodic boundaries, $t=800, ncells=100, penalty=1.0$"
   ]
  },
  {
   "cell_type": "markdown",
   "metadata": {
    "slideshow": {
     "slide_type": "slide"
    }
   },
   "source": [
    "# Effect of timestep correction term"
   ]
  },
  {
   "cell_type": "code",
   "execution_count": 213,
   "metadata": {
    "collapsed": false
   },
   "outputs": [
    {
     "data": {
      "text/html": [
       "<img src=\"data:image/png;base64,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\" />"
      ]
     },
     "metadata": {},
     "output_type": "display_data"
    }
   ],
   "source": [
    "p = plotxh(\"Gaussian with different correction terms\")\n",
    "for w = [0.1, 0.3, 0.5, 0.7, 0.9]\n",
    "    qs,t,ts = run_experiment(50, 500, make_cfl_dt(w), lxf!, periodic_bcs!, gaussian_ics)\n",
    "    plotxh!(p, qs, \"w=$w [$ts timesteps]\")\n",
    "end\n",
    "display(p)"
   ]
  },
  {
   "cell_type": "markdown",
   "metadata": {
    "slideshow": {
     "slide_type": "slide"
    }
   },
   "source": [
    "# Effect of timestep correction term"
   ]
  },
  {
   "cell_type": "code",
   "execution_count": 212,
   "metadata": {
    "collapsed": false
   },
   "outputs": [
    {
     "data": {
      "text/html": [
       "<img src=\"data:image/png;base64,iVBORw0KGgoAAAANSUhEUgAAAlgAAAGQCAYAAAByNR6YAAAABHNCSVQICAgIfAhkiAAAAAlwSFlzAAAPYQAAD2EBqD+naQAAIABJREFUeJzs3Xd4FFXbwOHf7G56pRchBEJPIRQDCAaSEEqkF0EQKQIqRZqACEJABaVbEEHki4rSBCMIKEQSmoAghJ68tBCatJAGhGST+f7Iu/smpG0gFZ/7urhIZs6ceWZmZ/bJmZlzFFVVVYQQQgghRIHRFHcAQgghhBDPGkmwxBNxdnbG2dnZpLKBgYEoikJYWFihxiSeTFhYGIqiEBgYWKjLPInBgwejKApRUVEmrXvHjh20atWKMmXKoCgK3bt3N2me+HeKiopCURQGDx5c3KGIZ5AkWMXMcII//s/GxgYPDw9mzZpFYmJicYf5TMlun1tbW1O1alX8/PyYMWMGFy5cKO4wi11+kuiSICoqim7dunHx4kWGDBnCzJkz6devX57zShv5gyV/StPnuKj+cBFFQ1fcAYh0Li4uvPrqqwCoqsrt27fZvn07gYGB/Pbbb+zbtw+tVlvMUT6Z0aNH069fP5ycnIo7lEwy7vNHjx5x69Yt/vrrLz744APmzJnD5MmT+eijj1AUpZgjLVxeXl6cPXuW8uXLF3coJskp3pCQEJKSkli4cCH9+/c3eZ7493ruuec4e/YsDg4OxR2KeAZJglVC1K5dO8tfLY8ePaJly5YcPHiQ3bt34+vrWzzBPaXy5cuXyC/v7PY5wL59+xg4cCBz585Fq9XywQcfFH1wRcja2pr69esXdxgmyyne69evA1C1atV8zRP/XmZmZqXqsy9KF7lFWIJZWFjg4+MDwJ07dzLNMzR7x8bGMnr0aKpXr45OpyMoKMhYJiEhgZkzZ+Lq6oqVlRWOjo506NCBffv2ZVnX33//zejRo3Fzc8PBwQErKyvc3d35+OOPSUlJMTnmRYsWodFo8PPzIyEhAcj+lkbGZx/Onz9Pjx49KFOmDDY2NrRr147jx49nW//u3bvx9vbGxsaGcuXK0bdvX65cuULbtm0LrKWpdevW/Pbbb1hYWDBv3jyuXLlinBcXF8cnn3xCmzZtqFq1Kubm5lStWpXXXnst29uKGbf9//7v/3B3d8fKyoqaNWvy2WefAektlgsXLqRevXpYWlpSp04dvvvuO5NiPX78OIqiMHr06EzTg4ODURQFCwsLHjx4kGmes7MzNWvWNP7++G0Jw7G5fPkyly9fznQrNbuE9MiRI/j7+2NnZ4eDgwM9evTI9MyUKU6fPk3nzp2NdQQEBHDq1Klsy+YU78yZMwHw8fExxhsUFJTjvIyfx1u3bjF+/Hhq166NhYUF5cuXp1evXtnGUNDnnuGzm5KSQmBgIM7OzlhYWFC3bl2+/PLLLGVnzZqVZVtMvQWWnJzM4sWLef7557Gzs8PW1paGDRsyYcIE7t27l6nsqVOnePnll6lYsSIWFhbUrFmTcePGcffu3XzvE8M2JiUlMX36dFxcXDAzM8v0eUpOTmbRokU0adIEGxsb7OzsePHFF9m8efMTbYspn+PcnsG6fPkyr7/+Os899xzm5uZUq1aN119/nejo6Cxl83MMcxIYGGi83s+aNStTvBnPp/zsJ8MzjBcvXmThwoU0bNgQCwsL4/YW5PUpLi6OGTNm0LBhQ2xtbbG3t6d27doMGjSIy5cvm7QPnjXSglWCJScnG79MPD09s8x/9OgRvr6+JCYm0rVrV3Q6HZUqVQIgJiYGb29vTp8+TatWrXjzzTeJj4/nl19+wcfHhw0bNmR6yPfrr79my5YteHt7ExAQwIMHDwgLC2Pq1KkcPnyYjRs35hqrqqpMmTKF+fPn06dPH1avXo25uXme2xgVFUWLFi1wdXVl6NChXLhwwRjj2bNnjdsD6Q8pv/TSS2i1Wvr27UvVqlUJDQ2ldevWlClTxtTdapJ69erx8ssv8/333xMcHMyYMWMAOHv2LDNmzMDHx4cePXpgY2NDREQEP/74I1u3buXo0aPUqFEjS31LliwhLCyMbt264evry8aNGxk7dizW1tYcO3aMjRs30rlzZ/z8/Fi7di2DBg3C2dkZb2/vXOP08PCgXLlyhIaGZppu+D05OZn9+/fj7+8PwKVLl7h8+TJDhgzJsU5HR0dmzpzJkiVLABg3bpxxXtu2bTOVPXz4MPPmzcPHx4c33niDY8eOERwczMmTJzl16hSWlpa5xg/pX+StWrUiMTGRnj17UqdOHf766y9atWpFo0aN8lzeEG9YWBi7d+827jsAT0/PHOcZ/r9w4QJt27bl6tWrtG/fnu7du3Pr1i02btzI77//zh9//EHz5s0zrbMgzz2DV155hb/++otOnTqh1WpZv349o0aNwszMjOHDhwMYvxgf3xZHR8c899PDhw/x9/dn//791KlThyFDhmBhYcG5c+dYvnw5r732mvE82rdvHx06dCA5OZnevXvj7OzMgQMH+PTTT/n11185ePBgllbp3PaJQa9evTh+/DgdO3bE0dHRmOg/evSIjh07EhYWhqenJ6+//jopKSls3bqVbt268fnnn2f6I8KUbXF2djb5c/y4//znP7Ru3Zrbt2/TpUsXXF1dOXXqFKtWrWLLli3s27ePunXrZlnOlGOYk7Zt2xIVFcW3335LmzZtMsVoOL753U8GY8aM4eDBg7z00kt06dKFihUrZpr/tNcnVVXp0KEDhw4dolWrVnTs2BGNRsPly5fZvHkzAwcOzPa6+MxTRbG6dOmSCqguLi7qzJkz1ZkzZ6ozZsxQR44cqbq4uKiWlpbq/PnzsyxXo0YNFVA7dOigPnjwIMv8/v37q4D69ddfZ5p+8+ZNtXr16mqFChXUhw8fGqdfvnxZ1ev1mcqmpaWpQ4cOVQF13759WdZfo0YNVVVVNSUlRX3ttddUQB01apSampqaqezMmTNVQA0NDc2y3YD68ccfZyo/ffp0FVDnzp1rnKbX69UaNWqoiqKoe/fuzVTesG5TP86GdXfo0CHXct98840KqAMHDjROi42NVe/evZul7K5du1SNRqMOGzYs03TDtpctW1a9cOGCcXp0dLRqbm6uOjg4qHXr1lVv3bplnHfw4EEVULt06WLS9vTs2VMF1H/++cc4zd3dXX3xxRdVc3NzderUqVm26bvvvjNOCw0NVQF15syZmerNeIwfZ1gGUNeuXZtp3sCBA1VAXbNmjUnxt2nTRgXU1atXZ5o+depU4zouXbqUZ7zZfc5MmffCCy+oWq1W/e233zJNj4yMVO3s7FR3d/dM0wv63DNsf/PmzdW4uDjj9IiICFWn06n16tUzeVtyM3HiROPn+fFzPTY2Vk1ISFBVVVVTU1NVFxcXFciyTyZNmqQC6tChQzNNz2ufGLbR09Mz2/PnvffeUwH1/fffV9PS0ozT4+Pj1WbNmqnm5ubqtWvX8r0ththy+hwbrgWDBg3KNN3Hx0cF1OXLl2eavnTpUhVQfX19s90+U49hTnL6bBvkdz8NGjRIBdRq1aqply9fzlJfQV2fTpw4oQJq9+7ds6wjKSkp0/H4N5EEq5hlTDSy+9e5c2f12LFjWZYzXNCOHz+eZd7t27dVrVab5SJg8Nlnn6mAumXLljzj+/vvv1VADQwMzLL+GjVqqPfv31cDAgJUQJ01a1a2deSWYNWsWTNLQmaY17NnT+O0sLAwFVC7du2apf7o6GhVq9UWeIK1fft2FVA7depkUr3u7u6qs7NzpmmGbc9u3/j6+qqA+u2332aZV6tWLdXJycmk9X7++eeZEprbt2+riqKoc+fOVb29vdXmzZsby7766qsqoEZHRxunPU2C5e3tneO8CRMm5Bn75cuXVUD18PDIMi8hIUF1dHQs1ATr6NGj2SYMBhMmTFAB9eTJk8ZpBX3uGb6cd+3alaW8YV58fLxJ25mTlJQU1c7OTnVwcFBjYmJyLbtnz54cP/cJCQlq2bJlVUtLS/XRo0fG6bntk4zb8csvv2SZl5qaqpYpU0Z1cXHJlDQYbN68WQXUzz//PN/bYogtPwmW4TPZsGHDLPGkpqaq9evXz3IO5fcY5iS3BCu/+0lV/5dgffrpp9mur6CuT4YE65VXXslzG/9N5BZhCdGhQwd+++034+93795l//79jB07llatWrFr164styksLS1xd3fPUtfhw4dJTU3l0aNH2T4zc+7cOQAiIiLo3LkzkH4r6YsvvmDt2rVERESQmJiImqGTf8NDwhk9fPgQPz8//vrrL7766iveeOONfG+3p6cnGk3mRwGrVasGQGxsrHGa4Zms1q1bZ6mjevXqODk5cenSpXyv/0mEhYWxZMkSDh06xJ07d9Dr9cZ5Od0Wze4Wb5UqVXKdd+jQIZPiMTy3ERoaSr9+/QgLC0NVVXx9fUlKSuKjjz4iISEBOzs7QkNDcXFxoXr16ibVnZemTZtmmZbd8ctJbsfV1tYWT0/PQu2O4ODBgwDcvHkz23MlIiLC+L+bm5txekGeewZ57Us7OzvTNiobERERJCQk0K5duzxvpx87dgzI/jaara0tzZo1Y8eOHURGRmbaBzntk4y8vLyyTIuMjOTevXtUrVrV+HxZRrdv3zZuQ3635UmEh4cD0KZNmyzPdWo0Gry9vYmIiCA8PDzLeVSYxzC/+ymj7PZ7Rk97fWrQoAEeHh6sWbOGq1ev0r17d9q2bZvt9f3fRBKsEqpcuXJ07doVa2tr/P39mT59Ojt37sxUpmLFitk+2B0TEwPA/v372b9/f47ruH//vvHn3r17s2XLFurWrUvfvn2pWLEiZmZmxMbG8umnn/Lo0aMsyyckJHDs2DHKlStn/JLPL3t7+yzTdLr0j2VqaqpxWnx8PECWZwcMKlWqVOAJliGprFChgnHahg0b6Nu3L7a2tnTo0AFnZ2esra2ND1Tn9DBnbtuZ07yMiVtuXF1dqVixovG5q9DQUOzt7WnatCkPHz5k1qxZ7N27lzp16nDt2jWGDRtmUr2mMPX45SQuLg7I/bgWJsO5snXrVrZu3ZpjuYznChTsuWfwtPsyN4b9/Nxzz+VZ1nCu5bTvDV+8hnIGOe2TjLKr07DPTp8+zenTp3Nc1rDP8rMtT+JJtx8K9xjmdz9llNd59LTXJ51Ox65duwgMDGTjxo1MnDgRSL92jh49mmnTppXaboaehiRYJZyh1erw4cNZ5uV0MTOcEBMnTmTBggV5ruPw4cNs2bKFDh06sHXr1kwnwsGDB/n000+zXa5ixYosX77c+NdKaGgo9erVy3N9T8KwTbdu3cp2/s2bNwt8nYaWk+eff944LTAwEEtLS/7++2/q1KmTqfzatWsLPAZTtW3blvXr13Pt2jXCwsLw9vZGq9XSokULrKysCA0N5dq1awBPnAwXBkP/Q0V5XDMyfK5yejg4JwV17hUVw0PShs9AbgzbkNO+/+effzKVMzDlLd7syhjq6dWrFz/99FOedeRnW57Ek25/YcvvfsqoKPryK1euHJ9//jmfffYZERER7Nq1i88//5yZM2diZmbG1KlTCz2Gkubf23ZXShhenU5LSzN5meeffx5FUThw4IBJ5Q3dCxje0Mto7969uS7boUMHNm/eTGxsLD4+PkRGRpocZ34Y3ibLrlXg6tWr2b46/TT+85//sH79eiwsLOjRo4dx+oULF2jQoEGW5OrGjRtcvHixQGPID0PStGbNGs6cOWPsM83CwoIXXniBXbt2GVu48nqDykCr1T71X915MRzX7LovSExMNN6uKSyGP2BMPVfykt9z70kYztH8HJt69ephb2/P4cOHs3TH8LjGjRsDZHtr9v79+xw5cgQrK6sC+2OqQYMG2Nvbc+TIEZO6hMnPtkD+P8eGW2J79uzJ9JgEpL8tt2fPnkzlClJuxza/+6m4KIpCgwYNGDVqlPGuS05dbTzrJMEq4RYtWgSQ5+v6GVWuXJmXX36ZP//8k/nz52e5SAAcOnTI2D+S4fXZx7/kTp8+zdy5c/Ncn7+/P1u2bCE2Npa2bdtm+wzA02rdujVOTk5s2bIly5fX+++/X6CJwP79++nQoQOPHj3i3XffzXQrokaNGpw/fz7TX7dJSUm89dZbxXrRMyRY8+bNA8jUKa2Pjw/h4eHs2LGDunXrmtzZZtmyZblz5w5JSUkFH/B/OTk54e3tzYkTJ/jhhx8yzZszZ45Jz3E9DS8vL5o3b86aNWtYt25dlvlpaWns3r3b5Prye+49ibJlywJk6p8tLzqdjjfeeIO4uDjGjh2b5XyJi4szDsnVqlUrXFxc2L59OyEhIZnKffjhh9y9e5dXXnnFpG5YTI3trbfe4vLly7zzzjvZnkenTp0ytnLmZ1sg/59jJycnfHx8OH36NKtWrco0b8WKFZw9exZfX98Ce44xo9yObX73U1GKiorKtu87w3XSlO5ankVyi7CEOH/+fKaHYmNiYti/fz9Hjx6lTJkyfPLJJ/mq78svvyQyMpLJkyfz/fff07JlSxwdHbly5QpHjhzh3Llz3LhxA2tra7y8vPDy8mL9+vXcuHGDFi1aEB0dzebNm3nppZdMao728/Pj119/pUuXLvj4+LBr1y4aNGiQ392QI61Wy1dffUXXrl3x9fWlb9++VKlShd27d3Pt2jUaNWrEiRMn8lVnxn2enJxsHCrn5MmTaLVapk+fbuyg0mDMmDGMGTOGxo0b07t3b/R6PTt37kRVVRo1apRjB6mFrV69elSpUoUbN25Qrlw5PDw8jPN8fHxIS0vj7t279O7d2+Q6fX19OXLkCJ06deLFF1/E3Nwcb2/vfCX7pli6dCmtWrXitddeIzg42NgP1uHDh3nxxRfzbEV9WmvWrMHHx4d+/fqxZMkSmjRpgpWVFdHR0Rw4cIDbt2/nK8nMz7n3JAwdjL733nucPn0aBwcHHB0d87zFOXv2bA4ePMj333/PwYMH6dSpExYWFly8eNE4HJfhoeSgoCA6dOhAQEAAffr0oUaNGhw4cICwsDBcXFz4+OOPnyj2nMyaNYujR4/y2WefsXXrVry9valYsSLXrl3j5MmTHD9+nAMHDhif1TN1W+DJPsfLli2jdevWDB8+nC1bttCwYUNOnz7N5s2bqVChAsuWLSvQ7TeoX78+VatWZe3atVhYWFCtWjUURWHMmDE4ODjkez8VlfDwcHr27ImXlxcNGzakcuXKXLt2jeDgYDQaDePHjy/SeEqMYnyDUag5d9NgYWGhuri4qG+99Va2/Zfk9uqxwYMHD9R58+apTZs2VW1sbFQrKyu1Zs2aavfu3dXvvvtOTUlJMZa9deuWOnToULVq1aqqpaWl6u7uri5dulS9ePFitv3E5LT+0NBQ1cbGRq1UqZJ6+vRpVVVz76bh8XoNALVNmzZZpu/atUtt3bq1amVlpZYtW1bt06ePGh0drbq5uakODg657o/H153xn5WVlVqlShXVx8dHff/999Xz589nu2xaWpr61Vdfqa6urqqlpaVauXJl9fXXX1dv3bplfB07o9xeqTe8Qp2xCwKD7OrKi6H/pV69emWanpycrNra2ubYN1VOr4YnJCSow4cPV6tUqWLsBsNQJrfXyfM6ttk5efKkGhAQoNra2qp2dnZqp06d1JMnT2a7jwq6HyxVVdWYmBh1+vTpqpubm2plZaXa2tqqderUUfv3769u2rQpU9mCPvdyO9Y5fUaCgoJUd3d31cLCQgXyjMcgKSlJXbBggerp6WnczoYNG6oTJ05U7927l6nsiRMn1N69e6vly5dXzczM1Bo1aqhjx45Vb9++naXevPaJKZ9nvV6vLl++XG3VqpVqb2+vWlhYqE5OTmrHjh3VZcuWqYmJiU+0Lbl9jnP7rEZFRalDhgxRq1Spoup0OrVKlSrqkCFD1KioqHxtX27neXYOHjyotmnTRrWzs8u2H7j87Ke81l1Q16crV66o7777rtqiRQu1YsWKqrm5uerk5KT27NlTPXDggEnb/SxSVDWbNmwhSpGEhAQqVaqEu7u7yV0bCCGEEIVJnsESpcb9+/eN4xsapKamMmnSJB4+fJjt8CNCCCFEcZAWLFFqhIeH07p1azp06ECtWrVISEhg7969nDlzBldXVw4dOoSNjU1xhymEEEJIgiVKj9u3bzN58mR2797NzZs30ev1ODk50b17d6ZNm2bSgLdCCCFEUSjUBCspKYl+/fpx5swZrKysqFixIsuWLaN27dqZykVFReHi4pJpmIWNGzfi4uJSWKEJIYQQQhSaQk+wdu3aRadOnVAUhS+++IKffvopSwd2UVFReHp6FnqfN0IIIYQQRaFQH3K3tLQkICDA2E1/ixYtsu2MTAghhBDiWVKkHY1++umndOvWLdt59+/fp2nTpqiqanymJrvBIVVV5c6dO5ibm2caX8nCwgILC4tCi10IIYQQwlRF9pD7nDlz2LJlC3/88UeWHowfPXpEXFwcFStWJCYmhr59++Lv78/kyZOz1BMfH28cIDajyZMnM2XKlEKLXzyd+Pj4Ih8cVTwdOWaljxyz0kWOV+ljGM7IFEXSgrVgwQI2bdpESEhItsNDWFhYGLv2L1u2LEOHDuXHH3/MNsEyuHLlSqYPprRglXz5+WCKkkGOWekjx6x0keP17Cr0BGvRokWsWbOGkJCQHF+jv3XrFmXKlMHMzIxHjx6xadMm44juObG3t5fMXwghhBAlUqE+5H716lUmTpxIbGwsPj4+eHp60rx5cwBmzJjBV199BcC+ffto3LgxjRo1okmTJlSuXJlp06YVZmhCCCGEEIWm1HU0angGKy4uTlqwSpGYmBhpCi9l5JiVPnLMShc5Xs+2In2LUAghxL9LYmIi169fJy0trbhDKXFiY2NlBIoSRqPR4OjoSPny5dFonu4mnyRYQgghCsXBgweZMGECycnJxR1KiZSWlvbUX+KicDRt2pQZM2bw3HPPPXEdkmAJIYQocImJiUyYMIFmzZoxfPhwzMzMijukEkev16PTyddwSZKamsrVq1dZunQpr7zyCiEhIZibmz9RXXJkhRBCFLjr16+TnJzM8OHDM40zK/5HEqySydXVlUqVKjFs2DCio6OzjJ9sKmmbFEIIUeAMz1xJy5UojSwtLYH0JPhJSYIlhBBC5NOHH36Ii4sLLi4uuXYrtGrVKtzd3dHpdCxZsiTHclFRUWi1Wjw9PQkPDwfgs88+w83NDXd3dzw8PFi9erWxfFBQEA4ODnh6euLp6YmPj0+m+r755hvq1KmDi4sLw4cPJyUlJcs6Bw8ejKIoxMbGZhtTcHAwBw8eNP5+5MgR+vbtm+M2FKTH113QFi9eTO3atfH09Cy0dUiCJYQQQuTDnj17WLNmDSdOnODMmTP8/vvvbN26NduyTZs2Zf369fTv3z/Peu3s7AgPDzd+6bu6urJ//35OnjzJ1q1bGTduHBcuXDCW9/HxITw8nPDwcEJDQ43TL126xPvvv8/evXs5f/48N2/eZMWKFZnWtWnTpjxbFx9Pcpo1a8a6devy3I6CUNgJ1vjx41m5cmWh1Q+SYAkhhPgXWLFiBSNGjADgzJkzKIrCjh07AJg9ezazZ882ua5169YxcOBAbGxssLCwYOjQoaxZsybbso0aNaJBgwZP9Lagn5+fcezd6tWrU7lyZa5cuZLncj/99BNdu3alcuXKKIrCm2++mSm+mzdvMmfOHBYtWpRjHdu2bWPz5s3Mnz8fT09PVq5cSVhYmDH5i4qKwtHRkffff58mTZpQp04d9u/fz/jx4/H09MTNzY1Tp04Z6/v+++9p3rw5TZo0wdvbm+PHjwPpb5o2bdrUuMyyZcuyXXdudQQFBeHr60vXrl1p2LAh3t7eREVF5Vh/UZGn64QQQhS6B3qViOzvRBWI+o5grVNynN+uXTs+/vhjAHbu3EnLli0JCQmhffv27Ny5k08++QRIb9nI2BqU0fLly2nevDnR0dG0bt3aON3Z2Zm1a9cW4NZkFRISwr1793j++eeN0/bu3UujRo2wsbFh/Pjx9OnTB4Do6Ghq1KiRKb7o6Gjj78OHD2fevHnY2dnluL6AgAC6du2Kp6cn48aNAyAsLCxTmbi4OJo2bcoHH3zAN998Q4cOHdiyZQuLFy9m/vz5zJo1iw0bNrB//37WrFnDnj17sLCwYO/evfTv35/Tp08zd+5c3nnnHV555RUA7t27R5kyZbKsO7c6DPPDw8Np0KAB8+bNY8SIEezYsSPb+ouKJFhCCCEKXUQsNP35yR8YzsvfPXQ0KZ/z/Fq1agFw8eJFQkJCmDt3LhMnTiQxMZEzZ87g5eUFpD+bU9KcPHmSIUOGsG7dOmxsbADo3LkzL7/8MtbW1pw9e5b27dtTvXp1WrRokWtdK1euxMnJCV9f36eOy9LSku7duwPptw9tbW2Nz4J5eXnxww8/APDLL79w/Phx41B5kN6L/cOHD/Hx8eGDDz7g3Llz+Pr6ZkpcM8qtDoAXXniBBg0aADBixAimT59OamqqyfUXBkmwhBBCFLr6julJUGHWn5d27dqxfft2zp07R5s2bVBVlY0bN9KyZUtjdwmmtGA5OTlx+fJl4/SoqCicnJwKZDsed+bMGTp37syqVasyJQfly/8vm2zQoAEBAQHs37+fFi1a4OTklOlZrYzxhYaGsmfPHn799VfjfA8PD3755RcaN26cr9gsLCyMP2u1WuObd4bfDW/gqarKoEGDmDNnTpY6xo0bR7du3QgJCeG9997Dzc2NL7/8Mku53OrIjan1FwZJsIQQQhQ6a52SawtTUWjXrh2TJ0/G29sbAF9fX2bOnGm8DQWmtWD16dOHUaNGMWbMGHQ6HatWrSIwMLDA4z179iwBAQGsWLECf3//TPOuXbtm7GX85s2b7Nq1y/iGX69evWjdujWBgYFUqlSJr776in79+gEYW5UMFEXhxIkT2Q7ZY29vT1xc3FNvR9euXRkwYABvvvkmTk5OpKWlcfToUZo1a0ZkZCT16tVj+PDhVK9enffeey/bdedWB8CBAweIiIigfv36rFy5Eh8fH7RabY71FwV5yF0IIcS/gp+fH9HeqBoyAAAgAElEQVTR0bRr1w4Af39/Ll++jJ+fX77qadu2LX379sXd3Z0GDRrg7+9P586dgfQOVjO++h8UFES1atXYsGEDgYGBVKtWjWPHjpm0nrfffpu4uDimTJli7I7h999/B2Dp0qW4urri6emJv78/48ePN972q1WrFrNmzaJVq1bUrl2bChUq8MYbb+RrGwEGDhzI+vXrady48VO9cffiiy8yb948evToQaNGjXB1dTU+s/bFF1/g6upK48aNmT59OgsXLsx23bnVAem3CKdMmYKrqyubN29m+fLludZfFBRVVdUiW1sBiI+Px8HBgbi4OOzt7Ys7HGEiGTW+9JFjVvqUpGMWERHBq6++yurVq6lfv35xh1MiZezJPSoqCk9Pzxz7pBI5CwoKIjg4mODg4HwtFxYWxrhx44z9jmVUEJ9facESQgghiplWq8Xa2jpTR6Oi8CxevJiRI0dmepatoMkzWEIIIUQxq169OtevXy/uMEqlwYMHM3jw4HwtM378eMaPH184Af2XtGAJIYQQQhQwSbCEEEIIIQqYJFhCCCGEEAVMEiwhhBBCiAImCZYQQgghRAGTBEsIIYTIpw8//BAXFxdcXFyYNm1ajuUGDx7Mc889Z+wodNKkSdmWi4qKQqvVZuqmITAwkAoVKhiXHTBggEkx/N///Z9xGU9PT8qXL0/Pnj2zXW9QUBARERHG3zdv3lzob9fltO6CNmnSJJycnIzjJRY16aZBCCGEyIc9e/awZs0aTpw4gU6no1WrVrzwwgu89NJL2ZafNGlSpuF4cmJnZ5elD6wBAwawZMmSfMUwZMgQhgwZYizr5uaWJTkzCAoKwtHR0diZZteuXenatWuesRaEx9dd0ObPn4+rq2u+OyAtKNKCJYQQ4pm3YsUKRowYAaQPoKwoCjt27ABg9uzZzJ492+S61q1bx8CBA7GxscHCwoKhQ4eyZs2aQon7aWM4dOgQt27dyjZpWrlyJUeOHGH8+PF4enqybds2goKCjC0+YWFhuLm58dZbb+Hh4YG7uzsnTpxg8ODBuLu707x5c65du2asb8GCBXh5edGkSRM6duxoHBB7y5YteHh44OnpiZubG7/88ku2686tjsDAQHr16oWvry/169enS5cu3L17N8f6SwJJsIQQQhS6tOQkkq+cK7R/aclJua6/Xbt2hISEALBz505atmyZ6XfD+ISGL/zs/h06dAiA6OhoatSoYazb2dmZ6OjoHNe9ZMkS3N3d6dy5c757aV+/fj0eHh74+voSGhpqnG5qDN988w0DBw7EzMwsy7xhw4bRrFkzFi9eTHh4OAEBAVnKREREMGzYME6cOEH37t3x9fXl3Xff5eTJkzRr1szYuvbjjz8SGRnJgQMHOHr0KAMGDGDkyJEATJ8+neXLlxMeHs6JEydo06ZNtuvOrQ6AvXv38uOPPxIREUH16tWZOnVqjvWXBHKLUAghRKHT37zCrYVjCq3+ihM/x7x6nRzn16pVC4CLFy8SEhLC3LlzmThxIomJiZw5cwYvLy8gfQiVgvTRRx9RpUoVNBoNP//8M506deLcuXPY2trmueybb77JtGnTMDMzY//+/fTo0YPDhw9nSqxyc//+fdauXcvBgwefOP7atWvTtGlTAJo1a0bt2rWNt/S8vLz4+eefAQgODubw4cPGsqmpqcY6/Pz8GDt2LL1796Z9+/aZBsPOKLc6AF566SUqV64MwIgRI4zPlZlaf1GTBEsIIUSh01WqTsWJnxdq/Xlp164d27dv59y5c7Rp0wZVVdm4cSMtW7Y0Dro8fvz4TC1FGS1fvpzmzZvj5ORkvHUF6Q+oOzk5ZbvMc889Z/y5R48evPvuu0RGRhqTiNwYkgmAVq1a0bhxY44cOUKNGjVMimHDhg24urrSsGHDPNeVE0tLS+PPWq02y+96vR4AVVWZOnWq8TZsRosWLeL06dOEhoYyaNAgBgwYwOTJk7OUy62O7CiKkq/6i5okWEIIIQqdxtwy1xamotCuXTsmT56Mt7c3AL6+vsycOTPTA+imtGD16dOHUaNGMWbMGHQ6HatWrSIwMDDbslevXqVatWoAHDx4kLt371K7dm2T4s247Llz5wgPD8fd3d3kGL755htef/31XNdhb29PXFycSfHkpnv37ixcuJDevXtTtmxZUlJSOHXqFI0bNyYiIgJXV1dcXV3R6XTGZ98eX3dudQBs27aNmzdvUqlSJVauXGm8rZtT/cVNEiwhhBD/Cn5+fkRHRxu/mP39/VmwYAF+fn75qqdt27b07dvXmOz07duXzp07A3D9+nUCAgKMz1oNHjyYmzdvotVqsbKyYsOGDTg4OJi0nmnTpvH333+j0+nQarUsXbqUunXr5hkDQGRkJOHh4caHx3MyYsQIJk6cyOLFi5kzZ06+9kNGAwYM4O7du/j4+ACg1+sZOnQojRs35r333iMyMhJzc3Osra1ZtmxZtuvOrQ6AF198kf79+3Pt2jXq1KlDUFAQQI71FzdFVVW1uIPIj/j4eBwcHIiLi8Pe3r64wxEmiomJoWzZssUdhsgHOWalT0k6ZhEREbz66qusXr260F7DL+30er3x1mRUVBSenp7ExsYWc1QlU2BgILGxsdl2WZGboKAggoOD891VQ0F8fuUtQiGEEKKYabVarK2tM3U0Kp7OpEmTmDt3LmXKlCmW9cstQiGEEKKYVa9enevXrxd3GCVWTs+45Wb+/PnMnz+/4IMxkbRgCSGEEEIUMEmwhBBCCCEKmCRYQgghhBAFTBIsIYQQQogCJgmWEEIIkU8ffvghLi4uuLi4MG3atBzLnTt3Dn9/fxo1aoSrqyvr1q3LtlxUVBRarTbTW4SfffYZbm5uuLu74+HhwerVq43lHz58yGuvvYabmxtubm507dqV27dvA7Br1y68vLxo2LAhrq6uTJ48mbS0tGzXGxQUREREhPH3zZs3M378+Hzvjyfx+LoL2qRJk3BycjIOXl3UJMESQggh8mHPnj2sWbOGEydOcObMGX7//Xe2bt2abdnBgwfTt29fjh8/TlhYGJMnT+batWvZlrWzsyM8PNw4lp6rqyv79+/n5MmTbN26lXHjxnHhwgUgfdieBw8ecPLkSU6dOkWlSpWMb8yVKVOGtWvXcubMGf7++2/+/PNPvvvuu2zX+XiS07Vr1wIfjzEnhZ1gzZ8/n9mzZxda/XmRBEsIIcQzb8WKFcYx7s6cOYOiKMYhVWbPnp2vL+J169YxcOBAbGxssLCwYOjQoaxZsybbssePHycgIACAChUq0KhRoxxbsR7n5+dn7PW9evXqVK5cmStXrgDp4/A9ePCAlJQU9Ho9iYmJxmF1GjdubBzc2tLSEk9PT6KiorLUv3LlSo4cOcL48ePx9PRk27ZtBAUFGVt8wsLCcHNz46233sLDwwN3d3dOnDjB4MGDcXd3p3nz5pmSxQULFuDl5UWTJk3o2LGjcazELVu24OHhgaenJ25ubvzyyy/Zrju3OgIDA+nVqxe+vr7Ur1+fLl26cPfu3RzrLwmkHywhhBCFLkn/iOj4q4VWv5N9NSx1FjnOb9euHR9//DEAO3fupGXLloSEhNC+fXt27tzJJ598Apg22HN0dDStW7c2Tnd2dmbt2rXZLtO0aVNWr17N5MmTuXjxIn/++SfOzs753r6QkBDu3bvH888/D8Abb7zBn3/+ScWKFdFqtTRv3pzRo0dnWe6ff/7hp59+4tdff80yb9iwYaxevZpx48YZkyrD8DMGERERfPvttyxbtoz3338fX19f9u3bR/369Rk1ahRLlixh/vz5/Pjjj0RGRnLgwAG0Wi3ff/89I0eOZOvWrUyfPp3ly5fTsmVL0tLSiI+Px9HRMcu6c6sDYO/evZw4cYLKlSszcuRIpk6dyooVK7KtvySQBEsIIUShi46/yvDtEwqt/q87LaJuWZcc5xtadC5evEhISAhz585l4sSJJCYmcubMGby8vADTBnvOj2+//ZaJEyfi6elJjRo18PPzMw6PY6qTJ08yZMgQ1q1bh42NDQA7duwgLS2Nf/75B41Gw+DBg5kxYwYffvihcbn4+Hi6dOnC5MmTadas2RPFX7t2bZo2bQpAs2bNqF27tnHoGC8vL37++WcAgoODOXz4sLFsamqqsQ4/Pz/Gjh1L7969ad++vfEW6ONyqwPgpZdeonLlykD6OIY9e/bMV/1FTRIsIYQQhc7Jvhpfd1pUqPXnpV27dmzfvp1z587Rpk0bVFVl48aNtGzZ0pj0mNKC5eTkZLx1BekPqDs5OWW7jLOzMxs3bjT+3rFjR9q3b2/ydp05c4bOnTuzatWqTK1mK1asoH///lhaWgLpgy1nHKw5ISGBjh070q1bNyZMePLE1lA/pA/n8/jver0eAFVVmTp1qvE2bEaLFi3i9OnThIaGMmjQIAYMGMDkyZOzlMutjuwoipKv+ouaJFhCCCEKnaXOItcWpqLQrl07Jk+ejLe3NwC+vr7MnDmTcePGGcuY0oLVp08fRo0axZgxY9DpdKxatSrHoVxu3rxJhQoV0Gg0/P7775w5c4b+/fubFO/Zs2cJCAhgxYoV+Pv7Z5pXq1YtduzYwSuvvALA1q1bcXNzAyAxMZGOHTvSsWNHpk+fnus67O3tiYuLMyme3HTv3p2FCxfSu3dvypYtS0pKCqdOnaJx48ZERETg6uqKq6srOp3O+Ozb4+vOrQ6Abdu2cfPmTSpVqsTKlStp164dQI71FzdJsIQQQvwr+Pn5ER0dbfxi9vf3Z8GCBfj5+eWrnrZt29K3b1/c3d0B6Nu3L507dwbg+vXrBAQEGLta2LJlCx9//DFarZaqVauybds2rKysTFrP22+/TVxcHFOmTGHKlCkAfPLJJ3To0IHAwEBGjBhhTKrq16/P8uXLAfj000/566+/uH//Pps2bQLSk8LsupMYMWIEEydOZPHixZlawPJrwIAB3L17Fx8fHwD0ej1Dhw6lcePGvPfee0RGRmJubo61tTXLli3Ldt251QHw4osv0r9/f65du0adOnWMz4vlVH9xU1RVVYs7iPyIj4/HwcGBuLg47O3tizscYaKYmBjKli1b3GGIfJBjVvqUpGMWERHBq6++yurVq43P7IjM9Hq98dZkVFQUnp6exMbGFnNUJVNgYCCxsbEsWbIkX8sFBQURHBxMcHBwvpYriM+vdNMghBBCFDOtVou1tXWmjkbF05k0aRJz586lTJkyxbJ+uUUohBBCFLPq1atz/fr14g6jxMrpGbfczJ8/39j5anGQFiwhhBBCiAImCZYQQgghRAGTBEsIIUSB02jSv15SUlKKORIh8i8pKQkg353CZiTPYAkhhChwVatWxdzcnK+//prhw4djZmZW3CGVOBnfIhQlQ2pqKlevXuWLL77A2to6xw5kTSFHVgghRIGztbVl0aJFTJgwgT///LO4wymR0tLSjC19omRp2rQpX331Febm5k9chyRYQgghCkWLFi3YsWMH169fJy0trbjDKXFiY2NxdHQs7jBEBhqNhjJlylCuXLmnTn4lwRJCCFFobG1tqVu3bnGHUSKVpI5hRcGTtkkhhBBCiAImCZYQQgghRAGTBEsIIYQQooBJgiWEEEIIUcAkwRJCCCGEKGCFmmAlJSXRvXt36tatS6NGjfD39+f8+fPZlv3111+pX78+derUoWfPnsTHxxdmaEIIIYQQhabQW7BGjBhBZGQkx48fp1u3bgwbNixLmcTERF5//XWCg4M5d+4cVatW5YMPPijs0IQQQgghCkWhJliWlpYEBASgKAqQ3ulcVFRUlnLbt2+ncePG1K9fH4CRI0eyZs2awgxNCCGEEKLQFGlHo59++indunXLMj06OpoaNWoYf3d2dubGjRs5jtP0wvJO9A5+FVCyzMs6JXeKms/y+ZxeEOs1vW7F5PLZlXl8Wn631fTpuUdonKsooCgoiuZ//2sUUDTpP2u1KFodikaTpU4FKGdVlqp2lalqm/7PvUIDKttWzHXdQgghREEosgRrzpw5nD9/nj/++OOp64raGMHzno3Raf8Xfvny5SlfvjwAhtxFAVQ14xTI/Fv2WU6m5Q3T/lvP46mBakI9mSeoOZTObc7/YlByKPW/WLPOTVP/+++/dWT8OfWxaWnqf38H0rJbU4ZJZhrQKmChUTHTqJhrwFyb/r+lJn269r9tpMZkWc1tjz22orRUVH0KpOhRU5PTf9brITU5/X9AVQCdBYqtAxq7sigO5VHsHElTFGKS7nHxbhR/XvmL+JREAGrZ18C/ehv8q3mj1WjzjOLf7N69e8UdgsgnOWalixyv0ic/Pe8XSYK1YMECNm3aREhICNbW1lnmOzk5sXPnTuPvUVFRVKlSJcdRxq/vuMQX3+zB3t7eOM3CwgILC4uCD/5fTFVV9Cok6SEhBW4nQXyySlwy3HgId5JUYh9B9H2VGw/g2n2VK/fhUcr/6ihrAXUdFGpaJdOksgXuZRQalVOoZIXx1vGTSHuUROrdG6TcvELKtQskX47k0dnTkHoaxdoWqwbPY9W0HVYNnwcg4VEiodH72H5xF8tPf8eacz/zZuNBBLi0e6o4nnUyjEfpI8esdJHj9exSVFXN502y/Fm0aBE//PADISEhlClTJtsyCQkJuLi4sGfPHurXr8/o0aOxtLRkwYIFWcrGx8fj4OBAXFxcpgRLlBw3H6hcSlC5kADn4lQi41RO3dFzIVHLw9T0MlWsoVl5Ba8KCi0rKTSroOBg/nSJjpqWxqMLJ0k6eYAHx3aTlnAPjV0ZbF/sgm2bHmgsrAA4fus0S/9eRWTMeTwruhH44iTKWMqAq4+TcdJKHzlmpYscr2dboSZYV69epXr16tSqVQs7OzsgvaXp0KFDzJgxg6pVq/Lmm28CsHnzZiZPnoxer8fNzY1vv/0WBweHLHVKglU6xcTEYOdYhgvxcOyOytG7Kodvqxy8pfIoFcw10KicQtsqCn5VFbyrKFjpni7hSor4m8S9m0k6fQg0Wux8emHXri8aKxsAtpzfwZLDy9EoGub5zKBxJfeC2NRnhlz8Sx85ZqWLHK9nW6G3YBU0SbBKp5wuJGmqyrE7sPefNMJuqOy+oRKbnJ5w+VZV6Oyk0K2Ghmq2T55spfxzmfida3n4dyiKhTX2nV7FtnUXFJ0ZF2MvMzXsQ/65f4uJXiPpWqfD02zmM0Uu/qWPHLPSRY7Xs00SLFEkTL2Q6NNU/r6jsv2KyrYr6a1cAM9XUOhTU6F/bQ3P2TxZspVyI4rYTV/x6Fw4ZlWcKfPKBMyd6pLwKJEpYbM5fSeS1z0G8Jr7y09U/7NGLv6ljxyz0kWO17NNEixRJJ70QnLjgUpwVBo/XVLZdT39o9qqksJrdTT0rqlQ1jJ/yZaqqjw8vpfYn5aSlhiHnd/L2AcMIoU0Zuz9hAPXDjPE/RUGe/TLd6zPGrn4lz5yzEoXOV7PNkmwRJEoiAvJ3SSVH8+n8d05lSN3VKx10NNZ4c0GGlpVzl+fuWn3E7j30xc8PLYbXRVnyg19H6VcJWbvX8ju6D/p16A7bzUZ8lTxlnZy8S995JiVLnK8nm0y2LMoNcpZKoxx03K4h45TvXSMqK9hS7RK6y2puP+UwvKzqaSkmfb3gsbGjrKvvUvZVyej/yeaW/NGknziAO+/MIE21Vuy9mww3xz/oZC3SAghxLNKEixRKrmWVVjcUsvtgTq+b6vFSqfw5r40yn2nZ9rhVGKS8k60FEXBupkvVWZ+h9axPDFBH/Fg2/dMafE2npXc+O7Uetad/aUItkYIIcSzRhIsUaqZaRReraPhr+46/uqupWM1hTnhaZT/Xs+be1O5nJB3oqV1LE+ld1dg1bgNCX+s5+H/zeWjlu9Qw74aXx5dxR9Re4pgS4QQQjxLJMESz4znK2hY307HpX463mygYWVkGs5r9QwO03M+LvdES9FqKTdoKvadh5B09jCJn03hsxfew1pnxez9C4m4e66ItkIIIcSzQBIs8cxxtlP4srWW6wN0jHfT8O05lfob9Ly+W090Yu6Jln27vpQdPA39ras8WDyB71vPQqtoGL3jXRIeJRbRFgghhCjtJMESz6yKVgqLWmq595qOkQ01BJ1Tqbtez4QDqcQn55xoWXu+SIUx81CTH/FoyWSWeo4lJU3Py8HDeJDyoAi3QAghRGklCZZ45jlaKHz2gpbL/XT0q6Ww5FQaVX7QM/94Kqk5vHVoUcuNiuMWo1hYYvf1PCbX6sUD/UMm7grkUWpyEW+BEEKI0kYSLPGvUc1WIaitjvCeOlpVUpj8Vxq11un5+VIa2XUHZ1a1JhXHLkbrWJ5G637k5YotOXMnki+OrCRNTSuGLRBCCFFaSIIl/nU8yinsCNDxeyctllroGZKK/7ZULsRnTbJ0FapSYcx8dBWeo9vWMJrbubD5/O/sjj5QDJELIYQoLSTBEv9a7atpONVbx+IWGg7fVqm9Ts87B7M+n6UrW4nyoz5GV8mJ0bvOUMeqMoH75nHs5sliilwIIURJJwmW+Fcz0yiMc9cS8bKOV2srLDyZhutPerZfyXwLUOdYgQoj52JesTojD17GRmPBtN1ziIq7UkyRCyGEKMkkwRICqGKt8L2Pjv1dtdiZQcBvqXT5Xc/VDN06aB3KUWHMPKraV2XU2QTupzxgzp+LSUy+X4yRCyGEKIkkwRIigxcqaTjWU8fsphq2Rqf3n7X8bKpxvtauDBXGL6GJUo6B0XoiYy6w8vjqYoxYCCFESSQJlhCPsdAqvN9Ey4W+OjzLpY9x2Gqznov/fQhea2NPpXeX0zFGS8d/9Pz8n238eHpTMUcthBCiJJEES4gc1LRX2NtFy7JWGo7eSe+kdMGJ9L6zNFY2VP1gDb3vmFHrfhrLw7/l0PWjxR2yEEKIEkISLCFyoSgKbzbUcu5lHW2rKEw6lEbrLalcTVTRWNpQc8rXjL6ixSxNZdbeT7j7MKa4QxZCCFECSIIlhAmq2SqEvKQjqI2WkzEq1dfo+exUKop9eTzeWsz08wr39UlM2vl+tp2WCiGE+HeRBEuIfBhUV8PJXjperKww9kAa/ttSuW7nTMtBHzH8choXEq7y/h+zijtMIYQQxUwSLCHyqaa9QlhnLUtaatj9j4rHRj3blIb06DqN5jGp7L15jLV/y5uFQgjxbyYJlhBPQKMojHXTcra3jtoO6cPtDPmnGeOavU3ZZJVlERuIvHq8uMMUQghRTCTBEuIp1HVU2N9Fx7uNNGy4pNLkgg/vVByCLk3ljbAZxCXcKe4QhRBCFANJsIR4SpY6hbleWvZ10ZKmQuvrnelCAKoCI34ZycOUpOIOUQghRBGTBEuIAtKqsoYr/XW84qIw4eEQXOPr84/yiLkb3iZNTcu7AiGEEM8MSbCEKEAWWoUffXV862PGD2YzeS6hDLvVm2zeNLu4QxNCCFGEJMESohAMrKMh/GUrLpb7nIoPLVmcdIzdW5cWd1hCCCGKiCRYQhSSmvYKf/a2pX79T7BIVZhz93d27Vhf3GEJIYQoApJgCVGINIrCB62d6eP2Dklahe+jvmf5lr2kSW/vQgjxTJMES4giMLxJawbW789FGw0x//mY/usuczVRkiwhhHhWSYIlRBEZ1rQvvWq257fKOtpGjcJ/7U22RcvbhUII8SySBEuIIvT680OoZ1udNdV1fHR1OEN/vcWkQ6kyQLQQQjxjJMESogjZmFkzw3caNhoLvqql8OPNiXz7910abNBzPk6SLCGEeFZIgiVEEatmV4UF/h/wSKvwTbV4Qu/NIi42joY/6VkVmSatWUII8QyQBEuIYtCwfD3mtJnGVWsNn5eN5vCjhTxv94DX96TSb1cq91MkyRJCiNJMEiwhiskLzz1P73pdOGuv4buUE2x+sJRZjVJZf1Glzno9h2/LA/BCCFFaSYIlRDFRFIW3mgzGo0JDfq+kY/vVfbx9NYjQl9IHjfYKTmXm36mkpElrlhBClDaSYAlRjHQaHQt8A7Exs+brmmacPfwLjf8O4nRvHV2cFGYfTaPtr6lcipckSwghShNJsIQoZhY6C37q8Q2WWgvedTPn6u71mO3+kV/aa/nGW8vh2yoem/RsvCS3DIUQorSQBEuIEsDazJpF7T4AYGoja27s+J7EsE0MrafhdG8d9RwUeoek8nKInrhkac0SQoiSThIsIUoI1/L1mNJiDHGaVBa72nFry9ck7t9KHQeFfV20vNtIw4ZLKvXW6/njmrRmCSFESSYJlhAlSIBLOwa49uasRTLf17EjZsPnPDi2B0udwlwvLfu7agFoty2VCQdSZdBoIYQooSTBEqKEGeE5EH/nNoTaJ/NHdRtivp3Dw1MHAHihkoboV3QMrauw+FQaNddKdw5CCFESSYIlRAk0teVYmlb2IKiynoPVHLi7chZJZ48AYK5V+KaNji3ttSSkpHfnMPWvVJJTpTVLCCFKCkmwhCiBtBot01+YiJP9c3xeJYkTVRy5s3w6SZFHjWU619BwqZ+OPjUVPj6eRuNNek7GSJIlhBAlgSRYQpRQZa0c+cD7XRwtHPi0RhoXKzlyZ9l7JP0n3FjGwVxhfTsdv7TXcisJPDbqmXJIhtoRQojiJgmWECWYs4MTc9pOIzkthYW1ddyuUI47X75L0n+OZSrXtYaGM7119K2lMO9EGk1+1nPwpjybJYQQxUUSLCFKONfy9VjkN5vY5AQ+bmjJwwoVufPlVB6ePpSpXAUrhbV+On7vpOWBHlpuTuX13XpikqQ1SwghipokWEKUAo0rubPQdxb/PLjDHHc7NJWqc/frmTw4ujtL2fbVNJzqrWN0Qw2r/qNSf4Oe9RekNUsIIYqSJFhClBLNqnjyTvNRXEy4yvvuluiquRDz3VzuH9iepayDucLnrbQc6a6jijX03ZVK21/1nL0nrVlCCFEUJMESohTp7OLPsEavcj4umtmuVuhc3Li37lMS/iJuiSQAACAASURBVNiQbfmmFRSO9dSxpKWGQ7dU3DfqeedgKilpkmgJIURhkgRLiFJEURRede3NANfenI45x6KGtpi5tSBuyzfE/rw822U0isJYNy1X+uvo76Kw8GQa5b/T801EGqmSaAkhRKGQBEuIUkZRFEZ4DqRvg+4c+ucYn7poMWvuT+Lun7mzMhA1LfvnrcpbKnzno+NAVy11HRSG7U2l6c/p4xqqMuSOEEIUKEmwhCilRjYZwmtuL7P/+hGWVHmIRYdXSDp1kJsfjyDtQWKOy7WopOGv7lrW+2m5l5w+rmHH7amckeezhBCiwEiCJUQp9nqjAQz16M+f1w4zz+ISlv3Hob99jRuzXiP56oUcl1MUhT61NJzto2Oel4a/bqu4/qSn7x96ImIl0RJCiKclCZYQpdwg976MbDKUv24cIzB2N+YjPwTg1sLR3D+0I9fbf9Y6hUmNtFzsp+M9Tw2bLqk03KDn1VA9kfFyeRBCiCelqKqqHj16NO+S2WjYsCGWlpYFHFLu4uPjcXBwIC4uDnt7+yJdt3hyMTExlC1btrjDeKZtPb+TeYe+oKZDDeY8PxZt0HxSbkRh07ITjj3eRDG3yLOO+GSVD4+lseRUGvo0lV41NUz11NKkvFL4GyCempxnpYscr2eboqqqqtFoUBTTL6CqqqIoCocPH6ZJkya5ln377bfZvHkzly9f5tixY3h6emYpExUVhYuLC+7u7sZpGzduxMXFJUtZSbBKJ7mQFI29Vw4yfc9cylmV4WPvaVTYvZP7ezdjVrUW5YZOR1e+qkn1xCWrzDp4n68vWpCYAn5VFSZ6aOhYTcnXtUIULTnPShc5Xs82Y4K1dOlSGjZsaNJCer2e9u3bm5Rg7dmzh1q1atG6dWuCg4NzTLA8PT2JjY3Nc92SYJVOciEpOqduRzAlbDaP9I8IbD2ZpjEpxPy4EDX5EY69RmLT6iWTkqSYmBjM7cqw/Gx6i9bV+1DPAUY11DCkngZbM0m0Sho5z0oXOV7PNp3hh6ZNm+Ll5WXSQqmpqSa/1u3t7f1kkQkhnohbhfp83XER7+2ew7Q9cxjs3o9X31nKvR8XEPvTFzwM30OZfuNMas2yNVOY6KHlbTcNwf/f3p3HR1Xf+x9/n9myQDaWYAJZZAkhAiGJKOJOUahLEaRiWxdQAUtre/3JBfvwglRt1QK2boherahYWxeuCkrVuiIuNLJZENlNwg4JCQlkkpk5vz8CMWGSMJEzMxnyej4ckjnne858Jl8yvP2ec75nu6lH1/n0m899mrbCp1/0NnRLX5vOTmZUCwCO55CkI0eOKCrqxOdnHGO321u9zYlUVVWpoKBApmnqqquu0l133SW73d5s+4qKikbPo6KiLK0HiGSpcadp3ogHNPvLeVrw9d/1xc6v9Pubpinhq89U/ubT2v3grYq/9OeKu3iMDIfrhPtz2gz9tGfdlYcbDpp6fJ1PL2z26ZlvvcpOlK7vbdO1vWzqGU/QAgDp6CHCULxQZmZms4cI3W63ysvLlZycrNLSUo0bN06XXHKJpk2b5tf22CHC402bNk3Tp08PSu04eWVlZUpKSgp3Ge2Oz/TpX8Wf6Mn1L8hhOHRzzs81PHGgat/6q7wbv5KR0EXOS34hR87ZftueqM+qvdLbOx36x3dOvb/HLlOG8pO8+kn3Wl2W6lGvOKZ7CDV+zyIL/RV5WnNIt9mAVVFRoZKSElVXV/utO9F5V01pKWAd76WXXtLf/vY3LV68uMm6EhISVFxc3OgcLEaw2jbONQivXZV7dM+nc7T+wEad0aWv/uvMyUrfW6aDrz8lz54iOVIyFT/iF4rJPa/+cF9r+mzfEVOvbPPp5a2mlu825TGlfonSFek2/TjN0PmnGXLYGN0KNn7PIgv9dWrzC1g7duzQzTffrPfee8+v8bGrB71eb6tfqKWAtXfvXiUlJcnpdMrtduu6665Tv379dM899/i15ST3yMQHSduwePO7mr9qgSprqjQ88wLd2H+cumzaqIp3XpRn3w7Zk5LV8YJR6jBkpA4ecf+gPttz2NTbxaaWFPn04S5TZW4pyi5dlGLowhRDF5xmKK+LoVgHgctq/J5FFvrr1OYXsIYPH66NGzdq+vTpysrKksvlf37GhRdeGPALTJ48WW+99ZZ2796tzp07Ky4uTps3b9bMmTOVmpqqW2+9VYsWLdLMmTNlt9vl8Xg0bNgwzZkzp8kRKQJWZOKDpO04VFOpF9e9pjc2LtVhzxGdk3qmruwzQv3LalXzyZtyb1ojSbL3LVDC4B8puv/ZskV3+EGvVe0xVbjf1Ps7TH2w09Rne+pGt6Ls0sBOhgZ3NZTf2dCgzob6JYnQdZL4PYss9NepzS9gxcXFaeHChRo1alS4amoRASsy8UHS9pRVH9SSze9qyeb3tLtqrxKi4nVO9zOV3yFDvYr2KHrV59KB3ZIkV2Y/RfUaIFdGtpxpvWVP6CLD1vqZ3j0+Uyv21QWtFXvrwtf2Q5IpyW5Ip8dJ/RIN9U001CfeUM946fQ4Qz06SFF2wteJ8HsWWeivU5tfwMrLy9Ndd92lsWPHhqumFhGwIhMfJG2Xx+fV2r3r9Enx5/pi51faVblHkhTn7KjMDt2UXCMllVcq6sA+xR12K8YrOR1RciV0UVRcJ0XFd5Y9Klb22DjZYuNkOF0yHC4ZDqdsDpfkcEpNZaOj53pV1pj6rlL6rtJUUaWhksOmdlSa2tvg9E9TUqcoKSlKSnQZ6hItxbsMxTqkTlGG4pxStL1uWomOzroRsmMPh2HIlNnkazdX03ELT9DUOPqn0WCd0ejr8e0MGce9lHH0P8O/9fE1GUZ9u4arDMNQeXm5EhISG+zDv47vv2+4zmiw5Oh29U++X2cc/16beJ9N1aajr2HYHd//bPz2pSb2Ufc12h4lu635q8ojFZ+Lpza/gPX+++/rjjvu0Msvv6ysrKxw1dUsAlZk4oMkcuyp2qf1+zdq3a5vtL+2VLur9mr/kVIdqqlStcf/ohcg2JKiEzTi9Iv1y/wJ4S7FUnwuntocxy/40Y9+pOHDhysnJ0epqalKTExstN4wDK1ZsyZkBQIIrW4duqpbh67Kjevn9+Hv9tbocO1heXxeeXweeXwe1fo8Mk1TPq9HZvVh+Tw18tVWSx6PfLU1Mj018h8FauLi5eMuaG7pgGDDph6fqWqv5PZKRzzSEa9U45VqfFKtz5Tba6rGK3lMyeOTvEe/+kzJpwbfm3XjXHXf172GqcZf6/jq34F5XEHH/jT9ln2/7uh/DX4SdXtq+J7M+kZmo+0NmfJJ8vokr2nKa0q+Bt97G+zbaOpnfFw1NklOm6kOTineKcU4pI5OKcEpJbikxKOjhnbj+02PHw30Hfdu6t66edwSyfT5JK9XPm+t5K2V6fHI9NbKV1kuz8H98h7cJ8mQs0dPxZ49Qra4uukLfKZXL294U3//5nVd0+8qdY5hWgNEBr+ANX36dD300EMqKCho9iR3AO1TlN2lKDufCW1VaWmpEhKTVOOrC5jHgmb9V59U7TV10C2VuqUyt6mKWmnPEamkylSpW9p+yFRJRd08Z5JkM6Q+8dKgzobO7GronGRD+V0MxVh8QYK3olRVX7yjindelNY/qc43z1BMTt3dRQpOy9Wo127QlHem6R9X/a+lrwsEi1/Aeuqpp3TPPffof/7nf8JRDwDgJNhthmJsUkyzLU4cjDw+U7sPSxvLTX1z0NTXpdLKA6Ze2+aTx5RiHdK53QyN7GHoJxk29U44+bBlj++k+Et/ptizhmvvn6bowFMz1e13/ytntzQlRifovB5n69OSL+X21hDyERH8LgNyuVw6+2z/WZ0BAO2Dw2aoR0dDw7rb9Ksz7Jp/vl0rrnKoaoJDy660685cm6o80n+v8KnPyx7lL6rVQ2u9OlB98rP3OxK76rS7/irZHdr3yFT5qg5Jki7vdYkkqbKm8qRfAwgFv4A1ceJELVy4MBy1AADaMJfd0Hmn2TQj367lP3Fo9y8ceup8u+Kchu740qfTFnp0w4cefV16ckHL1iFOiVdPka+qXNUbCiVJca6OkqRDNVUn/T6AUPA7RBgfH6+PPvpIQ4cO1fDhw5s8yf32228PWYEAgLapa4yhidmGJmbbtKnc1BPrffrrRp9e2OzRqAxDD55lV9/EH3b4sOPQy1T5yesqe/VxRWUXKC6qbrJbRrAQKfymabCdYPLAH3qrHKswTUNk4nLkyEOfRZ620GdlblOPrfPpoa99Olgj3dzX0B/OtKtbbOuDVuWni3Xw1cfV6bppOpyTq6v/7yY9eNEMDel+ZhAqD7220F8IHr805fP5WnyEM1wBANq2pChDM/Lt2jTOodvOsOmZb03lvOrRK1t9rd5Xx/OulD0pWTU7tzU4RMgIFiJD6+91AQDACXSJNvTIULu+/alDPeMMXfO+V1e+49FBd+vOz3Kmnq7KD16RvfKQnDYH52AhYtgkaefOnfJ4PK3acOfOnYxmAQBalJVoaPlP7JqVb9OSIlNZL3v05d7AR7NiCy6WJFX/53PFOmP15qZ/BqtUwFI2SUpLS9PKlSsD3sjr9SotLY0Z3QEAJ+SyG7q7wK7PfmJXlUca8oZXz34bWMiKzb9I9i4p8hzYrc4xSdpWXqSD1RVBrhg4eQ6p7rYGH330kUpKSgLayOdr/bF0AED7dk43m/ZcZ+j8xR7d9IlXmypM/eFMm/8NrY/j6Jwi74HdmjziRk3/6B7V+GpCVDHww9VP03DnnXeGsw4AQDvQ0Wnoq9EOXfO+V/ev9mnPYVPzz7fLaWs+ZDk6n6aqz96W4+LhkqQab22oygV+MIckbdu27QdtnJqaamkxAIBTn80w9Opwh25b7tVj63067PXq2Qvsim7m/oZRvQao6rO35f3mK0lSLQELEcAhSRkZGeGuAwDQzjx6rl1xLun+1T65vV69eLG9yZtIxxZcrIp//UO2o7fNqfURsND2MU0DACBs/jjYrt8Nsun/tpuastyrWl/T0zjY4zvJXlkXsDhEiEjgd6scAABC6Y+D7Sqvkeat9ymjo0+zCux+bewJnWXfv1XqzAgWIgMjWACAsHv4HJvGZBr6/UqfHv6P/xyL9oTO0p66K905BwuRgIAFAAg7h83QMxfYdVZXQ//1uc/v1jqOTt3kcLslMYKFyOAXsJ5//nkdOHCgycalpaV6/vnng14UAKD9SYwy9PdhdqXEStd/5NWq/d+fjxU7eLhczmhJUo23dXceAcLBL2BNmDBBW7ZsabLxtm3bNGHChKAXBQBon06PN7T4UofcXmnsvzyq9tSFLMPhVIeeAyRJNV4mGkXb5xewTLP5G3GWlZUpLi4uqAUBANq3gq6G3h5p19ZD0sh/fn8+lqtDoiQOESIyOCRp6dKlWrp0af3CuXPnqlu3bo0aVldX64MPPtCgQYNCWyEAoN0Z2cPQ9FybHlzj0/QvvXrwbLuccUmyl3OSOyKDQ5I2btyoxYsXS5IMw9CyZcsUFRXVqKHL5VL//v31xz/+MfRVAgDaFcMw9PsCm97fYepPa326tIehs+IS5SyTanycg4W2zyFJv/3tb/Xb3/5WknT66afr9ddfV25ublgLAwC0b1F2Q+9eZlen5z36ybteFeckyOkzVbV9ndRvVLjLA1rkN9HoD70vIQAAVkuKMrRurENnvOrRZZsG6jRTOrKvONxlASfU5EzuZWVlWrp0qUpKSlRdXd1onWEYmjFjRkiKAwAgJ8nQXYNs+sPqRI2KilZtbfWJNwLCzC9gvfvuuxo7dqwqKysVExMjl8vVaD0BCwAQaveeadOr23xyVzl0uMYd7nKAE/KbpuGOO+7Q4MGDtW3bNlVVVamsrKzRo7S0NBx1AgDaMcMwtPZqhww5VOl2a/fh5qcUAtoCv4C1detW3XnnncrIyAhHPQAANMllN5QQ7dDyrh5N/PiAPD5CFtouv4CVn5+v4mJOIAQAtD1ju+VLklYU79Q/thKw0Hb5BawnnnhCjzzyiN555x15PMw1AgBoO/p17iNJuv3wm7ruQ68K9/lOsAUQHg5JiouLk2EY9Qtramp02WWXyWazKSYmptEGhmGovLw8tFUCACCpY3pf6T9Srm2HJGnyp159dLmhOJdxgi2B0HJIdSe2NwxYAAC0RS5nrCTJ7qnSn86yadoKnx5Y49MfBtvDXBnQmEOSZs2aFeYyAAA4MafdKUmqcVfpv3PtWn/Q1B9X+zSos6Gf9vQ76wUIG/42AgAihutowHLXHpHp82pWvl1do+sOFZZUctI72g6/iUaHDRvWbGObzaaEhATl5eVpwoQJ6t69e1CLAwCgIZetLmB5JPkOH1JGXKIWXGjX5e94deunXi0Z2eQNSoCQ8xvBSkhI0ObNm7Vs2TJVVFQoOjpaFRUVWrZsmTZu3KiysjLNnTtXOTk5WrlyZThqBgC0U8cOEdbaJG953cTXl6Xb9Mg5Nr1VbOp3K7zhLA+o5xewfvrTnyoxMVGbN29WYWGh3n77bRUWFmrTpk1KSEjQjTfeqK1bt6p379763e9+F46aAQDtlM2wyWHYVWtIZS/OqV9+S7ZNQ7sZemCNT++WMHUDws8vYP3+97/XrFmz/GZyz8zM1N133617771XSUlJmjp1qr744ouQFQoAgFQ3imV26yHfkcr6ZTEOQ/8YVncl4bUfeHXYw/lYCC+/gFVUVNTslA2GYWjHjrq5R1JTU5mIFAAQci67U+rWQ97KgzLN74NUj46G1oxxqMwtnfGKp9E6INT8AtbgwYM1c+ZMv9vlfPfdd7r77rt11llnSZK2b9/OSe4AgJBz2VzyuJxSbY1M9+FG6wZ2NjTnbJu2V9aNZBGyEC5+l1vMnz9fl1xyiXr16qUBAwaoa9eu2rdvn9auXatu3brplVdekSTt2bNHkyZNCnnBAID2zWl3yuOsO9nde+igbNEdGq3/fwNsWrbb1MtbTZ3Zxaf/zmUSUoSeX8DKycnRli1b9Ne//lWFhYXatWuXcnNzdcstt2jChAmKjo6WJE2bNi3kxQIA4LQ55HHUhSZfRanUtfHRFMMw9Npwu3r/w6NpK3zK62JoeHemfURoNTlhSHR0tKZMmRLqWgAAOCGX3aXaowHrwHN/VOo9L/m1sdsMbRznUMZLHl3ytlfrxxrql8Qt4RA6RHoAQERx2p3y2AzF5J4nX2V5s+dZOW2GPrnCoViHlPOqRxsPcj4WQscmSfHx8frqq68kSXFxcYqPj2/2kZCQENaCAQDtm8vmVK23VrEFF0s+n3xV5c227Z1g6J8j7XLapAuWeLS1gpCF0HBI0h133KGUlBQd+765aRoAAAg3l92pcneF7GldJEnesn2yd0xstv35KTa9fol05bteXbTEow8ud6h3Av/OIbgcknT33XfXL5g1a1a4agEA4ITsNoc+3/FvfddntGIkefaWyJXWp8VtLku36d0fSyOXenXhEo/eu8yhHM7JQhC1eA5WcXGxPvvsM1VVVYWqHgAAWnTTwJ9JkvaqWpJU+sKDAc139aPuNn1wuV0Ha6Shb3q0fDe31EHwNBmwnnrqKXXv3l0ZGRk6//zz9e2330qSRo8erYcffjikBQIA0FBGQpok6VBtleIvu1HS0ekaAnB+ik2f/8ShGLt0/mKv/r6FkIXg8AtYf/nLX3Tbbbfphhtu0Lvvvtvo/wouuuii+olGAQAIhyi7Sy67S5U1VYrJPU+SVLu3JODtB3Y2VDjaoYIuhn72gVe3LffK4+Pkd1jLL2A9+uijmjFjhu6//35dfPHFjdb17du3fjQLAIBw6ejsoMraKjk6nyZJqvp0cau2797B0MdX2jUp26bH1vuU84pHq/YTsmAdv4C1Y8cODR06tMnGTqdTlZWVTa4DACBUOro6qLKmSobDKXuXFB1Z86m8B/e3ah+xDkPzz7PpteF27TwsFfyfR9O+ZDQL1vALWBkZGVqxYkWTjb/88ktlZWUFvSgAAFpyLGBJUvKvZ0uSaopaf4TFMAyNOd2mXb9w6Oe9Dc1e61OXFzyav56ghZPjF7AmTpyo++67T88884wqKiokSbW1tXrrrbc0e/ZsTZ48OeRFAgDQ0LFDhJJkT+wiW3ySDjx3v3xHfthV73EuQwsvdujTK+3ql2jol8t9Ov3vHv3la68qawlaaD2/gDV16lTddNNNmjRpkrp27SpJOvfcczVq1Chdf/313KMQABB2ca6OWlb8hQ7XHpYkxY+4TvJ6dGTt8pPa77mn2fT5KIfev8yu3vGGbv/Cp+QXPLrpY48+2OFTjZewhcA0OU3DI488ok2bNunxxx/Xfffdp8cee0zffPONHnnkkVa/wG9+8xtlZmbKMAytXr262XZLlixRdna2+vTpozFjxtSPngEAcLzszr0lSf/avkyS1PHcy+VM76uylx6Se/s3J73/Yd1t+vAKh9aPdeiWbJsWF5n60dtepb3k0Q0fevTCJp+KKglbaJ5hBjI720n45JNP1LNnT5133nl6/fXXNWjQIL82lZWV6tWrlz7++GNlZ2fr17/+tWJiYjR79my/thUVFUpISFB5ebni4+ODWTosVFpaqk6dOoW7DLQCfRZ52luf3fz2f6lvp16aNuQ2SZJn307t/cvt8lWVK+nnUxV75jAZthbn0w5Yrc/URztNvfGdqX+W+LTl6BhASqx0ZhdDAzsZykkylJUg9Yo3lOjSCW871976q71xNLXQ6/Xqyy+/VElJiaqrq/3W33DDDQG/wAUXXHDCNkuXLlVeXp6ys7MlSVOmTNGll17aZMACAECS+nXO0uLN7+j0xAxdknmhXImJip04UwdffUw7/z5Hjg//ruj+Q+Tq0Vv2uE6yxXaUERUrw173T98J77t73OqhiXWPB3OlHZWmCvdLK/eb+k+ZqYW7pNIG/1x2cEo9YqWkKEOdY6Ru0TZ1dEodnXXLYh2St7pKXfZLUfa6KxpddpschuSwHX0Ykr3BV0OSzah72I3Gzw1J/m/HaOb7hov9lxtN/Wxa+FEZzTRqbhPDCCT0NthrS93UxDr/fjVarufYmgDuw2y320/Y5hi/gLVy5UqNGTNGxcXFTd56wDCMVgWsQBQVFSkjI6P+eWZmpnbt2iWPxyOHo8kM6HcIMSoqSlFRUZbWBQBou8b1G6Xiih167Ktn9NhXz3y/IkVSSpSkfdLBxdLB4NeS4ax7NOKT3EeknUekncEvASHw8S/eCLitX3r55S9/qYSEBD333HPKycmRy+WytDirpKWlNXo+bdo0TZ8+PUzV4ETKysrCXQJaiT6LPO2tzzooRjPz/5+KKktUUrlbpvxve2Oako4cktzVMmvdMmvdkhnA7XHMJr9tvlFLS5sYrPD4pMNut+zOaHlMU16zbpkpyZQhn1n3vc88+miwc7Puj/plZos1Nl+nYTa3NvAzh75/a4Fu07qzkn7I+2rcpKk2349UmS22Ozl+AWvdunV65ZVXdOGFF1r+Ys1JT0/Xe++9V/98+/btSklJaXb0Sqq7EXXDc7AYwWr7ONcg8tBnkac99lnnzp2Vp9xwl9FqnIN1avM7EJqVlRXyK/hGjhyplStXasOGDZKkefPm6dprr21xm/j4+EYPwhUAAGgr/ALWn//8Z91///31YedkTZ48WT169FBJSYlGjBih3r3rLq2dOXOm5s+fL0mKi4vT008/rauuukq9e/dWSUmJZsyYYcnrAwAAhJphmqY5YMCARmfd79q1S2VlZUpNTVViYmLjDQxDa9asCXWd9ZimITIxFB556LPIQ59FFvrr1OaQpIKCghNfrgoAAICAOCRpwYIFYS4DAADg1GHNFLcAAACoR8ACAACwGAELAADAYgQsAAAAixGwAAAALEbAAgAAsBgBCwAAwGIELAAAAIsRsAAAACxGwAIAALAYAQsAAMBiBCwAAACLEbAAAAAsRsACAACwGAELAADAYgQsAAAAixGwAAAALEbAAgAAsBgBCwAAwGIELAAAAIsRsAAAACxGwAIAALAYAQsAAMBiBCwAAACLEbAAAAAsRsACAACwGAELAADAYgQsAAAAixGwAAAALEbAAgAAsBgBCwAAwGIELAAAAIsRsAAAACxGwAIAALAYAQsAAMBiBCwAAACLEbAAAAAsRsACAACwGAELAADAYgQsAAAAixGwAAAALEbAAgAAsBgBCwAAwGIELAAAAIsRsAAAACxGwAIAALAYAQsAAMBiBCwAAACLEbAAAAAsRsACAACwGAELAADAYgQsAAAAixGwAAAALEbAAgAAsBgBCwAAwGIELAAAAIsFPWBt2rRJQ4cOVVZWlgYPHqx169b5tdm+fbvsdrsGDRpU/9iyZUuwSwMAAAgKR7BfYPLkyZo0aZLGjx+vV199VePHj9e///1vv3ZxcXFavXp1sMsBAAAIuqCOYO3du1eFhYW67rrrJElXX321iouLtXnz5mC+LAAAQFgFNWAVFxcrJSVFDkfdQJlhGEpPT1dRUZFf26qqKhUUFCg/P1/33HOPvF5vi/uuqKho9HC73UF5DwAAAK0V9EOEgUhJSdGOHTuUnJys0tJSjRs3TnPnztW0adOa3SYtLa3R82nTpmn69OnBLhU/UFlZWbhLQCvRZ5GHPoss9Ffk6dSpU8Btgxqw0tLStGvXLnk8HjkcDpmmqaKiIqWnpzdqFxUVpeTkZEl1xd90003629/+1mLAKi4uVnx8fKN9REVFBeeNwBKt+YuJtoE+izz0WWShv05dQT1EmJycrPz8fC1cuFCS9Nprr6lHjx7q3bt3o3Z79+5VbW2tJMntdmvRokXKy8trcd/x8fGNHoQrAADQVgR9moYnn3xSTz75pLKysvTAAw/o2WeflSTNnDlT8+fPlyR9+umnysvLU25urvLz83XaaafprrvuCnZpAAAAQWGYpmmGu4jWqKioUEJCgsrLyxsdIkTbVlpaylB4hKHPIg99FlnoVQiM3wAACzdJREFUr1MbM7kDAABYjIAFAABgMQIWAACAxQhYAAAAFiNgAQAAWIyABQAAYDECFgAAgMUIWAAAABYjYAEAAFiMgAUAAGAxAhYAAIDFCFgAAAAWI2ABAABYjIAFAABgMQIWAACAxQhYAAAAFiNgAQAAWIyABQAAYDECFgAAgMUIWAAAABYjYAEAAFiMgAUAAGAxAhYAAIDFCFgAAAAWI2ABAABYjIAFAABgMQIWAACAxQhYAAAAFiNgAQAAWIyABQAAYDECFgAAgMUIWAAAABYjYAEAAFiMgAUAAGAxAhYAAIDFCFgAAAAWI2ABAABYjIAFAABgMQIWAACAxQhYAAAAFiNgAQAAWIyABQAAYDECFgAAgMUIWAAAABYjYAEAAFiMgAUAAGAxAhYAAIDFCFgAAAAWI2ABAABYjIAFAABgMQIWAACAxQhYAAAAFiNgAQAAWIyABQAAYDECFgAAgMUIWAAAABYjYAEAAFiMgAUAAGCxiAtYbre70Ve0fW63Ww8++CB9FkHos8hDn0UW+ivyuN1uzZo1K+A+M0zTNINZ0KZNm3TjjTdq//79SkhI0IIFC3TGGWf4tVuyZImmTp0qr9erAQMGaMGCBYqPj/drV1JSorS0NBUXF6tHjx7BLB0WqaioUEJCgsrLy5vsU7Q99Fnkoc8iC/0VeVrbZ0EfwZo8ebImTZqkjRs3avr06Ro/frxfm8rKSt188816/fXXtWnTJqWmpuree+8NdmkAAABBEdSAtXfvXhUWFuq6666TJF199dUqLi7W5s2bG7VbunSp8vLylJ2dLUmaMmWKXnrppWCWBgAAEDSOYO68uLhYKSkpcjjqXsYwDKWnp6uoqEi9e/eub1dUVKSMjIz655mZmdq1a5c8Hk/9tsccO6K5a9euRsujoqIUFRUVrLeCk1BRUdHoK9o++izy0GeRhf6KPMf6KtAzq4IasIKhtrZWknTWWWeFuRK0VlpaWrhLQCvRZ5GHPoss9FfkqampCahdUANWWlpao5Eo0zRVVFSk9PT0Ru3S09P13nvv1T/fvn17o5GvhjIzM7VlyxY5nU4ZhlG/nBEsAAAQbHFxcQG1C/pVhBdddJHGjx+v8ePH69VXX9UDDzygwsLCRm0OHTqkXr166ZNPPlF2drZ+/etfKzo6WnPmzAlmaQAAAEER9ID17bffavz48Tpw4IDi4+P17LPPasCAAZo5c6ZSU1N16623SpLefPNNTZs2TR6PR/3799dzzz2nhISEYJYGAAAQFEEPWAAAAO1Nm53JfdOmTRo6dKiysrI0ePBgrVu3rsl2S5YsUXZ2tvr06aMxY8ZwRUYYBdJnX3/9tS644AJlZ2erf//+uummm3TkyJEwVAsp8N+zY8aPHy/DMHTw4MEQVYiGAu2voqIiXXnllerbt69ycnL06KOPhrhSHBNonz344IPKycnRoEGDNGTIEK1YsSLElUKSfvOb3ygzM1OGYWj16tXNtgsoe5ht1MUXX2w+++yzpmma5iuvvGKeeeaZfm0OHTpkJicnm998841pmqb5q1/9ypw6dWooy0QDgfTZxo0bzTVr1pimaZoej8e85pprzLvvvjuEVaKhQPrsmNdee8285ZZbTElmWVlZiCpEQ4H0l8/nM/Pz882XX365ftnu3btDVSKOE0ifrVq1ykxPTzcPHTpkmqZpvvDCC+bgwYNDWSaO+vjjj83i4mIzIyPDXLVqVZNtAs0ebTJg7dmzx4yLizNra2tN06z7wOjWrZu5adOmRu1efvllc8SIEfXP161bZ3bv3j2ktaJOoH12vNmzZ5s33nhjCCrE8VrTZ7t37zYLCgrMiooKAlaYBNpf7733nnnOOeeEo0QcJ9A+W716tZmSklIfhB999FFz9OjRIa8X32spYAWaPdrkIcKWJihtqKUJShFagfZZQ1VVVXr66ac1atSoUJWJBlrTZxMnTtSf/vSngC9PhvUC7a/169era9euuvbaa5WXl6fRo0dr69at4Si53Qu0z3Jzc3X77bfr9NNPV48ePfTnP/+Zw7ptWKDZo00GLJz6ampqNG7cOF166aUaPXp0uMtBC55++mmlp6dr2LBh4S4FAfB4PPrggw80Y8YMrVq1SiNGjNA111wT7rLQgm3btmnRokXavHmzSkpKdPvtt2vcuHHhLgsnqU0GrIYTlEpqcYLS7777rv55SxOUIrgC7TOpbjb+cePGKSUlRQ8//HCoS8VRgfbZhx9+qDfeeEOZmZnKzMyUJA0cOFCrVq0KdcntWms+F/Py8nTGGWdIkq6//nqtXLmy/i4YCJ1A++y1117TgAEDlJqaKkmaMGGCli9fHvCM4QitQLNHmwxYycnJys/P18KFCyXV/eXr0aNHo/sXStLIkSO1cuVKbdiwQZI0b948XXvttSGvF4H3mcfj0bXXXqtOnTrpqaeeajQbP0Ir0D578cUXVVxcrO3bt2v79u2SpLVr1yovLy/UJbdrgfbXj3/8Y5WUlGjHjh2SpLffflv9+vWT0+kMec3tXaB91rNnTy1fvlyVlZWS6q5Qy8rKksvlCnnNOLGAs0cwTg6zwoYNG8whQ4aYffr0MQsKCsy1a9eapmmaM2bMMJ944on6dm+88YbZt29fs1evXuaoUaPMgwcPhqvkdi+QPlu4cKEpyRw4cKCZm5tr5ubmmlOmTAln2e1aoL9nDYmT3MMm0P565513zNzcXHPgwIHm+eefX98OoRdIn/l8PvPOO+80+/btaw4cONA855xzzMLCwnCW3W5NmjTJ7N69u2m3283k5GSzV69epmn+sOzBRKMAAAAWa5OHCAEAACIZAQsAAMBiBCwAAACLEbAAAAAsRsACAACwGAELAADAYgQsAKeszMxMGYYhwzDqJ3s8WUOGDKnf55w5cyzZJ4BTDwELwClt7Nix+vzzzzVy5EhL9vfMM8/o888/t2RfAE5d3LQPwCmtW7duGjJkiGX7O3aPPwBoCSNYANq0iooKZWRkaOzYsY2W33rrrercubN27tzZ6n1edNFFuuKKK/TSSy+pT58+io2N1ZVXXqmysjJ99913GjFihDp27KgzzjhDH330kUXvBEB7QsAC0KbFx8fr2Wef1aJFi/TCCy9IkpYuXaonn3xS8+bNU2pq6g/a76pVq/Twww9rzpw5mj9/vpYtW6aJEydq7NixuuKKK7Ro0SIlJydrzJgx9TfhBYBAcYgQQJs3bNgw3Xbbbbrttts0YMAA3XzzzfrZz36mcePG/eB9lpeXa82aNerSpYskae3atZo7d66eeOIJ3XrrrZKk1NRUDRgwQO+//75GjRplyXsB0D4wggUgIjzwwANKSUnRkCFDZLPZ9Pjjj5/U/gYNGlQfriQpKytLkjR8+HC/ZcXFxSf1WgDaHwIWgIgQExOjq666Sm63Wz//+c+VlJR0UvtLTExs9NzlcvktP7asurr6pF4LQPtDwAIQEdauXauHHnpIeXl5evTRR/XNN9+EuyQAaBYBC0CbV1NTo+uvv15nnXWWvvjiC/Xv31833HCDPB5PuEsDgCYRsAC0eTNnztSWLVu0YMECuVwuPf/88/rPf/6j++67L9ylAUCTCFgA2rTPPvtMs2fP1ty5c9WrVy9JUr9+/XT//ffrD3/4gwoLC8NcIQD4M0zTNMNdBAAEQ2Zmpi6//HI9/PDDstvtMgzjpPfp9XplmqacTqdmz56tqVOnWlApgFMNI1gATmnz5s2T0+nUiy++aMn+zj33XDmdTkv2BeDUxQgWgFPW119/LbfbLUnq2bOnOnXqdNL73LBhQ/3M7mlpaerWrdtJ7xPAqYeABQAAYDEOEQIAAFjs/wOzpludFJYaUQAAAABJRU5ErkJggg==\" />"
      ]
     },
     "metadata": {},
     "output_type": "display_data"
    }
   ],
   "source": [
    "p = plotxh(\"Breaking Dam with different correction terms\")\n",
    "for w = [0.1, 0.5, 0.9]\n",
    "    qs,t,ts = run_experiment(50, 1000, make_cfl_dt(w), lxf!, outflow_bcs!, breakingdam_ics)\n",
    "    plotxh!(p, qs, \"w=$w [$ts timesteps]\")\n",
    "end\n",
    "display(p)"
   ]
  },
  {
   "cell_type": "markdown",
   "metadata": {
    "slideshow": {
     "slide_type": "slide"
    }
   },
   "source": [
    "# Concept of Numerical Viscosity\n",
    "* Show some math here, rearranging the Godunov to extract the viscous version"
   ]
  },
  {
   "cell_type": "markdown",
   "metadata": {
    "slideshow": {
     "slide_type": "slide"
    }
   },
   "source": [
    "# Rusanov Idea\n",
    "* Mathematical justification\n",
    "* CFL condition constrains $\\Delta x/\\Delta t \\geq \\lambda_{max}$ \n",
    "* Show wave speed alongside height distribution"
   ]
  },
  {
   "cell_type": "code",
   "execution_count": 225,
   "metadata": {
    "collapsed": false
   },
   "outputs": [
    {
     "data": {
      "text/html": [
       "<img src=\"data:image/png;base64,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\" />"
      ]
     },
     "execution_count": 225,
     "metadata": {},
     "output_type": "execute_result"
    }
   ],
   "source": [
    "qs,t,ts = run_experiment(60, 100, cfl_dt, lxf!, periodic_bcs!, gaussian_ics)\n",
    "plotxhul(qs, \"\")"
   ]
  },
  {
   "cell_type": "markdown",
   "metadata": {
    "slideshow": {
     "slide_type": "slide"
    }
   },
   "source": [
    "# Local Lax Friedrich Implementation"
   ]
  },
  {
   "cell_type": "code",
   "execution_count": 45,
   "metadata": {
    "collapsed": false,
    "slideshow": {
     "slide_type": "-"
    }
   },
   "outputs": [
    {
     "data": {
      "text/plain": [
       "llxf! (generic function with 1 method)"
      ]
     },
     "execution_count": 45,
     "metadata": {},
     "output_type": "execute_result"
    }
   ],
   "source": [
    "function llxf!(qs::Array{Q,1}, Fl::Array{Q,1}, Fr::Array{Q,1}, \n",
    "              ncells::Int, dx::Float, dt::Float)\n",
    "    \n",
    "    for x = 2:ncells+2\n",
    "        ql, qr = qs[x-1], qs[x]\n",
    "        fl, fr = f(ql), f(qr)\n",
    "\n",
    "        a = max(wavespeed(ql), wavespeed(qr))\n",
    "        \n",
    "        Fr[x-1] = 0.5*((fr - fl) - a*(qr - ql))\n",
    "        Fl[x-1] = 0.5*((fr - fl) + a*(qr - ql))\n",
    "    end\n",
    "end"
   ]
  },
  {
   "cell_type": "markdown",
   "metadata": {
    "slideshow": {
     "slide_type": "slide"
    }
   },
   "source": [
    "# Comparing Lax-Friedrich to Local-Lax-Friedrich"
   ]
  },
  {
   "cell_type": "code",
   "execution_count": 91,
   "metadata": {
    "collapsed": false,
    "slideshow": {
     "slide_type": "skip"
    }
   },
   "outputs": [],
   "source": [
    "q1,t,ts = run_experiment(50, 500, make_cfl_dt(0.3), llxf!, outflow_bcs!, breakingdam_ics)\n",
    "q2,t,ts = run_experiment(50, 500, make_cfl_dt(0.3), lxf!, outflow_bcs!, breakingdam_ics)\n",
    "p = plotxh(\"Breaking Dam using LxF vs Local-LxF\")\n",
    "plotxh!(p, q1, \"LLxF [$ts timesteps]\")\n",
    "plotxh!(p, q2, \"LxF [$ts timesteps]\")\n",
    "figure1 = p;"
   ]
  },
  {
   "cell_type": "code",
   "execution_count": null,
   "metadata": {
    "collapsed": false,
    "slideshow": {
     "slide_type": "skip"
    }
   },
   "outputs": [],
   "source": [
    "ncells = 200\n",
    "\n",
    "t0 = 0\n",
    "qs = breakingdam_ics(ncells)\n",
    "Fl = Array{Q,1}(ncells+2)\n",
    "Fr = Array{Q,1}(ncells+2)\n",
    "\n",
    "t0l = 0\n",
    "qsl = breakingdam_ics(ncells)\n",
    "Fll = Array{Q,1}(ncells+2)\n",
    "Frl = Array{Q,1}(ncells+2)\n",
    "\n",
    "a = @animate for t=0.0:4.0:1000.0\n",
    "    p = plotxh(\"Breaking dam, reflecting boundaries, t=$t\")\n",
    "    q,t0,ts = run_experiment!(qs, Fl, Fr, t0, t, ncells, make_cfl_dt(0.4), lxf!, reflecting_bcs!)\n",
    "    ql,t0l,tsl = run_experiment!(qsl, Fll, Frl, t0l, t, ncells, make_cfl_dt(0.4), llxf!, reflecting_bcs!)\n",
    "    plotxh!(p, q, \"LxF w=0.4, timesteps=$ts\")\n",
    "    plotxh!(p, ql, \"LLxF w=0.4, timesteps=$tsl\")\n",
    "end\n",
    "figure31 = gif(a, \"animations/breakingdam_reflecting_cmp.gif\", fps = 20);"
   ]
  },
  {
   "cell_type": "code",
   "execution_count": 208,
   "metadata": {
    "collapsed": false,
    "slideshow": {
     "slide_type": "slide"
    }
   },
   "outputs": [
    {
     "data": {
      "text/html": [
       "<img src=\"animations/breakingdam_reflecting_cmp.gif?0.19035386887478944>\" />"
      ],
      "text/plain": [
       "Plots.AnimatedGif(\"/Users/nathanwbrei/src/shallow_water/animations/breakingdam_reflecting_cmp.gif\")"
      ]
     },
     "execution_count": 208,
     "metadata": {},
     "output_type": "execute_result"
    }
   ],
   "source": [
    "figure31"
   ]
  },
  {
   "cell_type": "markdown",
   "metadata": {},
   "source": [
    "* Run breaking dam scenario with $t=0..1000, ncells=200, correction=0.4$\n",
    "* Both waves propagate at the same speed, no apparent loss of conserved quantities\n",
    "* Local-Lax-Friedrich dissipates less than Lax-Friedrich for the same correction factor\n",
    "* Local-Lax-Friedrich is smooth, whereas Lax-Friedrich exhibits stairstepping"
   ]
  },
  {
   "cell_type": "markdown",
   "metadata": {},
   "source": [
    "# Comparing Lax-Friedrich to Local-Lax-Friedrich"
   ]
  },
  {
   "cell_type": "code",
   "execution_count": 153,
   "metadata": {
    "collapsed": false,
    "slideshow": {
     "slide_type": "skip"
    }
   },
   "outputs": [],
   "source": [
    "p = plotxh(\"Breaking Dam comparison of LxF vs Local-LxF\")\n",
    "for w = [0.1, 0.4, 0.9]\n",
    "    qs,t,ts = run_experiment(50, 200, make_cfl_dt(w), llxf!, outflow_bcs!, breakingdam_ics)\n",
    "    plotxh!(p, qs, \"LLxF w=$w [$ts timesteps]\")\n",
    "end\n",
    "qs,t,ts = run_experiment(50, 200, make_cfl_dt(1.0), lxf!, outflow_bcs!, breakingdam_ics)\n",
    "plotxh!(p, qs, \"LxF w=1.0 [$ts timesteps]\")\n",
    "figure2 = p;"
   ]
  },
  {
   "cell_type": "code",
   "execution_count": 154,
   "metadata": {
    "collapsed": false,
    "slideshow": {
     "slide_type": "skip"
    }
   },
   "outputs": [
    {
     "data": {
      "text/html": [
       "<img src=\"data:image/png;base64,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\" />"
      ]
     },
     "execution_count": 154,
     "metadata": {},
     "output_type": "execute_result"
    }
   ],
   "source": [
    "figure2"
   ]
  },
  {
   "cell_type": "code",
   "execution_count": 209,
   "metadata": {
    "collapsed": false,
    "slideshow": {
     "slide_type": "skip"
    }
   },
   "outputs": [],
   "source": [
    "a = @animate for w = 0.1:0.1:1.0\n",
    "    qll,t,tsl = run_experiment(50, 200, make_cfl_dt(w), llxf!, outflow_bcs!, breakingdam_ics)\n",
    "    ql,t,ts   = run_experiment(50, 200, make_cfl_dt(w), lxf!, outflow_bcs!, breakingdam_ics)\n",
    "    p = plotxh(\"Breaking Dam comparison of LxF vs Local-LxF\")\n",
    "    plotxh!(p, qll, \"LLxF w=$w\")\n",
    "    plotxh!(p, ql, \"LxF w=$w\")\n",
    "end\n",
    "llxf_w_lt_1 = a;"
   ]
  },
  {
   "cell_type": "code",
   "execution_count": 210,
   "metadata": {
    "collapsed": false,
    "slideshow": {
     "slide_type": "skip"
    }
   },
   "outputs": [
    {
     "name": "stderr",
     "output_type": "stream",
     "text": [
      "\u001b[1m\u001b[36mINFO: \u001b[39m\u001b[22m\u001b[36mSaved animation to /Users/nathanwbrei/src/shallow_water/animations/llxf_w_lt_1.gif\n",
      "\u001b[39m"
     ]
    }
   ],
   "source": [
    "figure3 = gif(llxf_w_lt_1, \"animations/llxf_w_lt_1.gif\", fps = 10);"
   ]
  },
  {
   "cell_type": "code",
   "execution_count": 211,
   "metadata": {
    "collapsed": false,
    "slideshow": {
     "slide_type": "slide"
    }
   },
   "outputs": [
    {
     "data": {
      "text/html": [
       "<img src=\"animations/llxf_w_lt_1.gif?0.1747817274746899>\" />"
      ],
      "text/plain": [
       "Plots.AnimatedGif(\"/Users/nathanwbrei/src/shallow_water/animations/llxf_w_lt_1.gif\")"
      ]
     },
     "execution_count": 211,
     "metadata": {},
     "output_type": "execute_result"
    }
   ],
   "source": [
    "figure3"
   ]
  },
  {
   "cell_type": "markdown",
   "metadata": {
    "slideshow": {
     "slide_type": "-"
    }
   },
   "source": [
    "* For Lax-Friedrich, $w$ affects dissipation\n",
    "* For Local-Lax-Friedrich, $w$ affects dissipation much less\n",
    "* Lax-Friedrich approaches Local-Lax-Friedrich as $w \\to 1.0$\n",
    "* Both methods are unstable for $w > 1.0$ due to CFL violation"
   ]
  },
  {
   "cell_type": "markdown",
   "metadata": {},
   "source": [
    "# Comparing Lax-Friedrich to Local-Lax-Friedrich"
   ]
  },
  {
   "cell_type": "code",
   "execution_count": 215,
   "metadata": {
    "collapsed": false
   },
   "outputs": [
    {
     "name": "stderr",
     "output_type": "stream",
     "text": [
      "\u001b[1m\u001b[36mINFO: \u001b[39m\u001b[22m\u001b[36mSaved animation to /Users/nathanwbrei/src/shallow_water/animations/gaussian_cmp.gif\n",
      "\u001b[39m"
     ]
    }
   ],
   "source": [
    "ncells = 200\n",
    "\n",
    "t0 = 0\n",
    "qs = gaussian_ics(ncells)\n",
    "Fl = Array{Q,1}(ncells+2)\n",
    "Fr = Array{Q,1}(ncells+2)\n",
    "\n",
    "t0l = 0\n",
    "qsl = gaussian_ics(ncells)\n",
    "Fll = Array{Q,1}(ncells+2)\n",
    "Frl = Array{Q,1}(ncells+2)\n",
    "\n",
    "a = @animate for t=0.0:4.0:1000.0\n",
    "    p = plotxh(\"Gaussian, periodic boundaries, t=$t\")\n",
    "    q,t0,ts = run_experiment!(qs, Fl, Fr, t0, t, ncells, make_cfl_dt(0.4), lxf!, periodic_bcs!)\n",
    "    ql,t0l,tsl = run_experiment!(qsl, Fll, Frl, t0l, t, ncells, make_cfl_dt(0.4), llxf!, periodic_bcs!)\n",
    "    plotxh!(p, q, \"LxF w=0.4, timesteps=$ts\")\n",
    "    plotxh!(p, ql, \"LLxF w=0.4, timesteps=$tsl\")\n",
    "end\n",
    "figure32 = gif(a, \"animations/gaussian_cmp.gif\", fps = 20);"
   ]
  },
  {
   "cell_type": "code",
   "execution_count": 216,
   "metadata": {
    "collapsed": false
   },
   "outputs": [
    {
     "data": {
      "text/html": [
       "<img src=\"animations/gaussian_cmp.gif?0.845637128379553>\" />"
      ],
      "text/plain": [
       "Plots.AnimatedGif(\"/Users/nathanwbrei/src/shallow_water/animations/gaussian_cmp.gif\")"
      ]
     },
     "execution_count": 216,
     "metadata": {},
     "output_type": "execute_result"
    }
   ],
   "source": [
    "figure31"
   ]
  },
  {
   "cell_type": "markdown",
   "metadata": {},
   "source": [
    "* Run gaussian scenario with $t=0..1000, ncells=200, correction=0.4$"
   ]
  },
  {
   "cell_type": "markdown",
   "metadata": {
    "slideshow": {
     "slide_type": "skip"
    }
   },
   "source": [
    "# Implementation Details -- Spatial Discretization"
   ]
  },
  {
   "cell_type": "code",
   "execution_count": null,
   "metadata": {
    "collapsed": false,
    "scrolled": true,
    "slideshow": {
     "slide_type": "skip"
    }
   },
   "outputs": [],
   "source": [
    "p = plotxh(\"Gaussian for different ncells\")\n",
    "for ncells = [100,200,300,400,500,600]\n",
    "    qs,t,ts = run_experiment(2000, ncells, 1.0, periodic_bcs!, gaussian_ics)\n",
    "    plotxh!(p, qs, \"ncells=$ncells [$ts timesteps]\")\n",
    "end\n",
    "display(p)"
   ]
  },
  {
   "cell_type": "markdown",
   "metadata": {
    "slideshow": {
     "slide_type": "skip"
    }
   },
   "source": [
    "# Implementation Details -- Staircase instability from incorrect dt\n",
    "\n",
    "* The existing code skeleton does not use the $\\Delta t$ obtained from the CFL condition inside Lax-Friedrichs\n",
    "* Instead, it uses the $\\Delta t$ from the previous timestep\n",
    "* The initial value $\\Delta t_0 = 0.4\\frac{ncells}{a_{adv}}$ where $a_{adv} = 0.25$\n",
    "* This leads to a staircase instability:"
   ]
  },
  {
   "cell_type": "code",
   "execution_count": null,
   "metadata": {
    "collapsed": false,
    "slideshow": {
     "slide_type": "skip"
    }
   },
   "outputs": [],
   "source": [
    "q1,t,ts1 = run_experiment(800, 200, make_cfl_dt(0.4), lxf!, outflow_bcs!, breakingdam_ics)\n",
    "q2,t,ts2 = run_experiment(800, 200, make_lagging_dt(0.4), outflow_bcs!, breakingdam_ics)\n",
    "\n",
    "p = plotxh(\"Breaking Dam comparison of LxF vs LxF-staircase\")\n",
    "plotxh!(p, q1, \"LLxF w=0.7 [$ts1 timesteps]\")\n",
    "plotxh!(p, q2, \"LLxF_staircase w=0.7 [$ts2 timesteps]\")\n",
    "display(p)"
   ]
  }
 ],
 "metadata": {
  "celltoolbar": "Slideshow",
  "kernelspec": {
   "display_name": "Julia 0.6.0",
   "language": "julia",
   "name": "julia-0.6"
  },
  "language_info": {
   "file_extension": ".jl",
   "mimetype": "application/julia",
   "name": "julia",
   "version": "0.6.0"
  }
 },
 "nbformat": 4,
 "nbformat_minor": 0
}
