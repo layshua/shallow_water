{
 "cells": [
  {
   "cell_type": "markdown",
   "metadata": {
    "slideshow": {
     "slide_type": "slide"
    }
   },
   "source": [
    "# Solving the Shallow Water Equations using Finite Volumes and Lax-Friedrichs\n",
    "---\n",
    "Nathan Brei\n",
    "\n",
    "Technical University of Munich\n",
    "\n",
    "14 December 2017\n",
    "\n",
    "---\n",
    "\n",
    "This paper has three aims:\n",
    "- Briefly introduce shallow water equations\n",
    "- Explore the concept of numerical viscosity via Lax-Friedrich and Local-Lax-Friedrich methods\n",
    "- Demonstrate code organization using Julia"
   ]
  },
  {
   "cell_type": "markdown",
   "metadata": {
    "slideshow": {
     "slide_type": "slide"
    }
   },
   "source": [
    "# Shallow Water Equations (1-D)\n",
    "\n",
    "The shallow water equations are a set of hyperbolic partial differential equations.\n",
    "\n",
    "Specifically, they describe mass and momentum conservation on a fluid in a channel of unit width, subject to the following assumptions:\n",
    "\n",
    "* Small vertical velocity\n",
    "* Pressure is determined by hydrostatic pressure $p=\\frac{1}{2}\\rho gh^2$\n",
    "* Constant horizontal velocity $u(x)$ across any cross section $x$\n",
    "\n",
    "$\\begin{bmatrix}h \\\\ hu \\end{bmatrix}_t + \\begin{bmatrix}hu \\\\ hu^2 + \\frac{1}{2}gh^2\\end{bmatrix}_x = 0 $\n",
    "\n",
    "\n",
    "Formulate as a general conservation law in differential form: $q_t(x,t) + f(q(x,t))_x = 0$\n",
    "\n",
    "$q := (h, hu) \\in Q$\n",
    "\n",
    "$f : (q_1, q_2) \\mapsto \\begin{bmatrix} q_2\\\\ q_2^2/q_1 + \\frac{1}{2}gq_1^2\\end{bmatrix}$\n",
    "\n",
    "How do we abstract this?\n",
    "- Need state space, flux, and wavespeed\n",
    "\n",
    "The first step to translating this into Julia is to use "
   ]
  },
  {
   "cell_type": "code",
   "execution_count": 6,
   "metadata": {
    "collapsed": false,
    "slideshow": {
     "slide_type": "-"
    }
   },
   "outputs": [
    {
     "data": {
      "text/plain": [
       "Array{Q,1}"
      ]
     },
     "execution_count": 6,
     "metadata": {},
     "output_type": "execute_result"
    }
   ],
   "source": [
    "const Float = Float64\n",
    "const G = 9.81f0\n",
    "\n",
    "mutable struct Q\n",
    "    h :: Float\n",
    "    hu :: Float\n",
    "end\n",
    "\n",
    "QS = Array{Q,1}"
   ]
  },
  {
   "cell_type": "markdown",
   "metadata": {},
   "source": []
  },
  {
   "cell_type": "code",
   "execution_count": 4,
   "metadata": {
    "collapsed": false
   },
   "outputs": [
    {
     "ename": "LoadError",
     "evalue": "\u001b[91mUndefVarError: Q not defined\u001b[39m",
     "output_type": "error",
     "traceback": [
      "\u001b[91mUndefVarError: Q not defined\u001b[39m",
      "",
      "Stacktrace:",
      " [1] \u001b[1minclude_string\u001b[22m\u001b[22m\u001b[1m(\u001b[22m\u001b[22m::String, ::String\u001b[1m)\u001b[22m\u001b[22m at \u001b[1m./loading.jl:515\u001b[22m\u001b[22m"
     ]
    }
   ],
   "source": [
    "function f(q :: Q)\n",
    "    Q(q.hu, q.hu^2/q.h + 0.5*G*q.h^2)\n",
    "end"
   ]
  },
  {
   "cell_type": "markdown",
   "metadata": {
    "slideshow": {
     "slide_type": "slide"
    }
   },
   "source": [
    "\n",
    "\n",
    "## Types and Methods in Julia\n",
    "\n",
    "* Types are composed of primitives, structures, unions, tuples, abstract types\n",
    "* Types are parametric\n",
    "* Type annotations are optional\n",
    "* Inheritance is restricted to abstract types\n",
    "* Type system offers no encapsulation, but does support invariants and immutability\n",
    "* Methods resolved via multiple dispatch (using all arguments rather than the first)\n",
    "\n",
    "## Defining a vector space over Q"
   ]
  },
  {
   "cell_type": "code",
   "execution_count": 217,
   "metadata": {
    "collapsed": false
   },
   "outputs": [
    {
     "data": {
      "text/plain": [
       "* (generic function with 215 methods)"
      ]
     },
     "execution_count": 217,
     "metadata": {},
     "output_type": "execute_result"
    }
   ],
   "source": [
    "import Base.+\n",
    "import Base.-\n",
    "import Base.*\n",
    "\n",
    "function +(lhs::Q, rhs::Q)\n",
    "    Q(lhs.h + rhs.h, lhs.hu + rhs.hu)\n",
    "end\n",
    "\n",
    "function -(lhs::Q, rhs::Q)\n",
    "    Q(lhs.h - rhs.h, lhs.hu - rhs.hu)\n",
    "end\n",
    "\n",
    "function *(a::Real, q::Q)\n",
    "    Q(a*q.h, a*q.hu)\n",
    "end"
   ]
  },
  {
   "cell_type": "markdown",
   "metadata": {
    "slideshow": {
     "slide_type": "slide"
    }
   },
   "source": [
    "The third place where the shallow water equations enter the numerical model is in the wavespeed function. The physical wave speeds are given by the eigenvalues of the flux Jacobian\n",
    "\n",
    "$f'(q) = \\begin{bmatrix}0 & 1 \\\\ -u^2 + gh & 2u \\end{bmatrix}$\n",
    "\n",
    "$\\lambda_{max} = \\max\\ \\lvert u \\pm \\sqrt{gh} \\rvert$\n",
    "\n",
    "- What does the wavespeed represent physically?\n",
    "These \n"
   ]
  },
  {
   "cell_type": "code",
   "execution_count": 2,
   "metadata": {
    "collapsed": false
   },
   "outputs": [
    {
     "ename": "LoadError",
     "evalue": "\u001b[91mUndefVarError: Q not defined\u001b[39m",
     "output_type": "error",
     "traceback": [
      "\u001b[91mUndefVarError: Q not defined\u001b[39m",
      "",
      "Stacktrace:",
      " [1] \u001b[1minclude_string\u001b[22m\u001b[22m\u001b[1m(\u001b[22m\u001b[22m::String, ::String\u001b[1m)\u001b[22m\u001b[22m at \u001b[1m./loading.jl:515\u001b[22m\u001b[22m"
     ]
    }
   ],
   "source": [
    "function wavespeed(q :: Q)\n",
    "    u = q.hu / q.h\n",
    "    c = sqrt(G * q.h)\n",
    "    max(abs(u-c), abs(u+c))\n",
    "end"
   ]
  },
  {
   "cell_type": "markdown",
   "metadata": {},
   "source": [
    "\n",
    "What is the CFL condition?\n",
    "\n",
    "* Necessary condition for numerical stability\n",
    "* Information propagates through the spatial domain at finite speeds\n",
    "* Need {true domain of dependence} $\\subset$ {numerical domain of dependence}\n",
    "\n",
    "- Intuitive meaning: Outrunning\n",
    "- Why is there a correction term? Linear vs nonlinear case\n",
    "\n",
    "$ \\nu := \\lvert\\frac{\\bar{u}\\Delta t}{\\Delta x} \\rvert = \\frac{\\Delta t}{\\Delta x} \\lvert \\lambda_{max} \\rvert  \\leq 1 $\n",
    "\n"
   ]
  },
  {
   "cell_type": "code",
   "execution_count": 3,
   "metadata": {
    "collapsed": false,
    "slideshow": {
     "slide_type": "fragment"
    }
   },
   "outputs": [
    {
     "ename": "LoadError",
     "evalue": "\u001b[91mUndefVarError: Q not defined\u001b[39m",
     "output_type": "error",
     "traceback": [
      "\u001b[91mUndefVarError: Q not defined\u001b[39m",
      "",
      "Stacktrace:",
      " [1] \u001b[1minclude_string\u001b[22m\u001b[22m\u001b[1m(\u001b[22m\u001b[22m::String, ::String\u001b[1m)\u001b[22m\u001b[22m at \u001b[1m./loading.jl:515\u001b[22m\u001b[22m"
     ]
    }
   ],
   "source": [
    "\n",
    "function cfl_dt(qs::Array{Q,1}, dx::Float, correction=1.0::Float)\n",
    "    lambda = map(wavespeed,qs) |> maximum\n",
    "    dx / lambda * correction\n",
    "end"
   ]
  },
  {
   "cell_type": "markdown",
   "metadata": {
    "slideshow": {
     "slide_type": "slide"
    }
   },
   "source": [
    "## Finite Volumes\n",
    "\n",
    "- What are finite volumes? \n",
    "- Advantages: Conserves physical quantities\n",
    "\n",
    "Let $C_i := (x_{i-1/2}, x_{i+1/2})$ represent a grid cell in our spatial domain. The conservation equations may be represented in integral form as:\n",
    "\n",
    "$$\\frac{d}{dt} \\int_{C_i} q(x,t) dx = f(q(x_{i-1/2},t)) - f(q(x_{1+1/2},t))$$\n",
    "\n",
    "- Define spatial domain in Julia\n",
    "-- Ghost cells, indexing, type aliasing"
   ]
  },
  {
   "cell_type": "code",
   "execution_count": null,
   "metadata": {
    "collapsed": true
   },
   "outputs": [],
   "source": []
  },
  {
   "cell_type": "markdown",
   "metadata": {
    "slideshow": {
     "slide_type": "fragment"
    }
   },
   "source": [
    "Integrate both sides with respect to time:\n",
    "\n",
    "$$\\int_{C_i} q(x,t_{n+1})dx - \\int_{C_i} q(x,t_n) dx = \\int_{t_n}^{t_{n+1}} f(q(x_{i-1/2},t))dt - \\int_{t_n}^{t_{n+1}} f(q(x_{i+1/2},t))dt $$\n",
    "\n",
    "Let $Q_{i}^{n} \\approx \\frac{1}{\\Delta x} \\int_{C_i} q(x,t_n) dx $ be the appx. average $q$ in cell $i$ at time $n$.\n",
    "\n",
    "Let $F_{i+1/2}^{n} \\approx \\frac{1}{\\Delta t} \\int_{t_n}^{t_{n+1}} f(q(x_{i+1/2},t))dt$ be the appx. average flux $f$ from cell $i$ into $i+1$."
   ]
  },
  {
   "cell_type": "markdown",
   "metadata": {
    "slideshow": {
     "slide_type": "fragment"
    }
   },
   "source": [
    "Rearranging, we get a general update scheme\n",
    "\n",
    "$Q_{i}^{n+1} = Q_{i}^{n} - \\frac{\\Delta t}{\\Delta x}(F_{i+1/2}^{n} - F_{i-1/2}^{n}) $"
   ]
  },
  {
   "cell_type": "code",
   "execution_count": 219,
   "metadata": {
    "collapsed": false
   },
   "outputs": [
    {
     "data": {
      "text/plain": [
       "update_qs! (generic function with 1 method)"
      ]
     },
     "execution_count": 219,
     "metadata": {},
     "output_type": "execute_result"
    }
   ],
   "source": [
    "function update_qs!(qs::QS, Fl::QS, Fr::QS, ncells::Int,\n",
    "                    dx::Float, dt::Float)\n",
    "    \n",
    "    for x = 2:ncells+1\n",
    "        qs[x] -= dt/dx * (Fr[x] + Fl[x-1])\n",
    "    end\n",
    "end"
   ]
  },
  {
   "cell_type": "markdown",
   "metadata": {},
   "source": [
    "| Math              | Code        | Description |\n",
    "|----------------   |-------------|-------------|\n",
    "|  $Q_{i}^{n}$      | ```qs[x]``` | 1D array of Q containing solution states\n",
    "|  $F_{i+1/2}^{n}$  | ```Fr[x]``` | 1D array of Q containing flux flowing right \n",
    "|  $F_{i-1/2}^{n}$  | ```Fl[x]``` | 1D array of Q containing flux flowing left\n",
    "\n",
    "* Each buffer is of length ```ncells+2```, accounting for ghost cells at either end\n",
    "* Functions suffixed with a ! update one or more of their buffers in-place"
   ]
  },
  {
   "cell_type": "markdown",
   "metadata": {
    "slideshow": {
     "slide_type": "slide"
    }
   },
   "source": [
    "# Timestepping loop"
   ]
  },
  {
   "cell_type": "code",
   "execution_count": 41,
   "metadata": {
    "collapsed": false,
    "slideshow": {
     "slide_type": "-"
    }
   },
   "outputs": [
    {
     "data": {
      "text/plain": [
       "run_experiment (generic function with 1 method)"
      ]
     },
     "execution_count": 41,
     "metadata": {},
     "output_type": "execute_result"
    }
   ],
   "source": [
    "function run_experiment(stoptime, ncells::Int, choose_dt,\n",
    "                        compute_fluxes!, apply_bcs!, apply_ics)\n",
    "\n",
    "    qs = apply_ics(ncells)\n",
    "    Fl = QS(ncells+2)\n",
    "    Fr = QS(ncells+2)\n",
    "\n",
    "    currenttime = 0\n",
    "    timesteps = 0\n",
    "    dx = Float(1000.0/ncells)\n",
    "    \n",
    "    while currenttime < stoptime\n",
    "        apply_bcs!(qs)\n",
    "        dt = choose_dt(qs, dx)\n",
    "        compute_fluxes!(qs, Fl, Fr, ncells, dx, dt)\n",
    "        update_qs!(qs, Fl, Fr, ncells, dx, dt)\n",
    "        currenttime += dt\n",
    "        timesteps += 1\n",
    "    end\n",
    "    return (qs, currenttime, timesteps)\n",
    "end"
   ]
  },
  {
   "cell_type": "markdown",
   "metadata": {
    "slideshow": {
     "slide_type": "slide"
    }
   },
   "source": [
    "# Timestepping loop for animations\n",
    "* Outer timesteps correspond to clean increments of physical time\n",
    "* An outer loop controls outer timesteps by iterating over stoptime\n",
    "* Inner timesteps correspond to increments of dt\n",
    "* Inner timesteps go up to stop time exactly"
   ]
  },
  {
   "cell_type": "code",
   "execution_count": 113,
   "metadata": {
    "collapsed": false,
    "slideshow": {
     "slide_type": "-"
    }
   },
   "outputs": [
    {
     "data": {
      "text/plain": [
       "run_experiment! (generic function with 2 methods)"
      ]
     },
     "execution_count": 113,
     "metadata": {},
     "output_type": "execute_result"
    }
   ],
   "source": [
    "function run_experiment!(qs, Fl, Fr, \n",
    "                         currenttime::Real, stoptime::Real, \n",
    "                         ncells::Int, \n",
    "                         choose_dt, compute_fluxes!, apply_bcs!)\n",
    "\n",
    "    timesteps = 0\n",
    "    dx = Float(1000.0/ncells)\n",
    "    \n",
    "    while currenttime < stoptime\n",
    "        apply_bcs!(qs)\n",
    "        dt = choose_dt(qs, dx)\n",
    "        if currenttime + dt > stoptime\n",
    "            dt = stoptime - currenttime\n",
    "        end\n",
    "        compute_fluxes!(qs, Fl, Fr, ncells, dx, dt)\n",
    "        update_qs!(qs, Fl, Fr, ncells, dx, dt)\n",
    "        currenttime += dt\n",
    "        timesteps += 1\n",
    "    end\n",
    "    return (qs, currenttime, timesteps)\n",
    "end"
   ]
  },
  {
   "cell_type": "markdown",
   "metadata": {
    "slideshow": {
     "slide_type": "slide"
    }
   },
   "source": [
    "# Lax-Friedrichs by accident\n",
    "\n",
    "Consider the simplest choice of F: \n",
    "\n",
    "$ F_{i-1/2} = \\frac{1}{2}[f(Q_{i-1} + f(Q_i)] $\n",
    "\n",
    "$ Q_i^{n+1} = Q_i^n - \\frac{\\Delta t}{2 \\Delta x} [f(Q_{i+1}^n) - f(Q_{i-1}^n)]$\n",
    "\n",
    "Unfortunately this is unstable. \n",
    "\n",
    "Instead, replace $Q_i^n$ with $\\frac{1}{2}(Q_{i-1}^n + Q_{i+1}^n)$\n",
    "\n",
    "$ Q_i^{n+1} = \\frac{1}{2}(Q_{i-1}^n + Q_{i+1}^n) - \\frac{\\Delta t}{2 \\Delta x} [f(Q_{i+1}^n) - f(Q_{i-1}^n)]$\n",
    "\n",
    "Rearrange to get a flux update function:\n",
    "\n",
    "$ F_{i-1/2} = \\frac{1}{2} [ f(Q_{i-1}) + f(Q_i) - a(Q_i - Q_{i-1})]$ \n"
   ]
  },
  {
   "cell_type": "markdown",
   "metadata": {
    "slideshow": {
     "slide_type": "slide"
    }
   },
   "source": [
    "# Lax-Friedrichs Solver\n",
    "* Input:  Buffers for $q(x), F_l(x), F_r(x)$, cell and timestep sizes\n",
    "* Output: Updated inter-cell flux buffers\n"
   ]
  },
  {
   "cell_type": "code",
   "execution_count": 40,
   "metadata": {
    "collapsed": false,
    "slideshow": {
     "slide_type": "-"
    }
   },
   "outputs": [
    {
     "data": {
      "text/plain": [
       "lxf! (generic function with 1 method)"
      ]
     },
     "execution_count": 40,
     "metadata": {},
     "output_type": "execute_result"
    }
   ],
   "source": [
    "function lxf!(qs::QS, Fl::QS, Fr::QS, ncells::Int, \n",
    "              dx::Float, dt::Float)\n",
    "    \n",
    "    a = dx/dt\n",
    "    \n",
    "    for x = 2:ncells+2\n",
    "\n",
    "        ql = qs[x-1]\n",
    "        qr = qs[x]\n",
    "        fl = f(ql)\n",
    "        fr = f(qr)        \n",
    "\n",
    "        Fr[x-1] = 0.5*((fr - fl) - a*(qr - ql))\n",
    "        Fl[x-1] = 0.5*((fr - fl) + a*(qr - ql))\n",
    "    end\n",
    "end"
   ]
  },
  {
   "cell_type": "code",
   "execution_count": 8,
   "metadata": {
    "collapsed": false,
    "slideshow": {
     "slide_type": "skip"
    }
   },
   "outputs": [
    {
     "data": {
      "text/plain": [
       "plotxh! (generic function with 1 method)"
      ]
     },
     "execution_count": 8,
     "metadata": {},
     "output_type": "execute_result"
    }
   ],
   "source": [
    "# Set up plotting infrastructure\n",
    "using Plots\n",
    "pyplot()\n",
    "\n",
    "function plotxh(qs, title)\n",
    "    xs = linspace(0,1,length(qs))\n",
    "    hs = map(q->q.h, qs)\n",
    "    plot(xs, hs, title=title, xlabel=\"x [m]\", ylabel=\"height [m]\", ylim=(0.,2.5), legend=false)\n",
    "end\n",
    "\n",
    "function plotxhul(qs, title)\n",
    "    p0 = plot(map(q->q.h, qs), xlabel=\"x [m]\", ylabel=\"height [m]\", title=title)\n",
    "    p1 = plot(map(q->q.hu, qs), xlabel=\"x [m]\", ylabel=\"hu\")\n",
    "    p2 = plot(map(wavespeed, qs), xlabel=\"x [m]\", ylabel=\"\\$\\\\lambda_{max}\\$ [m/s]\")\n",
    "    plot(p0,p1,p2,layout=(3,1),legend=false)\n",
    "end\n",
    "\n",
    "function plotxhs(qss, labels, title)\n",
    "    p = plot(title=title, xlabel=\"x [m]\", ylabel=\"height [m]\", ylim=(0.,2.5))\n",
    "    for i=1:length(qss)\n",
    "        x = linspace(0,1,length(qss[i])-2)\n",
    "        plot!(x, map(q->q.h, qss[i]), label=labels[i])\n",
    "    end\n",
    "    p\n",
    "end\n",
    "\n",
    "function plotxh(title)\n",
    "    plot(title=title, xlabel=\"x [m]\", ylabel=\"height [m]\", ylim=(0.,2.5))\n",
    "end\n",
    "\n",
    "function plotxh!(p, qs, label)\n",
    "    xs = linspace(0,1,length(qs))\n",
    "    hs = map(q->q.h, qs)\n",
    "    plot!(p, xs, hs, label=label)\n",
    "end\n",
    "    \n"
   ]
  },
  {
   "cell_type": "markdown",
   "metadata": {
    "slideshow": {
     "slide_type": "slide"
    }
   },
   "source": [
    "# Gaussian Initial Condition"
   ]
  },
  {
   "cell_type": "code",
   "execution_count": 7,
   "metadata": {
    "collapsed": false,
    "slideshow": {
     "slide_type": "-"
    }
   },
   "outputs": [
    {
     "ename": "LoadError",
     "evalue": "\u001b[91mUndefVarError: plotxh not defined\u001b[39m",
     "output_type": "error",
     "traceback": [
      "\u001b[91mUndefVarError: plotxh not defined\u001b[39m",
      "",
      "Stacktrace:",
      " [1] \u001b[1minclude_string\u001b[22m\u001b[22m\u001b[1m(\u001b[22m\u001b[22m::String, ::String\u001b[1m)\u001b[22m\u001b[22m at \u001b[1m./loading.jl:515\u001b[22m\u001b[22m"
     ]
    }
   ],
   "source": [
    "function gaussian_ics(ncells::Int)\n",
    "    qs = QS(ncells+2)\n",
    "    mid = ncells / 2.0 + 1\n",
    "    for x = 1:ncells+2\n",
    "        pos_rel = (mid-x) / (ncells/10.0)\n",
    "        qs[x] = Q(exp(-pos_rel^2) + 1, 0.0)\n",
    "    end\n",
    "    return qs\n",
    "end\n",
    "plotxh(gaussian_ics(100), \"Gaussian initial conditions\")"
   ]
  },
  {
   "cell_type": "markdown",
   "metadata": {
    "slideshow": {
     "slide_type": "slide"
    }
   },
   "source": [
    "# Breaking Dam Initial Conditions"
   ]
  },
  {
   "cell_type": "code",
   "execution_count": 107,
   "metadata": {
    "collapsed": false
   },
   "outputs": [
    {
     "data": {
      "text/html": [
       "<img src=\"data:image/png;base64,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\" />"
      ]
     },
     "execution_count": 107,
     "metadata": {},
     "output_type": "execute_result"
    }
   ],
   "source": [
    "function breakingdam_ics(ncells::Int)\n",
    "    [x < ncells/2+1 ? Q(2,0) : Q(1,0) for x in 1:ncells+2]\n",
    "end\n",
    "\n",
    "plotxh(breakingdam_ics(100), \"Breaking dam initial conditions\")"
   ]
  },
  {
   "cell_type": "markdown",
   "metadata": {
    "slideshow": {
     "slide_type": "slide"
    }
   },
   "source": [
    "# Boundary Conditions"
   ]
  },
  {
   "cell_type": "code",
   "execution_count": 176,
   "metadata": {
    "collapsed": false
   },
   "outputs": [
    {
     "data": {
      "text/plain": [
       "reflecting_bcs! (generic function with 1 method)"
      ]
     },
     "execution_count": 176,
     "metadata": {},
     "output_type": "execute_result"
    }
   ],
   "source": [
    "\n",
    "function outflow_bcs!(qs::QS)\n",
    "    qs[1] = qs[2]\n",
    "    qs[end] = qs[end-1]\n",
    "end\n",
    "\n",
    "function periodic_bcs!(qs::QS)\n",
    "    qs[1] = qs[end-1]\n",
    "    qs[end] = qs[2]\n",
    "end\n",
    "\n",
    "function reflecting_bcs!(qs::QS)\n",
    "    qs[1].h = qs[2].h\n",
    "    qs[1].hu = -qs[2].hu\n",
    "    qs[end].h = qs[end-1].h\n",
    "    qs[end].hu = -qs[end-1].hu\n",
    "end"
   ]
  },
  {
   "cell_type": "markdown",
   "metadata": {
    "slideshow": {
     "slide_type": "slide"
    }
   },
   "source": [
    "# Timestep strategies\n",
    "\n",
    "* Idea: Strategies are simply functions\n",
    "* Timestep strategy always has the signature $ ([q], \\Delta x) \\mapsto \\Delta t $\n",
    "* Use _currying_ to pass configuration information\n",
    "* Use _closures_ to hold any state that may change at runtime "
   ]
  },
  {
   "cell_type": "code",
   "execution_count": 221,
   "metadata": {
    "collapsed": false
   },
   "outputs": [
    {
     "data": {
      "text/plain": [
       "make_lagging_dt (generic function with 1 method)"
      ]
     },
     "execution_count": 221,
     "metadata": {},
     "output_type": "execute_result"
    }
   ],
   "source": [
    "function make_const_dt(dt)\n",
    "    return (qs, dx) -> dt\n",
    "end\n",
    "\n",
    "function make_cfl_dt(correction::Float)\n",
    "    return (qs, dx) -> cfl_dt(qs, dx, correction)\n",
    "end\n",
    "\n",
    "function make_lagging_dt(dt0, correction)\n",
    "    dt = dt0\n",
    "    function lagging_dt(qs, dx)\n",
    "        result = dt\n",
    "        dt = cfl_dt(qs, dx, correction)\n",
    "        return result\n",
    "    end\n",
    "    return lagging_dt\n",
    "end"
   ]
  },
  {
   "cell_type": "markdown",
   "metadata": {
    "slideshow": {
     "slide_type": "slide"
    }
   },
   "source": [
    "# Lax-Friedrichs solutions"
   ]
  },
  {
   "cell_type": "code",
   "execution_count": 198,
   "metadata": {
    "collapsed": false,
    "slideshow": {
     "slide_type": "skip"
    }
   },
   "outputs": [
    {
     "name": "stderr",
     "output_type": "stream",
     "text": [
      "\u001b[1m\u001b[36mINFO: \u001b[39m\u001b[22m\u001b[36mSaved animation to /Users/nathanwbrei/src/shallow_water/animations/breakingdam_lxf_reflecting.gif\n",
      "\u001b[39m"
     ]
    }
   ],
   "source": [
    "ncells = 500\n",
    "t0 = 0\n",
    "qs = breakingdam_ics(ncells)\n",
    "Fl = QS(ncells+2)\n",
    "Fr = QS(ncells+2)\n",
    "a = @animate for t=0.0:4.0:2000.0\n",
    "    qs,t0,ts = run_experiment!(qs, Fl, Fr, t0, t, ncells, make_cfl_dt(1.0), lxf!, reflecting_bcs!)\n",
    "    plotxh(qs, \"Lax-Friedrichs, breaking dam, reflecting boundaries, t=$t\")\n",
    "end\n",
    "figure24 = gif(a, \"animations/breakingdam_lxf_reflecting.gif\", fps = 20);"
   ]
  },
  {
   "cell_type": "code",
   "execution_count": 199,
   "metadata": {
    "collapsed": false
   },
   "outputs": [
    {
     "data": {
      "text/html": [
       "<img src=\"animations/breakingdam_lxf_reflecting.gif?0.8293374703371885>\" />"
      ],
      "text/plain": [
       "Plots.AnimatedGif(\"/Users/nathanwbrei/src/shallow_water/animations/breakingdam_lxf_reflecting.gif\")"
      ]
     },
     "execution_count": 199,
     "metadata": {},
     "output_type": "execute_result"
    }
   ],
   "source": [
    "figure24"
   ]
  },
  {
   "cell_type": "markdown",
   "metadata": {},
   "source": [
    "* Breaking dam scenario with reflecting boundary conditions, $t=0..2000, ncells=500, x=1.0$\n"
   ]
  },
  {
   "cell_type": "markdown",
   "metadata": {
    "slideshow": {
     "slide_type": "slide"
    }
   },
   "source": [
    "# Lax-Friedrichs solutions"
   ]
  },
  {
   "cell_type": "code",
   "execution_count": 194,
   "metadata": {
    "collapsed": false,
    "slideshow": {
     "slide_type": "skip"
    }
   },
   "outputs": [
    {
     "data": {
      "text/plain": [
       "Plots.Animation(\"/var/folders/1k/q68xhskx4ks0dfs38lkh72y40000gn/T/tmpJuhzNT\", String[\"000001.png\", \"000002.png\", \"000003.png\", \"000004.png\", \"000005.png\", \"000006.png\", \"000007.png\", \"000008.png\", \"000009.png\", \"000010.png\"  …  \"000192.png\", \"000193.png\", \"000194.png\", \"000195.png\", \"000196.png\", \"000197.png\", \"000198.png\", \"000199.png\", \"000200.png\", \"000201.png\"])"
      ]
     },
     "execution_count": 194,
     "metadata": {},
     "output_type": "execute_result"
    }
   ],
   "source": [
    "ncells = 100\n",
    "t0 = 0\n",
    "qs = gaussian_ics(ncells)\n",
    "Fl = QS(ncells+2)\n",
    "Fr = QS(ncells+2)\n",
    "a = @animate for t=0:4:800\n",
    "    qs,t0,ts = run_experiment!(qs, Fl, Fr, t0, t, ncells, make_cfl_dt(1.0), lxf!, periodic_bcs!)\n",
    "    plotxh(qs, \"Lax-Friedrichs, gaussian, periodic boundaries, t=$t\")\n",
    "end\n",
    "anim22 = a"
   ]
  },
  {
   "cell_type": "code",
   "execution_count": 195,
   "metadata": {
    "collapsed": false,
    "slideshow": {
     "slide_type": "skip"
    }
   },
   "outputs": [
    {
     "name": "stderr",
     "output_type": "stream",
     "text": [
      "\u001b[1m\u001b[36mINFO: \u001b[39m\u001b[22m\u001b[36mSaved animation to /Users/nathanwbrei/src/shallow_water/animations/gauss_lxf.gif\n",
      "\u001b[39m"
     ]
    }
   ],
   "source": [
    "figure22 = gif(anim22, \"animations/gauss_lxf.gif\", fps = 20);"
   ]
  },
  {
   "cell_type": "code",
   "execution_count": 196,
   "metadata": {
    "collapsed": false,
    "slideshow": {
     "slide_type": "-"
    }
   },
   "outputs": [
    {
     "data": {
      "text/html": [
       "<img src=\"animations/gauss_lxf.gif?0.8756549720694768>\" />"
      ],
      "text/plain": [
       "Plots.AnimatedGif(\"/Users/nathanwbrei/src/shallow_water/animations/gauss_lxf.gif\")"
      ]
     },
     "execution_count": 196,
     "metadata": {},
     "output_type": "execute_result"
    }
   ],
   "source": [
    "figure22"
   ]
  },
  {
   "cell_type": "markdown",
   "metadata": {},
   "source": [
    "* Gaussian scenario with periodic boundaries, $t=800, ncells=100, w=1.0$"
   ]
  },
  {
   "cell_type": "markdown",
   "metadata": {
    "slideshow": {
     "slide_type": "slide"
    }
   },
   "source": [
    "# Effect of timestep correction term"
   ]
  },
  {
   "cell_type": "code",
   "execution_count": 213,
   "metadata": {
    "collapsed": false
   },
   "outputs": [
    {
     "data": {
      "text/html": [
       "<img src=\"data:image/png;base64,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\" />"
      ]
     },
     "metadata": {},
     "output_type": "display_data"
    }
   ],
   "source": [
    "p = plotxh(\"Gaussian with different correction terms\")\n",
    "for w = [0.1, 0.3, 0.5, 0.7, 0.9]\n",
    "    qs,t,ts = run_experiment(50, 500, make_cfl_dt(w), lxf!, periodic_bcs!, gaussian_ics)\n",
    "    plotxh!(p, qs, \"w=$w [$ts timesteps]\")\n",
    "end\n",
    "display(p)"
   ]
  },
  {
   "cell_type": "markdown",
   "metadata": {
    "slideshow": {
     "slide_type": "slide"
    }
   },
   "source": [
    "# Effect of timestep correction term"
   ]
  },
  {
   "cell_type": "code",
   "execution_count": 212,
   "metadata": {
    "collapsed": false
   },
   "outputs": [
    {
     "data": {
      "text/html": [
       "<img src=\"data:image/png;base64,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\" />"
      ]
     },
     "metadata": {},
     "output_type": "display_data"
    }
   ],
   "source": [
    "p = plotxh(\"Breaking Dam with different correction terms\")\n",
    "for w = [0.1, 0.5, 0.9]\n",
    "    qs,t,ts = run_experiment(50, 1000, make_cfl_dt(w), lxf!, outflow_bcs!, breakingdam_ics)\n",
    "    plotxh!(p, qs, \"w=$w [$ts timesteps]\")\n",
    "end\n",
    "display(p)"
   ]
  },
  {
   "cell_type": "markdown",
   "metadata": {
    "slideshow": {
     "slide_type": "slide"
    }
   },
   "source": [
    "# Artificial Viscosity\n",
    "\n",
    "Idea: An approximate solution is often an exact solution to an approximate problem. \n",
    "\n",
    "Consider $q_t + {f_{SWE}(q)}_x = 0 \\implies F_{i+1/2} = 1/2 (f_{SWE}(Q_{i+1/2} + f_{SWE}(Q_{i-1/2})) $\n",
    "\n",
    "Consider $q_t = \\beta q_{xx} \\implies F_{i+1/2} = -\\frac{\\Delta x^2}{2 \\Delta t} \\frac{Q_{i+1/2} - Q_{i-1/2}}{\\Delta x}$\n",
    "\n",
    "Our Lax-Friedrichs solver looks like:\n",
    "\n",
    "$ F_{i-1/2} = \\frac{1}{2} [f(Q_{i-1}) + f(Q_i)] - \\frac{\\Delta x}{2\\Delta t}[Q_i - Q_{i-1}]$ \n",
    "\n",
    "Which can be decomposed to:\n",
    "\n",
    "$ q_t + f_{SWE}(q)_x = \\frac{(\\Delta x)^2}{2\\Delta t} q_{xx} $\n",
    "\n",
    "Apparent viscosity $\\beta = \\frac{(\\Delta x)^2}{2\\Delta t} = \\frac{a \\Delta x}{2}$\n",
    "\n",
    "Consistency: $\\beta \\to 0$ if $a = \\frac{\\Delta x}{\\Delta t}$ is held constant as $\\Delta x \\to 0$ \n"
   ]
  },
  {
   "cell_type": "markdown",
   "metadata": {
    "slideshow": {
     "slide_type": "slide"
    }
   },
   "source": [
    "# Local Lax-Friedrichs / Rusanov Improvement\n",
    "\n",
    "For Lax-Friedrichs, the viscosity $a$ is constant over the whole domain\n",
    "\n",
    "* Idea: Viscosity should vary over spatial domain\n",
    "\n",
    "* Idea: Only need to smooth areas with high wave speeds\n",
    "\n",
    "Let $a_{i-1/2} = max(\\lvert f'(q) \\rvert) \\ \\forall q \\in (Q_{i-1}, Q_{i})$\n",
    "\n",
    "Then $ F_{i-1/2} = \\frac{1}{2}[f(Q_{i-1}) + f(Q_i) - a_{i-1/2}(Q_i - Q_{i-1})]$\n",
    "\n",
    "* This is strictly less viscous than ordinary LxF due to CFL:\n",
    "\n",
    "$\\lvert f'(q)\\rvert \\leq \\frac{\\Delta x}{\\Delta t}$\n",
    "\n"
   ]
  },
  {
   "cell_type": "code",
   "execution_count": 229,
   "metadata": {
    "collapsed": false,
    "slideshow": {
     "slide_type": "slide"
    }
   },
   "outputs": [
    {
     "data": {
      "text/html": [
       "<img src=\"data:image/png;base64,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\" />"
      ]
     },
     "execution_count": 229,
     "metadata": {},
     "output_type": "execute_result"
    }
   ],
   "source": [
    "qs,t,ts = run_experiment(60, 100, cfl_dt, lxf!, periodic_bcs!, gaussian_ics)\n",
    "plotxhul(qs, \"State space and wavespeed, Gaussian scenario\")"
   ]
  },
  {
   "cell_type": "markdown",
   "metadata": {
    "slideshow": {
     "slide_type": "slide"
    }
   },
   "source": [
    "# Local Lax Friedrichs (Rusanov) Implementation"
   ]
  },
  {
   "cell_type": "code",
   "execution_count": 45,
   "metadata": {
    "collapsed": false,
    "slideshow": {
     "slide_type": "-"
    }
   },
   "outputs": [
    {
     "data": {
      "text/plain": [
       "llxf! (generic function with 1 method)"
      ]
     },
     "execution_count": 45,
     "metadata": {},
     "output_type": "execute_result"
    }
   ],
   "source": [
    "function llxf!(qs::QS, Fl::QS, Fr::QS, ncells::Int, \n",
    "               dx::Float, dt::Float)\n",
    "    \n",
    "    for x = 2:ncells+2\n",
    "\n",
    "        ql = qs[x-1]\n",
    "        qr = qs[x]\n",
    "        fl = f(ql)\n",
    "        fr = f(qr)  \n",
    "\n",
    "        a = max(wavespeed(ql), wavespeed(qr))\n",
    "        \n",
    "        Fr[x-1] = 0.5*((fr - fl) - a*(qr - ql))\n",
    "        Fl[x-1] = 0.5*((fr - fl) + a*(qr - ql))\n",
    "    end\n",
    "end"
   ]
  },
  {
   "cell_type": "markdown",
   "metadata": {
    "slideshow": {
     "slide_type": "slide"
    }
   },
   "source": [
    "# Comparing Lax-Friedrich to Local-Lax-Friedrich"
   ]
  },
  {
   "cell_type": "code",
   "execution_count": 91,
   "metadata": {
    "collapsed": false,
    "slideshow": {
     "slide_type": "skip"
    }
   },
   "outputs": [],
   "source": [
    "q1,t,ts = run_experiment(50, 500, make_cfl_dt(0.3), llxf!, outflow_bcs!, breakingdam_ics)\n",
    "q2,t,ts = run_experiment(50, 500, make_cfl_dt(0.3), lxf!, outflow_bcs!, breakingdam_ics)\n",
    "p = plotxh(\"Breaking Dam using LxF vs Local-LxF\")\n",
    "plotxh!(p, q1, \"LLxF [$ts timesteps]\")\n",
    "plotxh!(p, q2, \"LxF [$ts timesteps]\")\n",
    "figure1 = p;"
   ]
  },
  {
   "cell_type": "code",
   "execution_count": 226,
   "metadata": {
    "collapsed": false,
    "slideshow": {
     "slide_type": "skip"
    }
   },
   "outputs": [
    {
     "name": "stderr",
     "output_type": "stream",
     "text": [
      "\u001b[1m\u001b[36mINFO: \u001b[39m\u001b[22m\u001b[36mSaved animation to /Users/nathanwbrei/src/shallow_water/animations/breakingdam_reflecting_cmp.gif\n",
      "\u001b[39m"
     ]
    }
   ],
   "source": [
    "ncells = 200\n",
    "\n",
    "t0 = 0\n",
    "qs = breakingdam_ics(ncells)\n",
    "Fl = Array{Q,1}(ncells+2)\n",
    "Fr = Array{Q,1}(ncells+2)\n",
    "\n",
    "t0l = 0\n",
    "qsl = breakingdam_ics(ncells)\n",
    "Fll = Array{Q,1}(ncells+2)\n",
    "Frl = Array{Q,1}(ncells+2)\n",
    "\n",
    "a = @animate for t=0.0:4.0:1000.0\n",
    "    p = plotxh(\"Breaking dam, reflecting boundaries, t=$t\")\n",
    "    q,t0,ts = run_experiment!(qs, Fl, Fr, t0, t, ncells, make_cfl_dt(0.4), lxf!, reflecting_bcs!)\n",
    "    ql,t0l,tsl = run_experiment!(qsl, Fll, Frl, t0l, t, ncells, make_cfl_dt(0.4), llxf!, reflecting_bcs!)\n",
    "    plotxh!(p, q, \"LxF w=0.4, timesteps=$ts\")\n",
    "    plotxh!(p, ql, \"LLxF w=0.4, timesteps=$tsl\")\n",
    "end\n",
    "figure31 = gif(a, \"animations/breakingdam_reflecting_cmp.gif\", fps = 20);"
   ]
  },
  {
   "cell_type": "code",
   "execution_count": 208,
   "metadata": {
    "collapsed": false,
    "slideshow": {
     "slide_type": "-"
    }
   },
   "outputs": [
    {
     "data": {
      "text/html": [
       "<img src=\"animations/breakingdam_reflecting_cmp.gif?0.19035386887478944>\" />"
      ],
      "text/plain": [
       "Plots.AnimatedGif(\"/Users/nathanwbrei/src/shallow_water/animations/breakingdam_reflecting_cmp.gif\")"
      ]
     },
     "execution_count": 208,
     "metadata": {},
     "output_type": "execute_result"
    }
   ],
   "source": [
    "figure31"
   ]
  },
  {
   "cell_type": "markdown",
   "metadata": {},
   "source": [
    "* Run breaking dam scenario with $t=0..1000, ncells=200, correction=0.4$\n",
    "* Both waves propagate at the same speed, no apparent loss of conserved quantities\n",
    "* Local-Lax-Friedrich dissipates less than Lax-Friedrich for the same correction factor\n",
    "* Local-Lax-Friedrich is smooth, whereas Lax-Friedrich exhibits stairstepping"
   ]
  },
  {
   "cell_type": "markdown",
   "metadata": {
    "slideshow": {
     "slide_type": "slide"
    }
   },
   "source": [
    "# Comparing Lax-Friedrich to Local-Lax-Friedrich"
   ]
  },
  {
   "cell_type": "code",
   "execution_count": 153,
   "metadata": {
    "collapsed": false,
    "slideshow": {
     "slide_type": "skip"
    }
   },
   "outputs": [],
   "source": [
    "p = plotxh(\"Breaking Dam comparison of LxF vs Local-LxF\")\n",
    "for w = [0.1, 0.4, 0.9]\n",
    "    qs,t,ts = run_experiment(50, 200, make_cfl_dt(w), llxf!, outflow_bcs!, breakingdam_ics)\n",
    "    plotxh!(p, qs, \"LLxF w=$w [$ts timesteps]\")\n",
    "end\n",
    "qs,t,ts = run_experiment(50, 200, make_cfl_dt(1.0), lxf!, outflow_bcs!, breakingdam_ics)\n",
    "plotxh!(p, qs, \"LxF w=1.0 [$ts timesteps]\")\n",
    "figure2 = p;"
   ]
  },
  {
   "cell_type": "code",
   "execution_count": 154,
   "metadata": {
    "collapsed": false,
    "slideshow": {
     "slide_type": "skip"
    }
   },
   "outputs": [
    {
     "data": {
      "text/html": [
       "<img src=\"data:image/png;base64,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\" />"
      ]
     },
     "execution_count": 154,
     "metadata": {},
     "output_type": "execute_result"
    }
   ],
   "source": [
    "figure2"
   ]
  },
  {
   "cell_type": "code",
   "execution_count": 209,
   "metadata": {
    "collapsed": false,
    "slideshow": {
     "slide_type": "skip"
    }
   },
   "outputs": [],
   "source": [
    "a = @animate for w = 0.1:0.1:1.0\n",
    "    qll,t,tsl = run_experiment(50, 200, make_cfl_dt(w), llxf!, outflow_bcs!, breakingdam_ics)\n",
    "    ql,t,ts   = run_experiment(50, 200, make_cfl_dt(w), lxf!, outflow_bcs!, breakingdam_ics)\n",
    "    p = plotxh(\"Breaking Dam comparison of LxF vs Local-LxF\")\n",
    "    plotxh!(p, qll, \"LLxF w=$w\")\n",
    "    plotxh!(p, ql, \"LxF w=$w\")\n",
    "end\n",
    "llxf_w_lt_1 = a;"
   ]
  },
  {
   "cell_type": "code",
   "execution_count": 210,
   "metadata": {
    "collapsed": false,
    "slideshow": {
     "slide_type": "skip"
    }
   },
   "outputs": [
    {
     "name": "stderr",
     "output_type": "stream",
     "text": [
      "\u001b[1m\u001b[36mINFO: \u001b[39m\u001b[22m\u001b[36mSaved animation to /Users/nathanwbrei/src/shallow_water/animations/llxf_w_lt_1.gif\n",
      "\u001b[39m"
     ]
    }
   ],
   "source": [
    "figure3 = gif(llxf_w_lt_1, \"animations/llxf_w_lt_1.gif\", fps = 10);"
   ]
  },
  {
   "cell_type": "code",
   "execution_count": 211,
   "metadata": {
    "collapsed": false,
    "slideshow": {
     "slide_type": "-"
    }
   },
   "outputs": [
    {
     "data": {
      "text/html": [
       "<img src=\"animations/llxf_w_lt_1.gif?0.1747817274746899>\" />"
      ],
      "text/plain": [
       "Plots.AnimatedGif(\"/Users/nathanwbrei/src/shallow_water/animations/llxf_w_lt_1.gif\")"
      ]
     },
     "execution_count": 211,
     "metadata": {},
     "output_type": "execute_result"
    }
   ],
   "source": [
    "figure3"
   ]
  },
  {
   "cell_type": "markdown",
   "metadata": {
    "slideshow": {
     "slide_type": "-"
    }
   },
   "source": [
    "* For Lax-Friedrich, $w$ affects dissipation\n",
    "* For Local-Lax-Friedrich, $w$ affects dissipation much less\n",
    "* Lax-Friedrich approaches Local-Lax-Friedrich as $w \\to 1.0$\n",
    "* Both methods are unstable for $w > 1.0$ due to CFL violation"
   ]
  },
  {
   "cell_type": "markdown",
   "metadata": {
    "slideshow": {
     "slide_type": "slide"
    }
   },
   "source": [
    "# Comparing Lax-Friedrich to Local-Lax-Friedrich"
   ]
  },
  {
   "cell_type": "code",
   "execution_count": 215,
   "metadata": {
    "collapsed": false,
    "slideshow": {
     "slide_type": "skip"
    }
   },
   "outputs": [
    {
     "name": "stderr",
     "output_type": "stream",
     "text": [
      "\u001b[1m\u001b[36mINFO: \u001b[39m\u001b[22m\u001b[36mSaved animation to /Users/nathanwbrei/src/shallow_water/animations/gaussian_cmp.gif\n",
      "\u001b[39m"
     ]
    }
   ],
   "source": [
    "ncells = 200\n",
    "\n",
    "t0 = 0\n",
    "qs = gaussian_ics(ncells)\n",
    "Fl = Array{Q,1}(ncells+2)\n",
    "Fr = Array{Q,1}(ncells+2)\n",
    "\n",
    "t0l = 0\n",
    "qsl = gaussian_ics(ncells)\n",
    "Fll = Array{Q,1}(ncells+2)\n",
    "Frl = Array{Q,1}(ncells+2)\n",
    "\n",
    "a = @animate for t=0.0:4.0:1000.0\n",
    "    p = plotxh(\"Gaussian, periodic boundaries, t=$t\")\n",
    "    q,t0,ts = run_experiment!(qs, Fl, Fr, t0, t, ncells, make_cfl_dt(0.4), lxf!, periodic_bcs!)\n",
    "    ql,t0l,tsl = run_experiment!(qsl, Fll, Frl, t0l, t, ncells, make_cfl_dt(0.4), llxf!, periodic_bcs!)\n",
    "    plotxh!(p, q, \"LxF w=0.4, timesteps=$ts\")\n",
    "    plotxh!(p, ql, \"LLxF w=0.4, timesteps=$tsl\")\n",
    "end\n",
    "figure32 = gif(a, \"animations/gaussian_cmp.gif\", fps = 20);"
   ]
  },
  {
   "cell_type": "code",
   "execution_count": 216,
   "metadata": {
    "collapsed": false
   },
   "outputs": [
    {
     "data": {
      "text/html": [
       "<img src=\"animations/gaussian_cmp.gif?0.845637128379553>\" />"
      ],
      "text/plain": [
       "Plots.AnimatedGif(\"/Users/nathanwbrei/src/shallow_water/animations/gaussian_cmp.gif\")"
      ]
     },
     "execution_count": 216,
     "metadata": {},
     "output_type": "execute_result"
    }
   ],
   "source": [
    "figure31"
   ]
  },
  {
   "cell_type": "markdown",
   "metadata": {},
   "source": [
    "* Run gaussian scenario with $t=0..1000, ncells=200, correction=0.4$"
   ]
  },
  {
   "cell_type": "markdown",
   "metadata": {
    "slideshow": {
     "slide_type": "skip"
    }
   },
   "source": [
    "# Implementation Details -- Spatial Discretization"
   ]
  },
  {
   "cell_type": "code",
   "execution_count": null,
   "metadata": {
    "collapsed": false,
    "scrolled": true,
    "slideshow": {
     "slide_type": "skip"
    }
   },
   "outputs": [],
   "source": [
    "p = plotxh(\"Gaussian for different ncells\")\n",
    "for ncells = [100,200,300,400,500,600]\n",
    "    qs,t,ts = run_experiment(2000, ncells, 1.0, periodic_bcs!, gaussian_ics)\n",
    "    plotxh!(p, qs, \"ncells=$ncells [$ts timesteps]\")\n",
    "end\n",
    "display(p)"
   ]
  },
  {
   "cell_type": "markdown",
   "metadata": {
    "slideshow": {
     "slide_type": "skip"
    }
   },
   "source": [
    "# Implementation Details -- Staircase instability from incorrect dt\n",
    "\n",
    "* The existing code skeleton does not use the $\\Delta t$ obtained from the CFL condition inside Lax-Friedrichs\n",
    "* Instead, it uses the $\\Delta t$ from the previous timestep\n",
    "* The initial value $\\Delta t_0 = 0.4\\frac{ncells}{a_{adv}}$ where $a_{adv} = 0.25$\n",
    "* This leads to a staircase instability:"
   ]
  },
  {
   "cell_type": "code",
   "execution_count": null,
   "metadata": {
    "collapsed": false,
    "slideshow": {
     "slide_type": "skip"
    }
   },
   "outputs": [],
   "source": [
    "q1,t,ts1 = run_experiment(800, 200, make_cfl_dt(0.4), lxf!, outflow_bcs!, breakingdam_ics)\n",
    "q2,t,ts2 = run_experiment(800, 200, make_lagging_dt(0.4), outflow_bcs!, breakingdam_ics)\n",
    "\n",
    "p = plotxh(\"Breaking Dam comparison of LxF vs LxF-staircase\")\n",
    "plotxh!(p, q1, \"LLxF w=0.7 [$ts1 timesteps]\")\n",
    "plotxh!(p, q2, \"LLxF_staircase w=0.7 [$ts2 timesteps]\")\n",
    "display(p)"
   ]
  },
  {
   "cell_type": "markdown",
   "metadata": {
    "slideshow": {
     "slide_type": "slide"
    }
   },
   "source": [
    "\n",
    "# Thank you!\n",
    "\n",
    "---\n"
   ]
  }
 ],
 "metadata": {
  "celltoolbar": "Slideshow",
  "kernelspec": {
   "display_name": "Julia 0.6.0",
   "language": "julia",
   "name": "julia-0.6"
  },
  "language_info": {
   "file_extension": ".jl",
   "mimetype": "application/julia",
   "name": "julia",
   "version": "0.6.0"
  }
 },
 "nbformat": 4,
 "nbformat_minor": 0
}
